{
 "cells": [
  {
   "cell_type": "markdown",
   "metadata": {},
   "source": [
    "# Stable MM toy\n",
    "Proof of concept for rigging MM without making noticeable difference against completely random MM"
   ]
  },
  {
   "cell_type": "code",
   "execution_count": 1,
   "metadata": {},
   "outputs": [],
   "source": [
    "import random\n",
    "import numpy as np"
   ]
  },
  {
   "cell_type": "markdown",
   "metadata": {},
   "source": [
    "Set number of player pools here. Player initial winrate is drawn from a truncated normal distribution. A simple normal risk an out-of-bound error.\n",
    "\n",
    "~~Use `pool_size = 100` and `seed = 50` for a significantly deviating average (52%)~~ Doesn't actually matter, since outliers is being skewered in regardless of average."
   ]
  },
  {
   "cell_type": "code",
   "execution_count": 18,
   "metadata": {},
   "outputs": [],
   "source": [
    "from scipy.stats import truncnorm\n",
    "pool_size = 100\n",
    "\n",
    "def get_truncated_normal(mean=0, sd=1, low=0, upp=10):\n",
    "    return truncnorm(\n",
    "        (low - mean) / sd, (upp - mean) / sd, loc=mean, scale=sd)\n",
    "\n",
    "np.random.seed(10)\n",
    "# participants = np.random.normal(loc=0.5, scale=0.2, size=pool_size)\n",
    "participants = get_truncated_normal(mean=0.5, sd=0.2, low=0.1, upp=0.9).rvs(pool_size)\n",
    "outlier = np.logical_or(participants >= 1.0, participants <= 0.0)\n",
    "#print(participants, outlier, np.any(outlier))\n",
    "assert not np.any(outlier), \"Error value: {}\".format(participants[outlier])"
   ]
  },
  {
   "cell_type": "code",
   "execution_count": 32,
   "metadata": {},
   "outputs": [
    {
     "name": "stdout",
     "output_type": "stream",
     "text": [
      "Stat: avg: 50.0198, log avg: 49.5365\n"
     ]
    }
   ],
   "source": [
    "# Come back to this cell when done copying syn_wrt -> participants\n",
    "print(\"Stat: avg: {:.4f}, log avg: {:.4f}\".format(np.mean(participants) * 100.0, np.exp(np.mean(np.log(participants))) * 100.0))"
   ]
  },
  {
   "cell_type": "markdown",
   "metadata": {},
   "source": [
    "After a set number of run, currently very large outliers (<30%) is being heavily skewered back into normal from any current variation of Bayes; suggesting that the impact of very good/very bad players are limited."
   ]
  },
  {
   "cell_type": "markdown",
   "metadata": {},
   "source": [
    "## Winrate calculator\n",
    "Currently using Naive Bayes. Essentially, we are assuming player contribution is completely independent of each other, so we can chain their probability together (winning team's winrate * losing team's loss rate / winning team total winloss * losing team total winloss).\n",
    "\n",
    "In practice, a barebone implementation is currently smoothing out outliers, due to their percentage being \"drowned out\" by the other players in the team approximating 50%. We will need a scaling factor to account for this; so far, the higher scaling factor, the more of the model is \"disuaded\" from moving toward the mean."
   ]
  },
  {
   "cell_type": "code",
   "execution_count": 4,
   "metadata": {},
   "outputs": [],
   "source": [
    "def independent_team(team):\n",
    "    # calculate by bayes\n",
    "    lose_perc = [1.0-v for v in team]\n",
    "    win_self = np.prod(team)\n",
    "    loss_self = np.prod(lose_perc)\n",
    "    return win_self / (win_self + loss_self), loss_self / (win_self + loss_self)\n",
    "# win rate calculation using previous fn for attacking team\n",
    "def wincalc(atk, dfn):\n",
    "    atk_win, atk_loss = independent_team(atk)\n",
    "    def_win, def_loss = independent_team(dfn)\n",
    "    # print(atk_win, atk_loss, def_win, def_loss)\n",
    "    true_win = atk_win * def_loss\n",
    "    true_loss = def_win * atk_loss\n",
    "    return true_win / (true_win + true_loss)\n",
    "\n",
    "def win_calc_alt(atk, dfn):\n",
    "    # full usage of naive bayes\n",
    "    atk_loss = np.array([1.0 - v for v in atk])\n",
    "    dfn_loss = np.array([1.0 - v for v in dfn])\n",
    "    true_win = np.prod(atk) * np.prod(dfn_loss)\n",
    "    true_loss = np.prod(atk_loss) * np.prod(dfn)\n",
    "    return true_win / (true_win + true_loss)\n",
    "\n",
    "def win_calc_log(atk, dfn):\n",
    "    atk_loss = np.array([1.0 - v for v in atk])\n",
    "    dfn_loss = np.array([1.0 - v for v in dfn])\n",
    "    law, lal, ldw, ldl = [np.log(a) for a in [atk, atk_loss, dfn, dfn_loss]]\n",
    "    lwin = np.sum(law) + np.sum(ldl)\n",
    "    lloss = np.sum(lal) + np.sum(ldw)\n",
    "    # centering to avoid possible accuracy losses\n",
    "    center = (lwin+lloss) / 2\n",
    "    true_win = np.exp(lwin - center)\n",
    "    true_loss = np.exp(lloss - center)\n",
    "    return true_win / (true_win + true_loss)"
   ]
  },
  {
   "cell_type": "code",
   "execution_count": 5,
   "metadata": {},
   "outputs": [
    {
     "name": "stdout",
     "output_type": "stream",
     "text": [
      "(array([0.49741673, 0.37537423, 0.44042396, 0.45571165, 0.63406972]), array([0.55486639, 0.54949046, 0.5184703 , 0.49994815, 0.37964754])) \n",
      " 0.4040700875675941 \n",
      " 0.4040700875675941 \n",
      " 0.40407008756759444\n"
     ]
    }
   ],
   "source": [
    "sample = participants[:10:2], participants [-9::2]\n",
    "print(sample, \"\\n\", wincalc(*sample), \"\\n\", win_calc_alt(*sample), \"\\n\", win_calc_log(*sample))"
   ]
  },
  {
   "cell_type": "markdown",
   "metadata": {},
   "source": [
    "Let's first add a flat multiplier to the log value"
   ]
  },
  {
   "cell_type": "code",
   "execution_count": 6,
   "metadata": {},
   "outputs": [],
   "source": [
    "def flat_mod_calculator(atk, dfn, logmod=1.5):\n",
    "    # rescale values at log level by power\n",
    "    bayes_wr = win_calc_alt(atk, dfn)\n",
    "    mod_wr, mod_lr = bayes_wr ** logmod, (1.0 - bayes_wr) ** logmod\n",
    "    return mod_wr / (mod_wr + mod_lr)"
   ]
  },
  {
   "cell_type": "markdown",
   "metadata": {},
   "source": [
    "The fact that up to `logmod = 10.0` make the model more stable, yet the majority of differences sign point at 0.5 suggesting this is only an ad-hoc solution and not a true approximation."
   ]
  },
  {
   "cell_type": "markdown",
   "metadata": {},
   "source": [
    "## Random MM\n",
    "Fairly straightforward: draw the 2x number for two team, use calculator above for winrate, roll, export result."
   ]
  },
  {
   "cell_type": "code",
   "execution_count": 30,
   "metadata": {},
   "outputs": [
    {
     "data": {
      "text/plain": [
       "(array([ 8, 24, 67, 87, 79]), array([48, 10, 94, 52, 98]), True)"
      ]
     },
     "execution_count": 30,
     "metadata": {},
     "output_type": "execute_result"
    }
   ],
   "source": [
    "def create_random_match(participants, preset_ids=None, num_player=5, wr_calc=wincalc, randomizer=np.random.rand):\n",
    "    # preset_ids is to prevent creating random indices for every run.\n",
    "    ids = preset_ids if preset_ids is not None else [i for i in range(len(participants))]\n",
    "    # sample 2x numplayer from pool, and split\n",
    "    match_idx = np.random.choice(ids, num_player*2)\n",
    "    match = participants[match_idx]\n",
    "    atk, dfn = match[:num_player], match[num_player:]\n",
    "    # calculate winrate\n",
    "    win_rate = wr_calc(atk, dfn)\n",
    "    # roll for result\n",
    "    result = randomizer() < win_rate\n",
    "    return match_idx[:num_player], match_idx[num_player:], result\n",
    "\n",
    "create_random_match(participants)"
   ]
  },
  {
   "cell_type": "markdown",
   "metadata": {},
   "source": [
    "## Synthetic data\n",
    "Using the functions above, we would use our completely random MM to calculate actual winning values. Win/Total is recorded into variables; `total_game` and `seed` can be set to arbitrary number.\n",
    "\n",
    "We can also add a customized variable function in `wr_calculator`, this allow us to modify the winrate formula on-the-fly"
   ]
  },
  {
   "cell_type": "code",
   "execution_count": 31,
   "metadata": {},
   "outputs": [
    {
     "name": "stdout",
     "output_type": "stream",
     "text": [
      "True/Synthesized wr: 55.16 54.92 (-0.24) over 9668\n",
      "True/Synthesized wr: 34.97 35.15 (+0.17) over 9785\n",
      "True/Synthesized wr: 53.44 53.61 (+0.16) over 9775\n",
      "True/Synthesized wr: 55.02 54.94 (-0.08) over 9908\n",
      "True/Synthesized wr: 50.48 50.45 (-0.03) over 9899\n",
      "True/Synthesized wr: 45.17 45.34 (+0.16) over 9729\n",
      "True/Synthesized wr: 44.84 45.08 (+0.24) over 9727\n",
      "True/Synthesized wr: 55.25 55.35 (+0.10) over 9693\n",
      "True/Synthesized wr: 43.80 44.30 (+0.50) over 9888\n",
      "True/Synthesized wr: 40.69 41.35 (+0.66) over 9775\n",
      "True/Synthesized wr: 53.36 52.83 (-0.54) over 9896\n",
      "True/Synthesized wr: 62.54 62.25 (-0.29) over 9840\n",
      "True/Synthesized wr: 31.65 31.12 (-0.52) over 9568\n",
      "True/Synthesized wr: 49.83 49.52 (-0.31) over 9828\n",
      "True/Synthesized wr: 56.09 55.07 (-1.02) over 9987\n",
      "True/Synthesized wr: 53.50 54.32 (+0.82) over 9758\n",
      "True/Synthesized wr: 54.87 55.05 (+0.17) over 9939\n",
      "True/Synthesized wr: 47.30 48.75 (+1.45) over 9676\n",
      "True/Synthesized wr: 61.96 62.65 (+0.69) over 9599\n",
      "True/Synthesized wr: 53.89 53.23 (-0.66) over 9805\n",
      "True/Synthesized wr: 51.13 50.56 (-0.58) over 9874\n",
      "True/Synthesized wr: 42.59 42.79 (+0.19) over 9823\n",
      "True/Synthesized wr: 47.58 47.27 (-0.31) over 9738\n",
      "True/Synthesized wr: 53.57 53.22 (-0.35) over 9696\n",
      "True/Synthesized wr: 50.12 50.41 (+0.28) over 9872\n",
      "True/Synthesized wr: 49.41 49.30 (-0.10) over 9638\n",
      "True/Synthesized wr: 51.98 51.11 (-0.88) over 9936\n",
      "True/Synthesized wr: 51.00 51.29 (+0.29) over 9861\n",
      "True/Synthesized wr: 53.73 54.30 (+0.57) over 9846\n",
      "True/Synthesized wr: 52.45 52.94 (+0.49) over 9826\n",
      "True/Synthesized wr: 57.13 57.66 (+0.54) over 9838\n",
      "True/Synthesized wr: 50.91 51.07 (+0.16) over 9648\n",
      "True/Synthesized wr: 60.46 60.15 (-0.32) over 9771\n",
      "True/Synthesized wr: 47.45 48.06 (+0.60) over 9776\n",
      "True/Synthesized wr: 40.50 40.85 (+0.35) over 9829\n",
      "True/Synthesized wr: 47.15 47.88 (+0.74) over 9782\n",
      "True/Synthesized wr: 41.40 41.55 (+0.15) over 9972\n",
      "True/Synthesized wr: 57.52 57.51 (-0.01) over 9930\n",
      "True/Synthesized wr: 38.07 38.19 (+0.12) over 9770\n",
      "True/Synthesized wr: 52.20 51.81 (-0.39) over 9753\n",
      "True/Synthesized wr: 51.82 52.17 (+0.35) over 9747\n",
      "True/Synthesized wr: 56.90 56.47 (-0.43) over 9775\n",
      "True/Synthesized wr: 43.70 43.50 (-0.20) over 9671\n",
      "True/Synthesized wr: 58.38 58.68 (+0.30) over 9813\n",
      "True/Synthesized wr: 47.99 48.37 (+0.38) over 9823\n",
      "True/Synthesized wr: 55.00 54.89 (-0.11) over 9756\n",
      "True/Synthesized wr: 46.79 46.74 (-0.05) over 9853\n",
      "True/Synthesized wr: 58.89 58.24 (-0.65) over 9844\n",
      "True/Synthesized wr: 46.86 46.54 (-0.32) over 9631\n",
      "True/Synthesized wr: 43.15 42.74 (-0.41) over 9817\n",
      "True/Synthesized wr: 48.64 48.85 (+0.22) over 9752\n",
      "True/Synthesized wr: 40.80 41.30 (+0.50) over 9841\n",
      "True/Synthesized wr: 56.89 56.76 (-0.13) over 9852\n",
      "True/Synthesized wr: 42.63 42.78 (+0.15) over 10009\n",
      "True/Synthesized wr: 48.53 48.66 (+0.12) over 9705\n",
      "True/Synthesized wr: 61.53 60.73 (-0.79) over 9817\n",
      "True/Synthesized wr: 66.73 66.40 (-0.33) over 9778\n",
      "True/Synthesized wr: 49.47 48.80 (-0.67) over 9807\n",
      "True/Synthesized wr: 56.93 56.80 (-0.13) over 9847\n",
      "True/Synthesized wr: 45.92 46.36 (+0.44) over 9969\n",
      "True/Synthesized wr: 51.56 51.12 (-0.43) over 9694\n",
      "True/Synthesized wr: 60.08 59.99 (-0.08) over 9696\n",
      "True/Synthesized wr: 50.99 50.78 (-0.21) over 9811\n",
      "True/Synthesized wr: 52.11 51.90 (-0.20) over 9764\n",
      "True/Synthesized wr: 37.82 38.70 (+0.89) over 9818\n",
      "True/Synthesized wr: 48.12 48.10 (-0.02) over 9842\n",
      "True/Synthesized wr: 40.15 40.63 (+0.49) over 9859\n",
      "True/Synthesized wr: 46.81 46.96 (+0.14) over 9890\n",
      "True/Synthesized wr: 47.72 48.11 (+0.39) over 9793\n",
      "True/Synthesized wr: 56.04 55.98 (-0.06) over 9715\n",
      "True/Synthesized wr: 38.06 38.83 (+0.77) over 9880\n",
      "True/Synthesized wr: 49.52 49.81 (+0.30) over 9803\n",
      "True/Synthesized wr: 46.80 46.34 (-0.46) over 9980\n",
      "True/Synthesized wr: 52.91 52.48 (-0.43) over 9968\n",
      "True/Synthesized wr: 47.51 47.34 (-0.18) over 9690\n",
      "True/Synthesized wr: 37.95 37.83 (-0.12) over 9710\n",
      "True/Synthesized wr: 58.93 58.73 (-0.21) over 9679\n",
      "True/Synthesized wr: 55.24 54.71 (-0.53) over 9711\n",
      "True/Synthesized wr: 59.26 59.48 (+0.23) over 9739\n",
      "True/Synthesized wr: 48.19 47.64 (-0.54) over 9922\n",
      "True/Synthesized wr: 51.57 51.06 (-0.51) over 9690\n",
      "True/Synthesized wr: 50.60 50.60 (-0.00) over 9694\n",
      "True/Synthesized wr: 52.11 51.78 (-0.33) over 9784\n",
      "True/Synthesized wr: 45.38 44.98 (-0.40) over 9829\n",
      "True/Synthesized wr: 47.18 47.70 (+0.52) over 9905\n",
      "True/Synthesized wr: 35.75 36.08 (+0.34) over 9755\n",
      "True/Synthesized wr: 46.76 46.96 (+0.20) over 9632\n",
      "True/Synthesized wr: 45.31 44.97 (-0.34) over 9878\n",
      "True/Synthesized wr: 51.88 51.88 (-0.00) over 9651\n",
      "True/Synthesized wr: 50.89 50.81 (-0.08) over 9705\n",
      "True/Synthesized wr: 50.14 50.05 (-0.09) over 9774\n",
      "True/Synthesized wr: 47.07 47.61 (+0.54) over 9709\n",
      "True/Synthesized wr: 38.69 38.73 (+0.04) over 9816\n",
      "True/Synthesized wr: 64.89 63.98 (-0.90) over 9842\n",
      "True/Synthesized wr: 47.53 47.73 (+0.19) over 9896\n",
      "True/Synthesized wr: 50.30 50.02 (-0.28) over 9605\n",
      "True/Synthesized wr: 64.96 64.34 (-0.62) over 9831\n",
      "True/Synthesized wr: 49.52 49.72 (+0.20) over 9821\n",
      "True/Synthesized wr: 47.15 47.66 (+0.51) over 9544\n",
      "True/Synthesized wr: 50.83 50.65 (-0.18) over 9880\n"
     ]
    }
   ],
   "source": [
    "np.random.seed(100)\n",
    "total_game = 35000\n",
    "win, total = np.zeros_like(participants, dtype=float), np.zeros_like(participants, dtype=float) \n",
    "# custom calculator\n",
    "wr_calculator = lambda a, d: flat_mod_calculator(a, d, logmod=5.0)\n",
    "# precalc indices\n",
    "preset_ids = [i for i in range(len(participants))]\n",
    "# run {total_game}\n",
    "for _ in range(total_game):\n",
    "    atk, dfn, atk_win = create_random_match(participants, preset_ids=preset_ids, num_player=15, wr_calc=wr_calculator)\n",
    "    total[atk] += 1 # don't try atk + dfn like the dumbass me did\n",
    "    total[dfn] += 1\n",
    "    if(atk_win):\n",
    "        win[atk] += 1\n",
    "    else:\n",
    "        win[dfn] += 1\n",
    "# calculate synthesized winning rate\n",
    "syn_wrt = np.divide(win, total)\n",
    "for t, s, a in zip(participants, syn_wrt, total):\n",
    "    print(\"True/Synthesized wr: {:.2f} {:.2f} ({:s}{:2.2f}) over {:d}\".format(\n",
    "            t * 100.0, s * 100.0, \"+\" if s > t else \"-\", abs(s-t) * 100, int(a)))"
   ]
  },
  {
   "cell_type": "markdown",
   "metadata": {},
   "source": [
    "## Visualize result\n",
    "This section should put out two simple histogram on distribution of current winrate (original and synthesized), as well as their normal/true and signed difference. (true is just difference, while signed will be positive if the synthesize data goes toward 50% and negative otherwise)"
   ]
  },
  {
   "cell_type": "code",
   "execution_count": 28,
   "metadata": {},
   "outputs": [
    {
     "data": {
      "image/png": "[encoded data removed]",
      "text/plain": [
       "<Figure size 720x360 with 2 Axes>"
      ]
     },
     "metadata": {
      "needs_background": "light"
     },
     "output_type": "display_data"
    }
   ],
   "source": [
    "import matplotlib.pyplot as plt\n",
    "%matplotlib inline\n",
    "\n",
    "perc_orig, perc_syn = participants * 100, syn_wrt * 100\n",
    "fig, (ax1, ax2) = plt.subplots(1, 2, figsize=(10, 5))\n",
    "bins = np.linspace(20, 80, 20)\n",
    "ax1.hist([perc_orig, perc_syn], bins, alpha=0.5, label=['Original', 'Synthesized'])\n",
    "ax1.legend(loc='upper right')\n",
    "ax1.set(xlabel='Winrate (%)', ylabel='Num of sample')\n",
    "\n",
    "diff = perc_orig - perc_syn\n",
    "signs = np.array([1 if avg > 50.0 else -1 for avg in ((perc_orig + perc_syn) / 2.0)])\n",
    "signed = diff * signs\n",
    "# remove the cases where synthesized data crosses the 50% threshold\n",
    "not_crossing = (participants - 0.5) * (syn_wrt - 0.5) > 0\n",
    "signed = signed[not_crossing]\n",
    "diff_bins = np.linspace(np.min(diff), np.max(diff), 20)\n",
    "ax2.hist([diff, signed], diff_bins, alpha=0.25, label=['true', 'signed'])\n",
    "ax2.legend(loc='upper left')\n",
    "ax2.set(xlabel='Difference (%)', ylabel='Num of sample')\n",
    "\n",
    "plt.show()"
   ]
  },
  {
   "cell_type": "code",
   "execution_count": 24,
   "metadata": {},
   "outputs": [],
   "source": [
    "# use the synthesized win rate to try again\n",
    "participants = syn_wrt"
   ]
  }
 ],
 "metadata": {
  "kernelspec": {
   "display_name": "Python 3",
   "language": "python",
   "name": "python3"
  },
  "language_info": {
   "codemirror_mode": {
    "name": "ipython",
    "version": 3
   },
   "file_extension": ".py",
   "mimetype": "text/x-python",
   "name": "python",
   "nbconvert_exporter": "python",
   "pygments_lexer": "ipython3",
   "version": "3.5.2"
  }
 },
 "nbformat": 4,
 "nbformat_minor": 4
}
