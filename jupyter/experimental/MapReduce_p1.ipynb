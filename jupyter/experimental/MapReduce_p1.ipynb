{
 "cells": [
  {
   "cell_type": "code",
   "execution_count": 1,
   "metadata": {},
   "outputs": [],
   "source": [
    "def find_longest_string(list_of_strings):\n",
    "    longest_string = None\n",
    "    longest_string_len = 0     \n",
    "    for s in list_of_strings:\n",
    "        if len(s) > longest_string_len:\n",
    "            longest_string_len = len(s)\n",
    "            longest_string = s    \n",
    "    return longest_string"
   ]
  },
  {
   "cell_type": "code",
   "execution_count": 2,
   "metadata": {},
   "outputs": [
    {
     "name": "stdout",
     "output_type": "stream",
     "text": [
      "python\n",
      "CPU times: user 284 µs, sys: 28 µs, total: 312 µs\n",
      "Wall time: 255 µs\n"
     ]
    }
   ],
   "source": [
    "list_of_strings = ['abc', 'python', 'dima']\n",
    "%time max_length = print(find_longest_string(list_of_strings))"
   ]
  },
  {
   "cell_type": "code",
   "execution_count": 3,
   "metadata": {},
   "outputs": [
    {
     "name": "stdout",
     "output_type": "stream",
     "text": [
      "python\n",
      "CPU times: user 876 µs, sys: 85 µs, total: 961 µs\n",
      "Wall time: 916 µs\n"
     ]
    }
   ],
   "source": [
    "large_list_of_strings = list_of_strings*1000\n",
    "%time print(find_longest_string(large_list_of_strings))"
   ]
  },
  {
   "cell_type": "code",
   "execution_count": null,
   "metadata": {},
   "outputs": [],
   "source": [
    "large_list_of_strings = list_of_strings*100000000\n",
    "%time max_length = max(large_list_of_strings, key=len)"
   ]
  },
  {
   "cell_type": "code",
   "execution_count": 4,
   "metadata": {},
   "outputs": [
    {
     "name": "stdout",
     "output_type": "stream",
     "text": [
      "('python', 6)\n",
      "CPU times: user 2.86 ms, sys: 0 ns, total: 2.86 ms\n",
      "Wall time: 2.74 ms\n"
     ]
    }
   ],
   "source": [
    "%%time\n",
    "\n",
    "# step 1:\n",
    "list_of_string_lens = (len(s) for s in large_list_of_strings)\n",
    "list_of_string_lens = zip(large_list_of_strings, list_of_string_lens)\n",
    "#step 2:\n",
    "max_len = max(list_of_string_lens, key=lambda t: t[1])\n",
    "print(max_len)"
   ]
  },
  {
   "cell_type": "code",
   "execution_count": 5,
   "metadata": {},
   "outputs": [],
   "source": [
    "mapper = len\n",
    "def reducer(p, c):\n",
    "    if p[1] > c[1]:\n",
    "        return p\n",
    "    return c"
   ]
  },
  {
   "cell_type": "code",
   "execution_count": 6,
   "metadata": {},
   "outputs": [
    {
     "name": "stdout",
     "output_type": "stream",
     "text": [
      "('python', 6)\n",
      "CPU times: user 1.54 ms, sys: 147 µs, total: 1.69 ms\n",
      "Wall time: 1.54 ms\n"
     ]
    }
   ],
   "source": [
    "%%time\n",
    "\n",
    "from functools import reduce\n",
    "#step 1\n",
    "mapped = map(mapper, large_list_of_strings)\n",
    "mapped = zip(large_list_of_strings, mapped)\n",
    "#step 2:\n",
    "reduced = reduce(reducer, mapped)\n",
    "print(reduced)"
   ]
  },
  {
   "cell_type": "code",
   "execution_count": 7,
   "metadata": {},
   "outputs": [],
   "source": [
    "## !pip install chunkify #Not working\n",
    "def chunkify(_list, number_of_chunks=8):\n",
    "    chunk_size = len(_list) // number_of_chunks\n",
    "    # return list\n",
    "    # return [ _list[i*chunk_size:(i+1)*chunk_size] for i in range(number_of_chunks) ]\n",
    "    # return iterator\n",
    "    for i in range(number_of_chunks):\n",
    "        yield _list[i*chunk_size:(i+1)*chunk_size]\n",
    "    raise StopIteration\n",
    "## move to here, since local within %time got removed\n",
    "def chunks_mapper(chunk):\n",
    "    mapped_chunk = map(mapper, chunk) \n",
    "    mapped_chunk = zip(chunk, mapped_chunk)\n",
    "    return reduce(reducer, mapped_chunk)"
   ]
  },
  {
   "cell_type": "code",
   "execution_count": 8,
   "metadata": {},
   "outputs": [
    {
     "name": "stdout",
     "output_type": "stream",
     "text": [
      "('python', 6)\n"
     ]
    }
   ],
   "source": [
    "from functools import reduce\n",
    "data_chunks = chunkify(large_list_of_strings, number_of_chunks=36)\n",
    "#step 1:\n",
    "reduced_all = []\n",
    "for chunk in data_chunks:\n",
    "    mapped_chunk = map(mapper, chunk)\n",
    "    mapped_chunk = zip(chunk, mapped_chunk)\n",
    "    \n",
    "    reduced_chunk = reduce(reducer, mapped_chunk)\n",
    "    reduced_all.append(reduced_chunk)\n",
    "    \n",
    "#step 2:\n",
    "reduced = reduce(reducer, reduced_all)\n",
    "print(reduced)"
   ]
  },
  {
   "cell_type": "code",
   "execution_count": 10,
   "metadata": {},
   "outputs": [
    {
     "name": "stdout",
     "output_type": "stream",
     "text": [
      "('python', 6)\n",
      "CPU times: user 1.22 ms, sys: 130 µs, total: 1.35 ms\n",
      "Wall time: 1.29 ms\n"
     ]
    }
   ],
   "source": [
    "%%time\n",
    "\n",
    "data_chunks = chunkify(large_list_of_strings, number_of_chunks=30)\n",
    "#step 1:\n",
    "mapped = map(chunks_mapper, data_chunks)\n",
    "#step 2:\n",
    "reduced = reduce(reducer, mapped)\n",
    "print(reduced)"
   ]
  },
  {
   "cell_type": "code",
   "execution_count": 9,
   "metadata": {},
   "outputs": [
    {
     "name": "stdout",
     "output_type": "stream",
     "text": [
      "('python', 6)\n",
      "CPU times: user 26.9 ms, sys: 24.7 ms, total: 51.6 ms\n",
      "Wall time: 192 ms\n"
     ]
    }
   ],
   "source": [
    "%%time\n",
    "\n",
    "from multiprocessing import Pool\n",
    "pool = Pool(8)\n",
    "data_chunks = chunkify(large_list_of_strings, number_of_chunks=8)\n",
    "#step 1:\n",
    "mapped = pool.map(chunks_mapper, data_chunks)\n",
    "#step 2:\n",
    "reduced = reduce(reducer, mapped)\n",
    "print(reduced)"
   ]
  },
  {
   "cell_type": "code",
   "execution_count": null,
   "metadata": {},
   "outputs": [],
   "source": []
  }
 ],
 "metadata": {
  "kernelspec": {
   "display_name": "Python 3",
   "language": "python",
   "name": "python3"
  },
  "language_info": {
   "codemirror_mode": {
    "name": "ipython",
    "version": 3
   },
   "file_extension": ".py",
   "mimetype": "text/x-python",
   "name": "python",
   "nbconvert_exporter": "python",
   "pygments_lexer": "ipython3",
   "version": "3.5.2"
  }
 },
 "nbformat": 4,
 "nbformat_minor": 2
}
