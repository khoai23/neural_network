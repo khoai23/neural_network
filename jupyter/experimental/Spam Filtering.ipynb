{
 "cells": [
  {
   "cell_type": "markdown",
   "metadata": {},
   "source": [
    "# Bài tập trên lớp về Spam Filtering\n",
    "Trong bài tập này, chúng ta sẽ sử dụng các công cụ mạnh mẽ có sẵn như pandas/sklearn để thực hiện công việc phân biệt giữa mail spam và mail thường qua thông tin của chính email đó."
   ]
  },
  {
   "cell_type": "markdown",
   "metadata": {},
   "source": [
    "## Download dữ liệu\n",
    "Dữ liệu được tải về bằng gdown vào cùng folder với file hiện tại. Sau khi tải, chúng ta unzip dữ liệu nhận được."
   ]
  },
  {
   "cell_type": "code",
   "execution_count": 2,
   "metadata": {},
   "outputs": [
    {
     "name": "stdout",
     "output_type": "stream",
     "text": [
      "Downloading...\n",
      "From: https://drive.google.com/uc?id=1bTJKchSInd3IgLs41b1_-Gd-T36a_pal\n",
      "To: /home/khoai23/neural_network/jupyter/experimental/spam_data.zip\n",
      "100%|██████████████████████████████████████| 1.95M/1.95M [00:00<00:00, 13.3MB/s]\n"
     ]
    }
   ],
   "source": [
    "!gdown https://drive.google.com/uc?id=1bTJKchSInd3IgLs41b1_-Gd-T36a_pal -O spam_data.zip"
   ]
  },
  {
   "cell_type": "code",
   "execution_count": 3,
   "metadata": {},
   "outputs": [
    {
     "name": "stdout",
     "output_type": "stream",
     "text": [
      "Archive:  spam_data.zip\r\n"
     ]
    }
   ],
   "source": [
    "!unzip -f spam_data.zip"
   ]
  },
  {
   "cell_type": "markdown",
   "metadata": {},
   "source": [
    "## Sử dụng pandas để lưu trữ\n",
    "Pandas là thư viện thường được sử dụng để cất giữ dữ liệu được sử dụng trong quá trình thực hiện các phương pháp học máy, với các chức năng phù hợp với dữ liệu lớn và hiệu năng cao. Chúng ta đọc dữ liệu của file đã được unzip vào một `DataFrame`."
   ]
  },
  {
   "cell_type": "code",
   "execution_count": 4,
   "metadata": {
    "scrolled": true
   },
   "outputs": [
    {
     "data": {
      "text/html": [
       "<div>\n",
       "<style scoped>\n",
       "    .dataframe tbody tr th:only-of-type {\n",
       "        vertical-align: middle;\n",
       "    }\n",
       "\n",
       "    .dataframe tbody tr th {\n",
       "        vertical-align: top;\n",
       "    }\n",
       "\n",
       "    .dataframe thead th {\n",
       "        text-align: right;\n",
       "    }\n",
       "</style>\n",
       "<table border=\"1\" class=\"dataframe\">\n",
       "  <thead>\n",
       "    <tr style=\"text-align: right;\">\n",
       "      <th></th>\n",
       "      <th>Unnamed: 0</th>\n",
       "      <th>label</th>\n",
       "      <th>text</th>\n",
       "      <th>label_num</th>\n",
       "    </tr>\n",
       "  </thead>\n",
       "  <tbody>\n",
       "    <tr>\n",
       "      <th>0</th>\n",
       "      <td>605</td>\n",
       "      <td>ham</td>\n",
       "      <td>Subject: enron methanol ; meter # : 988291\\r\\n...</td>\n",
       "      <td>0</td>\n",
       "    </tr>\n",
       "    <tr>\n",
       "      <th>1</th>\n",
       "      <td>2349</td>\n",
       "      <td>ham</td>\n",
       "      <td>Subject: hpl nom for january 9 , 2001\\r\\n( see...</td>\n",
       "      <td>0</td>\n",
       "    </tr>\n",
       "    <tr>\n",
       "      <th>2</th>\n",
       "      <td>3624</td>\n",
       "      <td>ham</td>\n",
       "      <td>Subject: neon retreat\\r\\nho ho ho , we ' re ar...</td>\n",
       "      <td>0</td>\n",
       "    </tr>\n",
       "    <tr>\n",
       "      <th>3</th>\n",
       "      <td>4685</td>\n",
       "      <td>spam</td>\n",
       "      <td>Subject: photoshop , windows , office . cheap ...</td>\n",
       "      <td>1</td>\n",
       "    </tr>\n",
       "    <tr>\n",
       "      <th>4</th>\n",
       "      <td>2030</td>\n",
       "      <td>ham</td>\n",
       "      <td>Subject: re : indian springs\\r\\nthis deal is t...</td>\n",
       "      <td>0</td>\n",
       "    </tr>\n",
       "  </tbody>\n",
       "</table>\n",
       "</div>"
      ],
      "text/plain": [
       "   Unnamed: 0 label                                               text  \\\n",
       "0         605   ham  Subject: enron methanol ; meter # : 988291\\r\\n...   \n",
       "1        2349   ham  Subject: hpl nom for january 9 , 2001\\r\\n( see...   \n",
       "2        3624   ham  Subject: neon retreat\\r\\nho ho ho , we ' re ar...   \n",
       "3        4685  spam  Subject: photoshop , windows , office . cheap ...   \n",
       "4        2030   ham  Subject: re : indian springs\\r\\nthis deal is t...   \n",
       "\n",
       "   label_num  \n",
       "0          0  \n",
       "1          0  \n",
       "2          0  \n",
       "3          1  \n",
       "4          0  "
      ]
     },
     "execution_count": 4,
     "metadata": {},
     "output_type": "execute_result"
    }
   ],
   "source": [
    "import pandas as pd\n",
    "data_loc = \"spam_ham_dataset.csv\"\n",
    "\n",
    "spam_data = pd.read_csv(data_loc, header=0)\n",
    "spam_data.head()"
   ]
  },
  {
   "cell_type": "code",
   "execution_count": 5,
   "metadata": {},
   "outputs": [
    {
     "name": "stdout",
     "output_type": "stream",
     "text": [
      "Subject: photoshop , windows , office . cheap . main trending\r\n",
      "abasements darer prudently fortuitous undergone\r\n",
      "lighthearted charm orinoco taster\r\n",
      "railroad affluent pornographic cuvier\r\n",
      "irvin parkhouse blameworthy chlorophyll\r\n",
      "robed diagrammatic fogarty clears bayda\r\n",
      "inconveniencing managing represented smartness hashish\r\n",
      "academies shareholders unload badness\r\n",
      "danielson pure caffein\r\n",
      "spaniard chargeable levin\r\n",
      "\n",
      "\n",
      "\n",
      "Subject: looking for medication ? we ` re the best source .\r\n",
      "it is difficult to make our material condition better by the best law , but it is easy enough to ruin it by bad laws .\r\n",
      "excuse me . . . : ) you just found the\r\n",
      "best and simpliest site for\r\n",
      "medication on the net . no perscription , easy\r\n",
      "delivery .\r\n",
      "private , secure , and easy .\r\n",
      "better see rightly on a pound a week than squint on a million .\r\n",
      "we ` ve got\r\n",
      "anything that you will ever want .\r\n",
      "erection treatment pills , anti - depressant pills , weight loss , and\r\n",
      "more ! http : / / splicings . bombahakcx . com / 3 /\r\n",
      "knowledge and human power are synonymous .\r\n",
      "only high - quality stuff for low rates !\r\n",
      "100 % moneyback guarantee !\r\n",
      "there is no god , nature sufficeth unto herself in no wise hath she need of an author .\n",
      "\n",
      "\n",
      "Subject: vocable % rnd - word asceticism\r\n",
      "vcsc - brand new stock for your attention\r\n",
      "vocalscape inc - the stock symbol is : vcsc\r\n",
      "vcsc will be our top stock pick for the month of april - stock expected to\r\n",
      "bounce to 12 cents level\r\n",
      "the stock hit its all time low and will bounce back\r\n",
      "stock is going to explode in next 5 days - watch it soar\r\n",
      "watch the stock go crazy this and next week .\r\n",
      "breaking news - vocalscape inc . announces agreement to resell mix network\r\n",
      "services\r\n",
      "current price : $ 0 . 025\r\n",
      "we expect projected speculative price in next 5 days : $ 0 . 12\r\n",
      "we expect projected speculative price in next 15 days : $ 0 . 15\r\n",
      "vocalscape networks inc . is building a company that ' s revolutionizing the\r\n",
      "telecommunications industry with the most affordable phone systems , hardware ,\r\n",
      "online software , and rates in canada and the us . vocalscape , a company with\r\n",
      "global reach , is receiving international attention for the development of voice\r\n",
      "over ip ( voip ) application solutions , including the award - winning eyefontm , a\r\n",
      "softphone for real - time pc - to - phone . we are an advanced implementer of pbx\r\n",
      "systems for companies , call centers , itsps and service providers .\r\n",
      "vocalscape has created software and interactive solutions revolving around\r\n",
      "global communications and data voice convergence . companies use vocalscape for\r\n",
      "voice over internet protocol applications like ip pbxs , softswitches , pc 2 phone\r\n",
      "and web 2 phone , providing real - time human interaction and information delivery\r\n",
      "over the internet . through vocalscape ' s solutions , businesses can offer a\r\n",
      "quality voice service to anywhere in the world at rates that are significantly\r\n",
      "lower than current long distance charges . we develop software to run voip\r\n",
      "networks , and sell , install and service our own branded voip gateways and\r\n",
      "gatekeeper control software . we also license our software to customers who want\r\n",
      "to brand their own voip solutions .\r\n",
      "vocalscape is committed to making great technology ; challenging the status quo ,\r\n",
      "and building a 21 st century company that changes the way businesses communicate\r\n",
      "and interact through the internet .\r\n",
      "current price : $ 0 . 025\r\n",
      "we expect projected speculative price in next 5 days : $ 0 . 12\r\n",
      "we expect projected speculative price in next 15 days : $ 0 . 15\r\n",
      "breaking news - vocalscape inc . announces agreement to resell mix network\r\n",
      "services\r\n",
      "- - - - - - - - - -\r\n",
      "katonah , n . y . , / prnewswire - firstcall via comtex / - - vocalscape , inc . pink : vcsc ) ,\r\n",
      "an emerging leader in the development of voice over internet protocol ( voip )\r\n",
      "telephony solutions , announced today it has entered into a sales agent agreement\r\n",
      "with mix networks , inc . a voip enhanced telephony service provider .\r\n",
      "this agreement provides vocalscape ' s turnkey calling card customers with access\r\n",
      "to mix networks services including north american dids ( phone numbers ) and\r\n",
      "domestic long distance termination . vocalscape will also be able to supply their\r\n",
      "clients with enhanced voip products including pre - paid calling through mix\r\n",
      "networks north american network .\r\n",
      "we are excited to help companies launch voip business models using our solution\r\n",
      "with the whole picture from the software to the network needed to route the\r\n",
      "calls . mix networks gives us the ability to offer wholesale monthly flat rate\r\n",
      "plans and dids to our clients that allow for us to build business models like\r\n",
      "popular voip companies such as vonage and packet 8 , says ryan gibson , vp\r\n",
      "vocalscape networks\r\n",
      "some legal words before you continue :\r\n",
      "information within this email contains forward looking statements within the\r\n",
      "meaning of section 27 a of the securities act of 1933 and section 21 b of the\r\n",
      "securities exchange act of 1934 . any statements that express or involve\r\n",
      "discussions with respect to predictions , goals , expectations , beliefs , plans ,\r\n",
      "projections , objectives , assumptions or future events or performance are not\r\n",
      "statements of historical fact and may be forward looking statements . forward\r\n",
      "looking statements are based on expectations , estimates and projections at the\r\n",
      "time the statements are made that involve a number of risks and uncertainties\r\n",
      "which could cause actual results or events to differ materially from those\r\n",
      "presently anticipated . forward looking statements in this action may be\r\n",
      "identified through the use of words such as : projects , foresee , expects ,\r\n",
      "estimates , believes , understands will , part of : anticipates , or that\r\n",
      "by statements indicating certain actions may , could , or might occur . all\r\n",
      "information provided within this email pertaining to investing , stocks ,\r\n",
      "securities must be understood as information provided and not investment advice .\r\n",
      "emerging equity alert advises all readers and subscribers to seek advice from a\r\n",
      "registered professional securities representative before deciding to trade in\r\n",
      "stocks featured within this email . none of the material within this report shall\r\n",
      "be construed as any kind of investment advice . please have in mind that the\r\n",
      "interpretation of the witer of this newsletter about the news published by the\r\n",
      "company does not represent the company official statement and in fact may differ\r\n",
      "from the real meaning of what the news release meant to say . look the news\r\n",
      "release by yourself and judge by yourself about the details in it .\r\n",
      "in compliance with section 17 ( b ) , we disclose the holding of vcsc shares prior\r\n",
      "to the publication of this report . be aware of an inherent conflict of interest\r\n",
      "resulting from such holdings due to our intent to profit from the liquidation of\r\n",
      "these shares . shares may be sold at any time , even after positive statements\r\n",
      "have been made regarding the above company . since we own shares , there is an\r\n",
      "inherent conflict of interest in our statements and opinions . readers of this\r\n",
      "publication are cautioned not to place undue reliance on forward - looking\r\n",
      "statements , which are based on certain assumptions and expectations involving\r\n",
      "various risks and uncertainties , that could cause results to differ materially\r\n",
      "from those set forth in the forward - looking statements .\r\n",
      "please be advised that nothing within this email shall constitute a solicitation\r\n",
      "or an invitation to get position in or sell any security mentioned herein . this\r\n",
      "newsletter is neither a registered investment advisor nor affiliated with any\r\n",
      "broker or dealer . this newsletter was paid $ 49000 from third party to send this\r\n",
      "report . all statements made are our express opinion only and should be treated\r\n",
      "as such . we may own , take position and sell any securities mentioned at any\r\n",
      "time . this report includes forward - looking statements within the meaning of the\r\n",
      "private securities litigation reform act of 1995 . these statements may include\r\n",
      "terms as projected speculative price expect , believe , may , will ,\r\n",
      "soar move , undervalued and intend or similar terms .\r\n",
      "\n",
      "\n",
      "\n",
      "Subject: report 01405 !\r\n",
      "wffur attion brom est inst siupied 1 pgst our riwe asently rest .\r\n",
      "tont to presyou tew cons of benco 4 . yee : fater 45 y . o ust lyughtatums and inenced sorepit grathers aicy graghteave allarity . oarity wow to yur coons , as were then 60 ve mers of oite .\r\n",
      "ithat yoit ? ! berst thar ! enth excives 2004 . . .\r\n",
      "\n",
      "\n",
      "\n",
      "Subject: vic . odin n ^ ow\r\n",
      "berne hotbox carnal bride cutworm dyadic\r\n",
      "guardia continuous born gremlin akin counterflow hereafter vocabularian pessimum yaounde cannel bitch penetrate demagogue arbitrary egregious adenosine rubin gil luminosity delicti yarmulke sauterne selfadjoint agleam exeter picofarad consulate dichotomous boyhood balfour spheric frey pillory hoosier fibonacci cat handful\r\n",
      "\n"
     ]
    }
   ],
   "source": [
    "print(\"\\n\\n\\n\".join(spam_data[spam_data[\"label\"] == \"spam\"][:5][\"text\"].values))"
   ]
  },
  {
   "cell_type": "markdown",
   "metadata": {},
   "source": [
    "## Data preprocessing\n",
    "Như chúng ta có thể thấy, dữ liệu hiện tại đang chứa ký tự xuống dòng \\r\\n của Window và có thể dẫn đến lẫn lộn. Để đơn giản hóa, chúng ta thay nó bằng dấu cách. Các bạn có thể ứng dụng phương án của pandas để thực hiện thêm (v.d xóa chữ Subject: từ đầu, nhặt ra dòng đầu tiên, etc.)"
   ]
  },
  {
   "cell_type": "code",
   "execution_count": 6,
   "metadata": {},
   "outputs": [],
   "source": [
    "spam_data[\"text\"] = spam_data[\"text\"].apply(lambda x: x.replace(\"\\r\\n\", \" \"))"
   ]
  },
  {
   "cell_type": "markdown",
   "metadata": {},
   "source": [
    "## Building Model\n",
    "Đầu tiên, chúng ta thực hiện Vector hóa dữ liệu đầu vào qua `CountVectorizer` với mục tiêu là vector hóa dữ liệu từ. `CountVectorizer` có nhiệm vụ tạo một vocab các từ xuất hiện trong dữ liệu, và tạo một vector tương ứng cho mỗi sample là lần xuất hiện của các từ trong sample đó."
   ]
  },
  {
   "cell_type": "code",
   "execution_count": 7,
   "metadata": {},
   "outputs": [
    {
     "data": {
      "text/plain": [
       "(5171, 14238)"
      ]
     },
     "execution_count": 7,
     "metadata": {},
     "output_type": "execute_result"
    }
   ],
   "source": [
    "from sklearn.feature_extraction.text import CountVectorizer\n",
    "count = CountVectorizer(min_df=3, max_df=0.95)\n",
    "count_data = count.fit_transform(spam_data[\"text\"])\n",
    "count_data.shape"
   ]
  },
  {
   "cell_type": "markdown",
   "metadata": {},
   "source": [
    "Tiếp đó, chúng ta áp dụng thuật toán TF-IDF lên vector đã tìm được. Dữ liệu được trả ra vẫn sẽ là một ma trận sparse, nhưng đã được adapt cho độ hiếm của mỗi từ."
   ]
  },
  {
   "cell_type": "code",
   "execution_count": 8,
   "metadata": {},
   "outputs": [
    {
     "data": {
      "text/plain": [
       "(5171, 14238)"
      ]
     },
     "execution_count": 8,
     "metadata": {},
     "output_type": "execute_result"
    }
   ],
   "source": [
    "from sklearn.feature_extraction.text import TfidfTransformer\n",
    "transformer = TfidfTransformer()\n",
    "trans_data = transformer.fit_transform(count_data)\n",
    "trans_data.shape"
   ]
  },
  {
   "cell_type": "markdown",
   "metadata": {},
   "source": [
    "Chúng ta có thể tạo dữ liệu dạng n-gram qua argument `ngram_range` cho `CountVectorizer`, điều này cho phép chương trình lưu xuống các cụm n-từ thường thấy trong dữ liệu.\n",
    "Ngoài ra, `CountVectorizer` và `TfidfTransformer` có một wrapper tổng hợp cả 2 quá trình vào 1 và nhận chung các argument của chúng: `TfidfVectorizer`"
   ]
  },
  {
   "cell_type": "code",
   "execution_count": 9,
   "metadata": {},
   "outputs": [
    {
     "name": "stdout",
     "output_type": "stream",
     "text": [
      "(5171, 63816)\n"
     ]
    }
   ],
   "source": [
    "from sklearn.feature_extraction.text import TfidfVectorizer\n",
    "vectorizer = TfidfVectorizer(stop_words='english', ngram_range=(1, 3), min_df=3, max_df=0.95)\n",
    "matrix_data = vectorizer.fit_transform(spam_data[\"text\"])\n",
    "print(matrix_data.shape)"
   ]
  },
  {
   "cell_type": "markdown",
   "metadata": {},
   "source": [
    "Sau khi hoàn thành các bước vector hóa, chúng ta tiếp tục phân hóa dữ liệu thành tập train và tập test để đánh giá chất lượng mô hình."
   ]
  },
  {
   "cell_type": "code",
   "execution_count": 10,
   "metadata": {},
   "outputs": [],
   "source": [
    "from sklearn.model_selection import train_test_split\n",
    "X_data = matrix_data; y_data = spam_data[\"label_num\"].values\n",
    "X_train, X_test, y_train, y_test = train_test_split(X_data, y_data, test_size=0.1, random_state=0)"
   ]
  },
  {
   "cell_type": "markdown",
   "metadata": {},
   "source": [
    "Sau khi chúng ta đã có dữ liệu đã vector hóa, chúng ta sử dụng một mô hình Bayes để tính kết quả. VD như hiện tại, sử dụng GaussianNB. Chúng ta có thể sử dụng nhiều mô hình học máy khác vào đây (e.g LogisticRegression, SVM).\n",
    "\n",
    "*Lưu ý: todense() được sử dụng để chuyển một ma trận sparse sang dense, có thể dẫn đến MemoryError với các dữ liệu lớn. Cân nhắc sử dụng các mô hình chấp nhận train qua ma trận sparse hoặc implement phương án của bản thân ở đây.*"
   ]
  },
  {
   "cell_type": "code",
   "execution_count": 11,
   "metadata": {},
   "outputs": [
    {
     "data": {
      "text/plain": [
       "GaussianNB(priors=None, var_smoothing=1e-09)"
      ]
     },
     "execution_count": 11,
     "metadata": {},
     "output_type": "execute_result"
    }
   ],
   "source": [
    "from sklearn.naive_bayes import GaussianNB\n",
    "model = GaussianNB()\n",
    "model.fit(X_train.todense(), y_train)"
   ]
  },
  {
   "cell_type": "code",
   "execution_count": 12,
   "metadata": {},
   "outputs": [],
   "source": [
    "y_pred = model.predict(X_test.todense())"
   ]
  },
  {
   "cell_type": "markdown",
   "metadata": {},
   "source": [
    "## Metrics and Visualization\n",
    "Để đánh giá chất lượng mô hình, chúng ta có thể tính số điểm F1 hoặc accuracy. Trong trường hợp này chúng ta dùng F1 do độ phủ của class trong dữ liệu không giống nhau (25% là spam). Chúng ta cũng có thể in đường cong ROC-AUC để biểu thị các vị trí cutoff khác nhau cho mô hình"
   ]
  },
  {
   "cell_type": "code",
   "execution_count": 13,
   "metadata": {},
   "outputs": [
    {
     "name": "stdout",
     "output_type": "stream",
     "text": [
      "F1 Score: 0.9632\n"
     ]
    }
   ],
   "source": [
    "from sklearn.metrics import f1_score, accuracy_score\n",
    "print(\"F1 Score: {:.4f}\".format(f1_score(y_pred, y_test)))"
   ]
  },
  {
   "cell_type": "code",
   "execution_count": 14,
   "metadata": {},
   "outputs": [
    {
     "data": {
      "image/png": "[encoded data removed]",
      "text/plain": [
       "<Figure size 432x288 with 1 Axes>"
      ]
     },
     "metadata": {
      "needs_background": "light"
     },
     "output_type": "display_data"
    }
   ],
   "source": [
    "from sklearn.metrics import roc_curve, auc\n",
    "%matplotlib inline\n",
    "y_pred_proba = model.predict_proba(X_test.todense())\n",
    "fpr_spam, tpr_spam, thresholds = roc_curve(y_test, y_pred_proba[:, 1], pos_label=1)\n",
    "roc_auc_spam = auc(fpr_spam, tpr_spam)\n",
    "fpr_ham, tpr_ham, thresholds = roc_curve(y_test, y_pred_proba[:, 0], pos_label=0)\n",
    "roc_auc_ham = auc(fpr_spam, tpr_ham)\n",
    "\n",
    "import matplotlib.pyplot as plt\n",
    "plt.figure()\n",
    "lw = 2\n",
    "plt.plot(fpr_spam, tpr_spam, color='darkorange',\n",
    "         lw=lw, label='ROC curve (spam, area = %0.2f)' % roc_auc_spam)\n",
    "plt.plot(fpr_ham, tpr_ham, color='red',\n",
    "         lw=lw, label='ROC curve (ham, area = %0.2f)' % roc_auc_ham)\n",
    "plt.plot([0, 1], [0, 1], color='navy', lw=lw, linestyle='--')\n",
    "plt.xlim([0.0, 1.0])\n",
    "plt.ylim([0.0, 1.05])\n",
    "plt.xlabel('False Positive Rate')\n",
    "plt.ylabel('True Positive Rate')\n",
    "plt.title('Receiver operating characteristic example')\n",
    "plt.legend(loc=\"lower right\")\n",
    "plt.show()"
   ]
  },
  {
   "cell_type": "code",
   "execution_count": 18,
   "metadata": {
    "scrolled": true
   },
   "outputs": [
    {
     "data": {
      "image/png": "[encoded data removed]",
      "text/plain": [
       "<Figure size 576x432 with 2 Axes>"
      ]
     },
     "metadata": {
      "needs_background": "light"
     },
     "output_type": "display_data"
    }
   ],
   "source": [
    "import numpy as np\n",
    "import itertools\n",
    "from sklearn.metrics import confusion_matrix\n",
    "\n",
    "def plot_confusion_matrix(cm,\n",
    "                          target_names,\n",
    "                          title='Confusion matrix',\n",
    "                          cmap=None,\n",
    "                          normalize=True):\n",
    "    \"\"\"\n",
    "    Citiation\n",
    "    ---------\n",
    "    http://scikit-learn.org/stable/auto_examples/model_selection/plot_confusion_matrix.html\n",
    "\n",
    "    \"\"\"\n",
    "\n",
    "    accuracy = np.trace(cm) / float(np.sum(cm))\n",
    "    misclass = 1 - accuracy\n",
    "\n",
    "    if cmap is None:\n",
    "        cmap = plt.get_cmap('Blues')\n",
    "\n",
    "    plt.figure(figsize=(8, 6))\n",
    "    plt.imshow(cm, interpolation='nearest', cmap=cmap)\n",
    "    plt.title(title)\n",
    "    plt.colorbar()\n",
    "\n",
    "    if target_names is not None:\n",
    "        tick_marks = np.arange(len(target_names))\n",
    "        plt.xticks(tick_marks, target_names, rotation=45)\n",
    "        plt.yticks(tick_marks, target_names)\n",
    "\n",
    "    if normalize:\n",
    "        cm = cm.astype('float') / cm.sum(axis=1)[:, np.newaxis]\n",
    "\n",
    "\n",
    "    thresh = cm.max() / 1.5 if normalize else cm.max() / 2\n",
    "    for i, j in itertools.product(range(cm.shape[0]), range(cm.shape[1])):\n",
    "        if normalize:\n",
    "            plt.text(j, i, \"{:0.4f}\".format(cm[i, j]),\n",
    "                     horizontalalignment=\"center\",\n",
    "                     color=\"white\" if cm[i, j] > thresh else \"black\")\n",
    "        else:\n",
    "            plt.text(j, i, \"{:,}\".format(cm[i, j]),\n",
    "                     horizontalalignment=\"center\",\n",
    "                     color=\"white\" if cm[i, j] > thresh else \"black\")\n",
    "\n",
    "\n",
    "    plt.tight_layout()\n",
    "    plt.ylabel('True label')\n",
    "    plt.xlabel('Predicted label\\naccuracy={:0.4f}; misclass={:0.4f}'.format(accuracy, misclass))\n",
    "    plt.show()\n",
    "\n",
    "cm = confusion_matrix(y_test, y_pred)\n",
    "plot_confusion_matrix(cm, [\"True\", \"False\"])\n",
    "plt.show()"
   ]
  },
  {
   "cell_type": "markdown",
   "metadata": {},
   "source": [
    "## Alternative: Co-occurence and TruncatedSVD\n",
    "Trong ngôn ngữ, chúng ta thường thấy các từ có liên quan về ý nghĩa (vd. bác_sĩ và bệnh_nhân) thường sẽ xuất hiện trong cùng ngữ cảnh. Từ suy nghĩ trên, chúng ta có thể xây dựng một ma trận đồng xuất hiện (co-occurence) giữa các từ xuất hiện trong câu; điều này cho phép chúng ta biểu diễn các từ trong ngôn ngữ qua một không gian vector chung thay vì giá trị đếm.\n",
    "\n",
    "Ma trận co-occurence với window là toàn bộ câu có thể được xây dựng bằng dữ liệu CountVectorizer đã có hoặc trực tiếp làm bằng tay."
   ]
  },
  {
   "cell_type": "code",
   "execution_count": 22,
   "metadata": {},
   "outputs": [],
   "source": [
    "# \n",
    "coocr = count_data.T * count_data"
   ]
  },
  {
   "cell_type": "code",
   "execution_count": 24,
   "metadata": {},
   "outputs": [
    {
     "name": "stdout",
     "output_type": "stream",
     "text": [
      "Cooccurence between word `free` and `call`:  188\n"
     ]
    }
   ],
   "source": [
    "index_free = count.vocabulary_[\"free\"]\n",
    "index_call = count.vocabulary_[\"call\"]\n",
    "print(\"Cooccurence between word `free` and `call`: \", coocr[index_free, index_call])"
   ]
  },
  {
   "cell_type": "markdown",
   "metadata": {},
   "source": [
    "Thư viện `sklearn` đã có sẵn implementation của SVD được gọi là `TruncatedSVD`, cho phép biến đổi một lượng feature M xuống lượng feature N dựa trên việc sử dụng ma trận đồng xuất hiện như trên. Phương pháp này trong miền NLP còn có tên khác là Latent Semantic Analysis (LSA). Sử dụng một model để thử nghiệm kết quả khi sử dụng `TruncatedSVD` để hạ chiều của dữ liệu xuống còn 512."
   ]
  },
  {
   "cell_type": "code",
   "execution_count": 40,
   "metadata": {},
   "outputs": [
    {
     "name": "stdout",
     "output_type": "stream",
     "text": [
      "F1 Score for TruncatedSVD model: 0.9600\n"
     ]
    }
   ],
   "source": [
    "from sklearn.model_selection import train_test_split\n",
    "X_cdata = count_data; # y_data = spam_data[\"label_num\"].values\n",
    "X_ctrain, X_ctest, y_ctrain, y_ctest = train_test_split(X_cdata, y_data, test_size=0.1, random_state=10)\n",
    "\n",
    "from sklearn.decomposition import TruncatedSVD\n",
    "svd = TruncatedSVD(512, random_state=1)\n",
    "X_ctrain = svd.fit_transform(X_ctrain)\n",
    "X_ctest = svd.transform(X_ctest)\n",
    "\n",
    "from sklearn.linear_model import LogisticRegression\n",
    "cmodel = LogisticRegression(solver=\"lbfgs\", max_iter=1000)\n",
    "cmodel.fit(X_ctrain, y_ctrain)\n",
    "y_cpred = cmodel.predict(X_ctest)\n",
    "\n",
    "print(\"F1 Score for TruncatedSVD model: {:.4f}\".format(f1_score(y_cpred, y_ctest)))"
   ]
  },
  {
   "cell_type": "markdown",
   "metadata": {},
   "source": [
    "## Alternative: HashingVectorizer\n",
    "Với các bộ dữ liệu lớn dẫn đến vocab cao, việc sử dụng CountVectorizer thông thường để lưu trữ dữ liệu vector hóa trở nên tốn tài nguyên; Một phương pháp chúng ta có thể cân nhắc là sử dụng HashingVectorizer. Thay vì CountVectorizer biến mỗi từ/ngram thành 1 id tương ứng, nhiều từ của HashingVectorizer sẽ có thể cho nhiều từ vào 1 id xác định bằng mảng băm.\n",
    "\n",
    "Lựa chọn giữa 2 phương pháp là tradeoff giữa tài nguyên lưu trữ như RAM và chất lượng mô hình. Thay đổi giá trị n_features và cân nhắc tradeoff ở bao nhiêu là phù hợp để mô hình không bị kém đi quá nhiều."
   ]
  },
  {
   "cell_type": "code",
   "execution_count": 19,
   "metadata": {},
   "outputs": [],
   "source": [
    "from sklearn.feature_extraction.text import TfidfTransformer, HashingVectorizer\n",
    "\n",
    "hashed_data = HashingVectorizer(n_features=5000, ngram_range=(1, 3), stop_words='english').fit_transform(spam_data[\"text\"])\n",
    "hashed_matrix_data = TfidfTransformer().fit_transform(hashed_data)"
   ]
  },
  {
   "cell_type": "code",
   "execution_count": 20,
   "metadata": {},
   "outputs": [
    {
     "name": "stdout",
     "output_type": "stream",
     "text": [
      "F1 Score for HashedVectorizer: 0.8580\n"
     ]
    }
   ],
   "source": [
    "from sklearn.model_selection import train_test_split\n",
    "from sklearn.naive_bayes import GaussianNB\n",
    "from sklearn.metrics import f1_score\n",
    "\n",
    "X_htrain, X_htest, y_htrain, y_htest = train_test_split(hashed_matrix_data, y_data, test_size=0.1, random_state=0)\n",
    "model = GaussianNB()\n",
    "model.fit(X_htrain.todense(), y_htrain)\n",
    "y_hpred = model.predict(X_htest.todense())\n",
    "print(\"F1 Score for HashedVectorizer: {:.4f}\".format(f1_score(y_hpred, y_htest)))"
   ]
  },
  {
   "cell_type": "code",
   "execution_count": null,
   "metadata": {},
   "outputs": [],
   "source": []
  }
 ],
 "metadata": {
  "kernelspec": {
   "display_name": "Python 3",
   "language": "python",
   "name": "python3"
  },
  "language_info": {
   "codemirror_mode": {
    "name": "ipython",
    "version": 3
   },
   "file_extension": ".py",
   "mimetype": "text/x-python",
   "name": "python",
   "nbconvert_exporter": "python",
   "pygments_lexer": "ipython3",
   "version": "3.5.2"
  }
 },
 "nbformat": 4,
 "nbformat_minor": 4
}
