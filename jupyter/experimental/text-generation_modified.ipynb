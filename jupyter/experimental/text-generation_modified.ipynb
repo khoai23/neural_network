{
 "cells": [
  {
   "cell_type": "code",
   "execution_count": 1,
   "metadata": {},
   "outputs": [
    {
     "name": "stderr",
     "output_type": "stream",
     "text": [
      "Using TensorFlow backend.\n"
     ]
    },
    {
     "data": {
      "text/plain": [
       "'2.2.4'"
      ]
     },
     "execution_count": 1,
     "metadata": {},
     "output_type": "execute_result"
    }
   ],
   "source": [
    "import keras\n",
    "keras.__version__"
   ]
  },
  {
   "cell_type": "markdown",
   "metadata": {},
   "source": [
    "# Text generation with LSTM\n",
    "\n",
    "This notebook contains the code samples found in Chapter 8, Section 1 of [Deep Learning with Python](https://www.manning.com/books/deep-learning-with-python?a_aid=keras&a_bid=76564dff). Note that the original text features far more content, in particular further explanations and figures: in this notebook, you will only find source code and related comments.\n",
    "\n",
    "----\n",
    "\n",
    "[...]\n",
    "\n",
    "## Implementing character-level LSTM text generation\n",
    "\n",
    "\n",
    "Let's put these ideas in practice in a Keras implementation. The first thing we need is a lot of text data that we can use to learn a \n",
    "language model. You could use any sufficiently large text file or set of text files -- Wikipedia, the Lord of the Rings, etc. In this \n",
    "example we will use some of the writings of Nietzsche, the late-19th century German philosopher (translated to English). The language model \n",
    "we will learn will thus be specifically a model of Nietzsche's writing style and topics of choice, rather than a more generic model of the \n",
    "English language."
   ]
  },
  {
   "cell_type": "markdown",
   "metadata": {},
   "source": [
    "## Preparing the data\n",
    "\n",
    "Let's start by downloading the corpus and converting it to lowercase:"
   ]
  },
  {
   "cell_type": "code",
   "execution_count": 2,
   "metadata": {},
   "outputs": [
    {
     "name": "stdout",
     "output_type": "stream",
     "text": [
      "Corpus length: 600893\n"
     ]
    }
   ],
   "source": [
    "import keras\n",
    "import numpy as np\n",
    "\n",
    "path = keras.utils.get_file(\n",
    "    'nietzsche.txt',\n",
    "    origin='https://s3.amazonaws.com/text-datasets/nietzsche.txt')\n",
    "text = open(path).read().lower()\n",
    "print('Corpus length:', len(text))"
   ]
  },
  {
   "cell_type": "markdown",
   "metadata": {},
   "source": [
    "Next, we will extract partially-overlapping sequences of length `maxlen`, one-hot encode them and pack them in a 3D Numpy array `x` of \n",
    "shape `(sequences, maxlen, unique_characters)`. Simultaneously, we prepare a array `y` containing the corresponding targets: the categorical `(sequences, maxlen, unique_characters)` of the next section of the document."
   ]
  },
  {
   "cell_type": "code",
   "execution_count": 3,
   "metadata": {},
   "outputs": [
    {
     "name": "stdout",
     "output_type": "stream",
     "text": [
      "Unique characters: 57\n",
      "Number of sequences: 200277\n"
     ]
    }
   ],
   "source": [
    "# Length of extracted character sequences\n",
    "maxlen = 60\n",
    "\n",
    "# We sample a new sequence every `step` characters\n",
    "step = 3\n",
    "\n",
    "# This holds our extracted sequences\n",
    "sentences = []\n",
    "\n",
    "# This holds the targets (the follow-up sequence)\n",
    "next_chars = []\n",
    "\n",
    "# List of unique characters in the corpus\n",
    "chars = sorted(list(set(text)))\n",
    "print('Unique characters:', len(chars))\n",
    "# Dictionary mapping unique characters to their index in `chars`\n",
    "char_indices = dict((char, chars.index(char)) for char in chars)\n",
    "\n",
    "for i in range(0, len(text) - maxlen - step, step):\n",
    "    sentences.append(text[i: i + maxlen])\n",
    "    next_chars.append(text[i + maxlen])\n",
    "print('Number of sequences:', len(sentences))"
   ]
  },
  {
   "cell_type": "code",
   "execution_count": 8,
   "metadata": {},
   "outputs": [],
   "source": [
    "# Instead of selection by static step, we weight the output on the ratio of their popularity and scale them\n",
    "seed = 1000\n",
    "np.random.seed(seed)\n",
    "\n",
    "# appearance dict\n",
    "from collections import Counter\n",
    "count = Counter()\n",
    "count.update(text)\n",
    "selection_chance_fn = lambda occ: float(400000) / (float(occ) * len(count))\n",
    "char_selection_chance = {c: selection_chance_fn(occ) for c, occ in count.items()}\n",
    "\n",
    "sentences, next_chars = [], []\n",
    "for i, chance in zip(range(maxlen, len(text)), np.random.rand(len(text)-maxlen)):\n",
    "    c = text[i]\n",
    "    if(chance <= char_selection_chance[c]):\n",
    "        # load in if pass the random selection\n",
    "        sentences.append(text[i-maxlen:i])\n",
    "        next_chars.append(c)"
   ]
  },
  {
   "cell_type": "markdown",
   "metadata": {},
   "source": [
    "## Building the network\n",
    "\n",
    "Our network is a single `LSTM` layer followed by a `Dense` classifier and softmax over all possible characters. But let us note that \n",
    "recurrent neural networks are not the only way to do sequence data generation; 1D convnets also have proven extremely successful at it in \n",
    "recent times."
   ]
  },
  {
   "cell_type": "code",
   "execution_count": 10,
   "metadata": {},
   "outputs": [],
   "source": [
    "import tensorflow as tf\n",
    "# Enforce dynamic session for Keras. Run to avoid GPU ram hogging\n",
    "from keras.backend.tensorflow_backend import set_session\n",
    "config = tf.ConfigProto()\n",
    "config.gpu_options.allow_growth = True  # dynamically grow the memory used on the GPU\n",
    "config.log_device_placement = True  # to log device placement (on which device the operation ran)\n",
    "                                    # (nothing gets printed in Jupyter, only if you run it standalone)\n",
    "sess = tf.Session(config=config)\n",
    "set_session(sess)  # set this TensorFlow session as the default session for Keras"
   ]
  },
  {
   "cell_type": "code",
   "execution_count": 11,
   "metadata": {},
   "outputs": [
    {
     "name": "stdout",
     "output_type": "stream",
     "text": [
      "_________________________________________________________________\n",
      "Layer (type)                 Output Shape              Param #   \n",
      "=================================================================\n",
      "input_1 (InputLayer)         (None, 60)                0         \n",
      "_________________________________________________________________\n",
      "embedding_1 (Embedding)      (None, 60, 128)           7296      \n",
      "_________________________________________________________________\n",
      "bidirectional_1 (Bidirection (None, 256)               263168    \n",
      "_________________________________________________________________\n",
      "dense_1 (Dense)              (None, 57)                14649     \n",
      "_________________________________________________________________\n",
      "softmax_1 (Softmax)          (None, 57)                0         \n",
      "=================================================================\n",
      "Total params: 285,113\n",
      "Trainable params: 285,113\n",
      "Non-trainable params: 0\n",
      "_________________________________________________________________\n"
     ]
    }
   ],
   "source": [
    "# Bidirectional Sequential, with internal embedding layer\n",
    "from keras import layers, Input\n",
    "from keras.models import Model\n",
    "\n",
    "vocab_size = len(chars)\n",
    "#import inspect\n",
    "#print(inspect.signature(Input))\n",
    "inputs = Input(shape=(maxlen, ))\n",
    "embedded = layers.Embedding(vocab_size, 128)(inputs)\n",
    "bidir_encoder = layers.Bidirectional(layers.LSTM(128, unroll=True))(embedded)\n",
    "output_logits = layers.Dense(vocab_size)(bidir_encoder)\n",
    "#output_raw = layers.Reshape([output_size, vocab_size], name=\"resize\")(output_flat)\n",
    "outputs = layers.Softmax()(output_logits)\n",
    "model = Model(inputs=inputs, outputs=outputs)\n",
    "model.summary()"
   ]
  },
  {
   "cell_type": "markdown",
   "metadata": {},
   "source": [
    "Since our targets are one-hot encoded, we will use `categorical_crossentropy` as the loss to train the model:"
   ]
  },
  {
   "cell_type": "code",
   "execution_count": 12,
   "metadata": {},
   "outputs": [],
   "source": [
    "optimizer = keras.optimizers.RMSprop(lr=0.01)\n",
    "model.compile(loss='categorical_crossentropy', optimizer=optimizer)"
   ]
  },
  {
   "cell_type": "markdown",
   "metadata": {},
   "source": [
    "## Training the language model and sampling from it\n",
    "\n",
    "\n",
    "Given a trained model and a seed text snippet, we generate new text by repeatedly:\n",
    "\n",
    "* 1) Drawing from the model a probability distribution over the next character given the text available so far\n",
    "* 2) Reweighting the distribution to a certain \"temperature\"\n",
    "* 3) Sampling the next character at random according to the reweighted distribution\n",
    "* 4) Adding the new character at the end of the available text\n",
    "\n",
    "This is the code we use to reweight the original probability distribution coming out of the model, \n",
    "and draw a character index from it (the \"sampling function\"):"
   ]
  },
  {
   "cell_type": "code",
   "execution_count": 13,
   "metadata": {},
   "outputs": [],
   "source": [
    "from scipy.special import softmax\n",
    "def sample(preds, temperature=1.0):\n",
    "    preds = np.asarray(preds).astype('float64')\n",
    "    preds = np.log(preds) / temperature\n",
    "    exp_preds = np.exp(preds)\n",
    "    preds = exp_preds / np.sum(exp_preds)\n",
    "    probas = np.random.multinomial(1, preds, 1)\n",
    "    return np.argmax(probas)\n",
    "\n",
    "def mass_sample(preds, temperature=0.0):\n",
    "    if(temperature==0.0):\n",
    "        return np.argmax(preds, axis=1)\n",
    "    log_preds = np.log(preds) / temperature\n",
    "    softmaxed_preds = softmax(log_preds, axis=1) * 0.99 # hack to avoid the 1.02 stuff\n",
    "    assert np.all(np.sum(softmaxed_preds, axis=1) <= 1.0), \"{}\".format(np.sum(softmaxed_preds, axis=1))\n",
    "    return [np.argmax(np.random.multinomial(vocab_size, p)) for p in softmaxed_preds]"
   ]
  },
  {
   "cell_type": "code",
   "execution_count": 28,
   "metadata": {},
   "outputs": [
    {
     "data": {
      "text/plain": [
       "4"
      ]
     },
     "execution_count": 28,
     "metadata": {},
     "output_type": "execute_result"
    }
   ],
   "source": [
    "#np.argmax(np.random.multinomial(3, [1.0 / 7.0] * 7, size=(3,)))"
   ]
  },
  {
   "cell_type": "markdown",
   "metadata": {},
   "source": [
    "\n",
    "Finally, this is the loop where we repeatedly train and generated text. We start generating text using a range of different temperatures \n",
    "after every epoch. This allows us to see how the generated text evolves as the model starts converging, as well as the impact of \n",
    "temperature in the sampling strategy."
   ]
  },
  {
   "cell_type": "code",
   "execution_count": 9,
   "metadata": {},
   "outputs": [
    {
     "name": "stdout",
     "output_type": "stream",
     "text": [
      "(183110, 60) (183110, 57)\n"
     ]
    }
   ],
   "source": [
    "# additional conversion to assure data constraint. \n",
    "from keras.utils import to_categorical\n",
    "# convert the features and labels to their respective indices and one-hot values\n",
    "features = [[char_indices[c] for c in sent] for sent in sentences]\n",
    "labels = to_categorical([char_indices[c] for c in next_chars], num_classes=len(chars))\n",
    "# Should came in shapes of [data_size, input_size] and [data_size, output_size, vocab_size]\n",
    "features = np.array(features)\n",
    "labels = np.array(labels)\n",
    "print(features.shape, labels.shape)"
   ]
  },
  {
   "cell_type": "code",
   "execution_count": 14,
   "metadata": {},
   "outputs": [],
   "source": [
    "def output_constant_temperature(seed_text, model, num_gen=400, temperature=1.0):\n",
    "    # constant temperature throughout the text\n",
    "    maxpreds = []\n",
    "    for i in range(num_gen):\n",
    "        sampled = np.array([char_indices[c] for c in seed_text]).reshape([1, len(seed_text)])\n",
    "\n",
    "        preds = model.predict(sampled, verbose=0)[0]\n",
    "        next_index = sample(preds, temperature)\n",
    "        next_char = chars[next_index]\n",
    "        seed_text = seed_text[1:] + next_char\n",
    "\n",
    "        sys.stdout.write(next_char)\n",
    "        sys.stdout.flush()\n",
    "        maxpreds.append(np.max(preds))\n",
    "    print() #print(\"\\nAverage maximum preds: \", np.mean(maxpreds))"
   ]
  },
  {
   "cell_type": "code",
   "execution_count": 15,
   "metadata": {
    "scrolled": false
   },
   "outputs": [
    {
     "name": "stdout",
     "output_type": "stream",
     "text": [
      "--- Generating with seed: \"of these\n",
      "things he attained the extraordinary with which he \"\n",
      "------ constant temperature: 0.2\n",
      "of these\n",
      "things he attained the extraordinary with which he which which\n",
      "which which which which which which which which which purposes,\n",
      "wherever,                                                            which\n",
      "wherever,                                                            is\n",
      "which much which which which which which which which which which\n",
      "which which which which may believed which which wherever,                                                      \n",
      "\n",
      "------ constant temperature: 0.5\n",
      "of these\n",
      "things he attained the extraordinary with which he whenciling\n",
      "things, and provilved wherever,                                   \n",
      ". but in many, by markness,\"--which power, but indurous, by--where\n",
      "may capent\", problecip, for the whereventing plict, which domich,\n",
      "which powers,\" which is any believed of sympathy.\n",
      "\n",
      "\n",
      "\n",
      "\n",
      "11111\n",
      "\n",
      "\n",
      "1\n",
      "\n",
      "\n",
      "\n",
      "3\n",
      "\n",
      "=progling, which which philosophy, in more pazz, whelh which\n",
      "which up! which much comple of pallack, which all the greg\n",
      "\n",
      "------ constant temperature: 1.0\n",
      "of these\n",
      "things he attained the extraordinary with which he will, thit\n",
      "signify: and problem worknouging!\n",
      "\n",
      "\n",
      "213\n",
      "\n",
      "=powpted by vight be pastia,\"--how cumbint\"--poward\",\"--will\n",
      "become powing, and gloward up)(is, but conclict is, the find,\n",
      "whete whole\n",
      "larwatward, but fask, which uccust, in commivy is put callow--wheed\n",
      "now,\"--favoer us:--desplary, proplying-romprive of it, which\n",
      "bad?--it to past,\"--which \"smesps--ad max:--on preatulily; pleigy\n",
      "will culdurist!\n",
      "\n",
      "\n",
      "\n",
      "\n",
      "------ constant temperature: 1.2\n",
      "of these\n",
      "things he attained the extraordinary with which he which wind\n",
      "thetizegoure, inconclict, wran's!\n",
      "\n",
      "\n",
      "\n",
      "u\n",
      "campive--ifsesprively clackes\"enives\"--regarizalizing known,\n",
      "by wirwarively, bring--regred great,\n",
      "infeceard, \"whan know, impurt.\n",
      "\n",
      "\n",
      "65\n",
      "\n",
      "=the fuarous verychinity daympo?\"--graveywhy any indelligation\n",
      "up: but rupthris\n",
      "befor capilely.\n",
      "\n",
      "\n",
      "22.\n",
      "\n",
      "2\n",
      "\n",
      "11[[3], agailsply. valudly-grown:--womany ifemorily, \n",
      "18.\n",
      "\n",
      "\n",
      "127\n",
      "\n",
      "=caps,\" appesseapliut.\n",
      "\n",
      "90.\n",
      "\n",
      "\n",
      "\n",
      "\n",
      "\n",
      "19\n",
      "\n",
      "=bymof \n",
      "\n"
     ]
    }
   ],
   "source": [
    "import random\n",
    "import sys\n",
    "from IPython.display import clear_output\n",
    "\n",
    "histories = []\n",
    "for epoch in range(1, 10):\n",
    "    print('Epoch: ', epoch)\n",
    "    # Fit the model for 1 epoch on the available training data\n",
    "    current_history = model.fit(features, labels,\n",
    "              batch_size=128,\n",
    "              epochs=1)\n",
    "    histories.append(current_history)\n",
    "\n",
    "    # clear the output and prevent cluttering\n",
    "    clear_output()\n",
    "    \n",
    "    # Select a text seed at random\n",
    "    start_index = random.randint(0, len(text) - maxlen - 1)\n",
    "    generated_text = text[start_index: start_index + maxlen]\n",
    "    print('--- Generating with seed: \"' + generated_text + '\"')\n",
    "\n",
    "    for temperature in [0.2, 0.5, 1.0, 1.2]:\n",
    "        print('------ constant temperature:', temperature)\n",
    "        sys.stdout.write(generated_text)\n",
    "        # We generate for 400 characters using a maxlen batch\n",
    "        output_constant_temperature(generated_text, model, num_gen=400, temperature=temperature)\n",
    "        \n",
    "        print()"
   ]
  },
  {
   "cell_type": "code",
   "execution_count": 15,
   "metadata": {},
   "outputs": [
    {
     "name": "stdout",
     "output_type": "stream",
     "text": [
      "re, than the happily preserved petit\n",
      "fait that under the pile be is have the self--it is not self-and long as he who it is the should the self-more is been even with a neverty, of a incertain possessions of the freagod of therefore the would never of self-interent, in there is the finally\n",
      "self--the say in the different of ever the precessal been have as do back, more is the delive of been the reason in a men must be more as it morant a make and the necesso\n"
     ]
    }
   ],
   "source": [
    "temperature = 0.5\n",
    "start_index = random.randint(0, len(text) - maxlen - 1)\n",
    "generated_text = text[start_index: start_index + maxlen]\n",
    "sys.stdout.write(generated_text)\n",
    "# We generate for 400 characters using a maxlen batch\n",
    "output_constant_temperature(generated_text, model, num_gen=400, temperature=temperature)"
   ]
  },
  {
   "cell_type": "markdown",
   "metadata": {},
   "source": [
    "\n",
    "As you can see, a low temperature results in extremely repetitive and predictable text, but where local structure is highly realistic: in \n",
    "particular, all words (a word being a local pattern of characters) are real English words. With higher temperatures, the generated text \n",
    "becomes more interesting, surprising, even creative; it may sometimes invent completely new words that sound somewhat plausible (such as \n",
    "\"eterned\" or \"troveration\"). With a high temperature, the local structure starts breaking down and most words look like semi-random strings \n",
    "of characters. Without a doubt, here 0.5 is the most interesting temperature for text generation in this specific setup. Always experiment \n",
    "with multiple sampling strategies! A clever balance between learned structure and randomness is what makes generation interesting.\n",
    "\n",
    "Note that by training a bigger model, longer, on more data, you can achieve generated samples that will look much more coherent and \n",
    "realistic than ours. But of course, don't expect to ever generate any meaningful text, other than by random chance: all we are doing is \n",
    "sampling data from a statistical model of which characters come after which characters. Language is a communication channel, and there is \n",
    "a distinction between what communications are about, and the statistical structure of the messages in which communications are encoded. To \n",
    "evidence this distinction, here is a thought experiment: what if human language did a better job at compressing communications, much like \n",
    "our computers do with most of our digital communications? Then language would be no less meaningful, yet it would lack any intrinsic \n",
    "statistical structure, thus making it impossible to learn a language model like we just did.\n",
    "\n",
    "\n",
    "## Take aways\n",
    "\n",
    "* We can generate discrete sequence data by training a model to predict the next tokens(s) given previous tokens.\n",
    "* In the case of text, such a model is called a \"language model\" and could be based on either words or characters.\n",
    "* Sampling the next token requires balance between adhering to what the model judges likely, and introducing randomness.\n",
    "* One way to handle this is the notion of _softmax temperature_. Always experiment with different temperatures to find the \"right\" one."
   ]
  }
 ],
 "metadata": {
  "kernelspec": {
   "display_name": "Python 3",
   "language": "python",
   "name": "python3"
  },
  "language_info": {
   "codemirror_mode": {
    "name": "ipython",
    "version": 3
   },
   "file_extension": ".py",
   "mimetype": "text/x-python",
   "name": "python",
   "nbconvert_exporter": "python",
   "pygments_lexer": "ipython3",
   "version": "3.5.2"
  }
 },
 "nbformat": 4,
 "nbformat_minor": 2
}
