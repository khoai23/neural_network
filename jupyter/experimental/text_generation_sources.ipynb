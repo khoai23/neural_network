{
 "cells": [
  {
   "cell_type": "code",
   "execution_count": 1,
   "metadata": {},
   "outputs": [
    {
     "name": "stderr",
     "output_type": "stream",
     "text": [
      "Using TensorFlow backend.\n"
     ]
    },
    {
     "data": {
      "text/plain": [
       "'2.2.4'"
      ]
     },
     "execution_count": 1,
     "metadata": {},
     "output_type": "execute_result"
    }
   ],
   "source": [
    "import keras\n",
    "keras.__version__"
   ]
  },
  {
   "cell_type": "markdown",
   "metadata": {},
   "source": [
    "# Text generation with LSTM\n",
    "\n",
    "This notebook contains the code samples found in Chapter 8, Section 1 of [Deep Learning with Python](https://www.manning.com/books/deep-learning-with-python?a_aid=keras&a_bid=76564dff). Note that the original text features far more content, in particular further explanations and figures: in this notebook, you will only find source code and related comments.\n",
    "\n",
    "----\n",
    "\n",
    "[...]\n",
    "\n",
    "## Implementing character-level LSTM text generation\n",
    "\n",
    "\n",
    "Let's put these ideas in practice in a Keras implementation. The first thing we need is a lot of text data that we can use to learn a \n",
    "language model. You could use any sufficiently large text file or set of text files -- Wikipedia, the Lord of the Rings, etc. In this \n",
    "example we will use some of the writings of Nietzsche, the late-19th century German philosopher (translated to English). The language model \n",
    "we will learn will thus be specifically a model of Nietzsche's writing style and topics of choice, rather than a more generic model of the \n",
    "English language."
   ]
  },
  {
   "cell_type": "markdown",
   "metadata": {},
   "source": [
    "## Preparing the data\n",
    "\n",
    "Let's start by downloading the corpus and converting it to lowercase:"
   ]
  },
  {
   "cell_type": "code",
   "execution_count": 2,
   "metadata": {},
   "outputs": [
    {
     "name": "stdout",
     "output_type": "stream",
     "text": [
      "Corpus sentences: 999999\n"
     ]
    }
   ],
   "source": [
    "import keras\n",
    "import numpy as np\n",
    "import io, unicodedata, string\n",
    "\n",
    "#path = keras.utils.get_file('nietzsche.txt', origin='https://s3.amazonaws.com/text-datasets/nietzsche.txt')\n",
    "path = \"/workspace/khoai23/opennmt/data/monolingual/vi/vie_wikipedia_2016_1M-sentences.txt\"\n",
    "text = io.open(path, \"r\").readlines()\n",
    "print('Corpus sentences:', len(text))"
   ]
  },
  {
   "cell_type": "code",
   "execution_count": 3,
   "metadata": {},
   "outputs": [
    {
     "data": {
      "text/plain": [
       "(array([1.00000e+00, 1.00000e+00, 5.00000e+00, 1.40000e+01, 3.50000e+01,\n",
       "        2.10000e+02, 1.03300e+03, 2.40180e+04, 1.60633e+05, 8.14049e+05]),\n",
       " array([0. , 0.1, 0.2, 0.3, 0.4, 0.5, 0.6, 0.7, 0.8, 0.9, 1. ]),\n",
       " <a list of 10 Patch objects>)"
      ]
     },
     "execution_count": 3,
     "metadata": {},
     "output_type": "execute_result"
    },
    {
     "data": {
      "image/png": "[encoded data removed]",
      "text/plain": [
       "<Figure size 432x288 with 1 Axes>"
      ]
     },
     "metadata": {
      "needs_background": "light"
     },
     "output_type": "display_data"
    }
   ],
   "source": [
    "VN_chars = \"ÀÁÂÃÈÉÊÌÍÒÓÔÕÙÚĂĐĨŨƠàáâãèéêìíòóôõùúăđĩũơƯĂẠẢẤẦẨẪẬẮẰẲẴẶẸẺẼỀỀỂ ưăạảấầẩẫậắằẳẵặẹẻẽềềểỄỆỈỊỌỎỐỒỔỖỘỚỜỞỠỢỤỦỨỪễệỉịọỏốồổỗộớờởỡợụủứừỬỮỰỲỴÝỶỸửữựỳỵỷỹ\"\n",
    "assert 'a' < 'z'\n",
    "valid_char = lambda x: 'a' < x.lower() < 'z' or x in VN_chars or x in string.punctuation\n",
    "def valid_perc(paragraph):\n",
    "    paragraph = unicodedata.normalize('NFKC', paragraph)\n",
    "    num_chars = len(paragraph)\n",
    "    num_valid_chars = sum( (1 if valid_char(c) else 0 for c in paragraph) )\n",
    "    return float(num_valid_chars) / float(num_chars)\n",
    "\n",
    "truetext = (l.split(\" \", 1)[-1].strip() for l in text if l.strip() != \"\")\n",
    "percs = [valid_perc(l) for l in truetext]\n",
    "\n",
    "%matplotlib inline\n",
    "import matplotlib.pyplot as plt\n",
    "plt.hist(percs, bins=10)"
   ]
  },
  {
   "cell_type": "code",
   "execution_count": 4,
   "metadata": {},
   "outputs": [
    {
     "name": "stdout",
     "output_type": "stream",
     "text": [
      "132709\tChức vụ Giám đốc Nhà máy điện hạt nhân Đầu Tiên được trao cho Nikolaev N.A. (Николаев Николай Андреевич).\n",
      "\n",
      "Chức vụ Giám đốc Nhà máy điện hạt nhân Đầu Tiên được trao cho Nikolaev N.A. (Николаев Николай Андреевич).\n"
     ]
    }
   ],
   "source": [
    "nan_percs = [np.nan if p<0.73 else p for p in percs]\n",
    "worst_sent_idx = np.nanargmin(nan_percs)\n",
    "print(text[worst_sent_idx])\n",
    "print(text[worst_sent_idx].split(\"\\t\", 1)[-1].strip())"
   ]
  },
  {
   "cell_type": "code",
   "execution_count": 5,
   "metadata": {},
   "outputs": [
    {
     "data": {
      "text/plain": [
       "(array([ 36339., 154317., 209381., 170427., 143797., 113447.,  77526.,\n",
       "         56139.,  30885.,   6492.]),\n",
       " array([ 11. ,  35.4,  59.8,  84.2, 108.6, 133. , 157.4, 181.8, 206.2,\n",
       "        230.6, 255. ]),\n",
       " <a list of 10 Patch objects>)"
      ]
     },
     "execution_count": 5,
     "metadata": {},
     "output_type": "execute_result"
    },
    {
     "data": {
      "image/png": "[encoded data removed]",
      "text/plain": [
       "<Figure size 432x288 with 1 Axes>"
      ]
     },
     "metadata": {
      "needs_background": "light"
     },
     "output_type": "display_data"
    }
   ],
   "source": [
    "filtered_text = (line for p, line in zip(percs, text) if p >= 0.7)\n",
    "normalized_text = [l.split(\"\\t\", 1)[-1].strip().lower() for l in filtered_text if l.strip() != \"\"]\n",
    "plt.hist([len(l) for l in normalized_text], bins=10)"
   ]
  },
  {
   "cell_type": "code",
   "execution_count": null,
   "metadata": {},
   "outputs": [],
   "source": [
    "! sed -n '800000,800020p' /workspace/khoai23/opennmt/data/monolingual/vi/vie_wikipedia_2016_1M-sentences.txt"
   ]
  },
  {
   "cell_type": "markdown",
   "metadata": {},
   "source": [
    "\n",
    "Next, we will extract partially-overlapping sequences of length `maxlen`, one-hot encode them and pack them in a 3D Numpy array `x` of \n",
    "shape `(sequences, maxlen, unique_characters)`. Simultaneously, we prepare a array `y` containing the corresponding targets: the one-hot \n",
    "encoded characters that come right after each extracted sequence."
   ]
  },
  {
   "cell_type": "code",
   "execution_count": 6,
   "metadata": {},
   "outputs": [
    {
     "name": "stdout",
     "output_type": "stream",
     "text": [
      "Number of sequences: 25612874\n",
      "Unique characters: 802\n",
      "(25612874, 30) (25612874,)\n"
     ]
    }
   ],
   "source": [
    "# Length of extracted character sequences\n",
    "maxlen = 30\n",
    "\n",
    "# We sample a new sequence every `step` characters\n",
    "step = 3\n",
    "\n",
    "# This holds our extracted sequences\n",
    "sentences = []\n",
    "\n",
    "# This holds the targets (the follow-up characters)\n",
    "next_chars = []\n",
    "\n",
    "#for i in range(0, len(text) - maxlen, step):\n",
    "#    sentences.append(text[i: i + maxlen])\n",
    "#    next_chars.append(text[i + maxlen])\n",
    "for l in normalized_text:\n",
    "    for i in range(0, len(l)-maxlen, step):\n",
    "        sentences.append(l[i: i + maxlen])\n",
    "        next_chars.append(l[i + maxlen])\n",
    "print('Number of sequences:', len(sentences))\n",
    "\n",
    "# List of unique characters in the corpus\n",
    "from collections import Counter\n",
    "all_chars = Counter()\n",
    "for l in normalized_text:\n",
    "    all_chars.update(l)\n",
    "# take only characters that have occurred more than 20 times\n",
    "chars = {i+1:c for i, (c, occ) in enumerate(all_chars.most_common()) if occ >= 20}\n",
    "chars[0] = None\n",
    "char_indices = {char:i for i, char in chars.items()}\n",
    "chars[0] = '?'\n",
    "\n",
    "print('Unique characters:', len(chars))\n",
    "# Dictionary mapping unique characters to their index in `chars`\n",
    "\n",
    "# encode to characters index for input and output\n",
    "from keras.utils.np_utils import to_categorical   \n",
    "x = np.array([[char_indices.get(c, 0) for c in sent] for sent in sentences])\n",
    "y = np.array([char_indices.get(c, 0) for c in next_chars])\n",
    "print(x.shape, y.shape)\n",
    "\n",
    "#plt.hist([occ for c, occ in all_chars.items()], bins=20)\n",
    "# Next, one-hot encode the characters into binary arrays.\n",
    "#print('Vectorization...')\n",
    "#x = np.zeros((len(sentences), maxlen, len(chars)), dtype=np.bool)\n",
    "#y = np.zeros((len(sentences), len(chars)), dtype=np.bool)\n",
    "#for i, sentence in enumerate(sentences):\n",
    "#    for t, char in enumerate(sentence):\n",
    "#        x[i, t, char_indices[char]] = 1\n",
    "#    y[i, char_indices[next_chars[i]]] = 1"
   ]
  },
  {
   "cell_type": "code",
   "execution_count": null,
   "metadata": {},
   "outputs": [],
   "source": []
  },
  {
   "cell_type": "markdown",
   "metadata": {},
   "source": [
    "## Building the network\n",
    "\n",
    "Our network is a single `LSTM` layer followed by a `Dense` classifier and softmax over all possible characters. But let us note that \n",
    "recurrent neural networks are not the only way to do sequence data generation; 1D convnets also have proven extremely successful at it in \n",
    "recent times."
   ]
  },
  {
   "cell_type": "code",
   "execution_count": 7,
   "metadata": {},
   "outputs": [],
   "source": [
    "import tensorflow as tf\n",
    "# Enforce dynamic session for Keras. Run to avoid GPU ram hogging\n",
    "from keras.backend.tensorflow_backend import set_session\n",
    "config = tf.ConfigProto()\n",
    "config.gpu_options.allow_growth = True  # dynamically grow the memory used on the GPU\n",
    "config.log_device_placement = True  # to log device placement (on which device the operation ran)\n",
    "                                    # (nothing gets printed in Jupyter, only if you run it standalone)\n",
    "sess = tf.Session(config=config)\n",
    "set_session(sess)  # set this TensorFlow session as the default session for Keras"
   ]
  },
  {
   "cell_type": "code",
   "execution_count": 8,
   "metadata": {},
   "outputs": [
    {
     "name": "stdout",
     "output_type": "stream",
     "text": [
      "_________________________________________________________________\n",
      "Layer (type)                 Output Shape              Param #   \n",
      "=================================================================\n",
      "input_1 (InputLayer)         (None, 30)                0         \n",
      "_________________________________________________________________\n",
      "embedding_1 (Embedding)      (None, 30, 128)           102656    \n",
      "_________________________________________________________________\n",
      "lstm_1 (LSTM)                (None, 128)               131584    \n",
      "_________________________________________________________________\n",
      "dense_1 (Dense)              (None, 802)               103458    \n",
      "=================================================================\n",
      "Total params: 337,698\n",
      "Trainable params: 337,698\n",
      "Non-trainable params: 0\n",
      "_________________________________________________________________\n"
     ]
    }
   ],
   "source": [
    "# Original Sequential, fast and reliable\n",
    "from keras import layers, Model\n",
    "\n",
    "#model = keras.models.Sequential()\n",
    "inputs = layers.Input(shape=(maxlen,))\n",
    "embedded = layers.Embedding(input_dim=len(chars), output_dim=128)(inputs)\n",
    "sequenced = layers.LSTM(128, unroll=True)(embedded)\n",
    "outputs = layers.Dense(len(chars), activation='softmax')(sequenced)\n",
    "label_inputs = layers.Input(shape=())\n",
    "model = Model(inputs=inputs, outputs=outputs)\n",
    "model.summary()"
   ]
  },
  {
   "cell_type": "markdown",
   "metadata": {},
   "source": [
    "~~Since our targets are one-hot encoded, we will use `categorical_crossentropy` as the loss to train the model:~~\n",
    "\n",
    "Our target is single category entropy, thus we will use `tf.keras.losses.SparseCategoricalCrossentropy` instead"
   ]
  },
  {
   "cell_type": "code",
   "execution_count": 9,
   "metadata": {},
   "outputs": [],
   "source": [
    "#from keras import losses\n",
    "optimizer = keras.optimizers.RMSprop(lr=0.01)\n",
    "def custom_fn(y_true, y_preds):\n",
    "    y_true = tf.cast(y_true, tf.int32) # hack, reconvert value back to int\n",
    "    y_true_onehot = tf.one_hot(y_true, len(chars), name=\"y_true_category\")\n",
    "    return tf.keras.losses.categorical_crossentropy(y_true_onehot, y_preds)\n",
    "#import inspect\n",
    "#inspect.signature(model.compile)\n",
    "model.compile(loss=custom_fn, optimizer=optimizer) # keras.backend.sparse_categorical_crossentropy, target_tensors=label_inputs"
   ]
  },
  {
   "cell_type": "markdown",
   "metadata": {},
   "source": [
    "## Training the language model and sampling from it\n",
    "\n",
    "\n",
    "Given a trained model and a seed text snippet, we generate new text by repeatedly:\n",
    "\n",
    "* 1) Drawing from the model a probability distribution over the next character given the text available so far\n",
    "* 2) Reweighting the distribution to a certain \"temperature\"\n",
    "* 3) Sampling the next character at random according to the reweighted distribution\n",
    "* 4) Adding the new character at the end of the available text\n",
    "\n",
    "This is the code we use to reweight the original probability distribution coming out of the model, \n",
    "and draw a character index from it (the \"sampling function\"):"
   ]
  },
  {
   "cell_type": "code",
   "execution_count": 10,
   "metadata": {},
   "outputs": [],
   "source": [
    "def sample(preds, temperature=1.0):\n",
    "    preds = np.asarray(preds).astype('float64')\n",
    "    preds = np.log(preds) / temperature\n",
    "    exp_preds = np.exp(preds)\n",
    "    preds = exp_preds / np.sum(exp_preds)\n",
    "    probas = np.random.multinomial(1, preds, 1)\n",
    "    return np.argmax(probas)"
   ]
  },
  {
   "cell_type": "markdown",
   "metadata": {},
   "source": [
    "\n",
    "Finally, this is the loop where we repeatedly train and generated text. We start generating text using a range of different temperatures \n",
    "after every epoch. This allows us to see how the generated text evolves as the model starts converging, as well as the impact of \n",
    "temperature in the sampling strategy."
   ]
  },
  {
   "cell_type": "code",
   "execution_count": null,
   "metadata": {
    "scrolled": false
   },
   "outputs": [
    {
     "name": "stdout",
     "output_type": "stream",
     "text": [
      "epoch 1\n",
      "Epoch 1/1\n",
      "13866496/25612874 [===============>..............] - ETA: 29:33 - loss: 2.2519"
     ]
    }
   ],
   "source": [
    "import random\n",
    "import sys\n",
    "\n",
    "for epoch in range(1, 10):\n",
    "    print('epoch', epoch)\n",
    "    # Fit the model for 1 epoch on the available training data\n",
    "    model.fit(x, y,\n",
    "              batch_size=512,\n",
    "              epochs=1)\n",
    "\n",
    "    # Select a text seed at random\n",
    "    sentence_seed = random.choice(normalized_text)\n",
    "    start_index = random.randint(0, len(sentence_seed) - maxlen - 1)\n",
    "    generated_text = sentence_seed[start_index: start_index + maxlen]\n",
    "    print('--- Generating with seed: \"' + generated_text + '\"')\n",
    "\n",
    "    for temperature in [0.2, 0.5, 1.0, 1.2]:\n",
    "        print('------ temperature:', temperature)\n",
    "        sys.stdout.write(generated_text)\n",
    "\n",
    "        # We generate 400 characters\n",
    "        for i in range(400):\n",
    "            sampled = [char_indices.get(c, 0) for c in generated_text]\n",
    "\n",
    "            preds = model.predict(np.reshape(sampled, [1, maxlen]), verbose=0)[0]\n",
    "            next_index = sample(preds, temperature)\n",
    "            next_char = chars[next_index]\n",
    "            sampled = sampled[1:] + [next_index]\n",
    "\n",
    "            #generated_text += next_char\n",
    "            #generated_text = generated_text[1:]\n",
    "\n",
    "            sys.stdout.write(next_char)\n",
    "            sys.stdout.flush()\n",
    "        print()"
   ]
  },
  {
   "cell_type": "markdown",
   "metadata": {},
   "source": [
    "\n",
    "As you can see, a low temperature results in extremely repetitive and predictable text, but where local structure is highly realistic: in \n",
    "particular, all words (a word being a local pattern of characters) are real English words. With higher temperatures, the generated text \n",
    "becomes more interesting, surprising, even creative; it may sometimes invent completely new words that sound somewhat plausible (such as \n",
    "\"eterned\" or \"troveration\"). With a high temperature, the local structure starts breaking down and most words look like semi-random strings \n",
    "of characters. Without a doubt, here 0.5 is the most interesting temperature for text generation in this specific setup. Always experiment \n",
    "with multiple sampling strategies! A clever balance between learned structure and randomness is what makes generation interesting.\n",
    "\n",
    "Note that by training a bigger model, longer, on more data, you can achieve generated samples that will look much more coherent and \n",
    "realistic than ours. But of course, don't expect to ever generate any meaningful text, other than by random chance: all we are doing is \n",
    "sampling data from a statistical model of which characters come after which characters. Language is a communication channel, and there is \n",
    "a distinction between what communications are about, and the statistical structure of the messages in which communications are encoded. To \n",
    "evidence this distinction, here is a thought experiment: what if human language did a better job at compressing communications, much like \n",
    "our computers do with most of our digital communications? Then language would be no less meaningful, yet it would lack any intrinsic \n",
    "statistical structure, thus making it impossible to learn a language model like we just did.\n",
    "\n",
    "\n",
    "## Take aways\n",
    "\n",
    "* We can generate discrete sequence data by training a model to predict the next tokens(s) given previous tokens.\n",
    "* In the case of text, such a model is called a \"language model\" and could be based on either words or characters.\n",
    "* Sampling the next token requires balance between adhering to what the model judges likely, and introducing randomness.\n",
    "* One way to handle this is the notion of _softmax temperature_. Always experiment with different temperatures to find the \"right\" one."
   ]
  }
 ],
 "metadata": {
  "kernelspec": {
   "display_name": "Python 3",
   "language": "python",
   "name": "python3"
  },
  "language_info": {
   "codemirror_mode": {
    "name": "ipython",
    "version": 3
   },
   "file_extension": ".py",
   "mimetype": "text/x-python",
   "name": "python",
   "nbconvert_exporter": "python",
   "pygments_lexer": "ipython3",
   "version": "3.5.2"
  }
 },
 "nbformat": 4,
 "nbformat_minor": 2
}
