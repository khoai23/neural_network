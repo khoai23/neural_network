{
 "cells": [
  {
   "cell_type": "code",
   "execution_count": 1,
   "metadata": {},
   "outputs": [
    {
     "name": "stdout",
     "output_type": "stream",
     "text": [
      "Wed Jan  6 13:08:28 2021       \r\n",
      "+-----------------------------------------------------------------------------+\r\n",
      "| NVIDIA-SMI 450.51.06    Driver Version: 450.51.06    CUDA Version: 11.0     |\r\n",
      "|-------------------------------+----------------------+----------------------+\r\n",
      "| GPU  Name        Persistence-M| Bus-Id        Disp.A | Volatile Uncorr. ECC |\r\n",
      "| Fan  Temp  Perf  Pwr:Usage/Cap|         Memory-Usage | GPU-Util  Compute M. |\r\n",
      "|                               |                      |               MIG M. |\r\n",
      "|===============================+======================+======================|\r\n",
      "|   0  GeForce GTX 108...  Off  | 00000000:02:00.0 Off |                  N/A |\r\n",
      "|  0%   39C    P2    52W / 250W |    859MiB / 11177MiB |      0%      Default |\r\n",
      "|                               |                      |                  N/A |\r\n",
      "+-------------------------------+----------------------+----------------------+\r\n",
      "                                                                               \r\n",
      "+-----------------------------------------------------------------------------+\r\n",
      "| Processes:                                                                  |\r\n",
      "|  GPU   GI   CI        PID   Type   Process name                  GPU Memory |\r\n",
      "|        ID   ID                                                   Usage      |\r\n",
      "|=============================================================================|\r\n",
      "|    0   N/A  N/A     13201      C   python3                           857MiB |\r\n",
      "+-----------------------------------------------------------------------------+\r\n"
     ]
    }
   ],
   "source": [
    "!nvidia-smi"
   ]
  },
  {
   "cell_type": "code",
   "execution_count": null,
   "metadata": {},
   "outputs": [],
   "source": []
  },
  {
   "cell_type": "code",
   "execution_count": 2,
   "metadata": {},
   "outputs": [],
   "source": [
    "import torch\n",
    "import torch.nn as nn\n",
    "import torch.nn.functional as F\n",
    "import torch.optim as optim"
   ]
  },
  {
   "cell_type": "code",
   "execution_count": 3,
   "metadata": {},
   "outputs": [],
   "source": [
    "class Encoder(nn.Module):\n",
    "    def __init__(self, embedding_dim, hidden_dim, vocab_size, dropout=0.2):\n",
    "        super(Encoder, self).__init__()\n",
    "        self.hidden_dim = hidden_dim\n",
    "\n",
    "        self.word_embeddings = nn.Embedding(vocab_size, embedding_dim)\n",
    "\n",
    "        # The LSTM takes word embeddings as inputs, and outputs hidden states\n",
    "        # with dimensionality hidden_dim.\n",
    "        self.lstm = nn.LSTM(embedding_dim, hidden_dim, bidirectional=True)\n",
    "        # additional state condenser. 2*2 is bidirectional * (cell+hidden), reduce down to hidden_dim\n",
    "        self.state_condenser = nn.Linear(2*2*hidden_dim, hidden_dim)\n",
    "        # dropout\n",
    "        self.dropout = nn.Dropout(p=dropout)\n",
    "\n",
    "    def forward(self, sentences):\n",
    "        embeds = self.word_embeddings(sentences)\n",
    "        # LSTM take input as [length, batch, emb], which is already formatted in BucketIterator\n",
    "        lstm_seq, lstm_state = self.lstm(embeds)\n",
    "        hidden_state, cell_state = lstm_state\n",
    "        # states are both [2, batch_size, hidden_dim], cat + transpose\n",
    "        batch_size = lstm_seq.shape[1]\n",
    "        condensed_state = self.state_condenser(torch.cat(lstm_state, dim=0).transpose(0, 2)\n",
    "                                                   .contiguous().view(batch_size, 2*2*self.hidden_dim))\n",
    "        # apply dropout\n",
    "        condensed_state = self.dropout(condensed_state)\n",
    "        lstm_seq = self.dropout(lstm_seq)\n",
    "        return condensed_state, lstm_seq"
   ]
  },
  {
   "cell_type": "code",
   "execution_count": 4,
   "metadata": {},
   "outputs": [],
   "source": [
    "class LayeredOutput(nn.Module):\n",
    "    def __init__(self, hidden_dim, dropout=0.2):\n",
    "        super(LayeredOutput, self).__init__()\n",
    "        self.hidden_dim = hidden_dim\n",
    "        self.internal_layer = nn.Linear(hidden_dim, hidden_dim * 2)\n",
    "        # dropout\n",
    "        self.dropout = nn.Dropout(p=dropout)\n",
    "    \n",
    "    def forward(self, inputs, num_apply_layer=3):\n",
    "        # input in form of [batch_size, hidden_dim]\n",
    "        batch_size = inputs.shape[0]\n",
    "        inputs = inputs.view(batch_size, 1, self.hidden_dim)\n",
    "        outputs = [inputs]\n",
    "        for i in range(num_apply_layer):\n",
    "            next_output = self.internal_layer(outputs[-1]).view(batch_size, -1, self.hidden_dim)\n",
    "            outputs.append(next_output)\n",
    "        # output in form of [batch_size, 2^n-1, hidden_dim], need to transpose to fit BucketIterator form\n",
    "        return torch.cat(outputs, dim=1).transpose(0, 1)"
   ]
  },
  {
   "cell_type": "code",
   "execution_count": 5,
   "metadata": {},
   "outputs": [],
   "source": [
    "class Attention(nn.Module):\n",
    "    def __init__(self, hidden_dim):\n",
    "        super(Attention, self).__init__()\n",
    "        self.hidden_dim = hidden_dim\n",
    "        self.q_layer = nn.Linear(hidden_dim, hidden_dim)\n",
    "        self.k_layer, self.v_layer = [nn.Linear(hidden_dim * 2, hidden_dim) for _ in range(2)]\n",
    "    \n",
    "    def forward(self, querries, keys, mask=None):\n",
    "        # querries in [2^n-1, batch_size, hidden_dim], transpose them back first, linear the last dimension\n",
    "        # keys should be [src_len, batch_size, hidden_dim] already, so we transpose keys to [batch_size, hidden_dim, src_len] \n",
    "        # and values as [batch_size, src_len, hidden_dim]\n",
    "        querries = self.q_layer(querries.transpose(0, 1))\n",
    "        keys, values = self.k_layer(keys), self.v_layer(keys)\n",
    "        keys = keys.permute(1, 2, 0); values = values.transpose(0, 1)\n",
    "        # attention should be [batch_size, 2^n-1, src_len], in log form.\n",
    "        # TODO add scale as option\n",
    "        log_attention = torch.matmul(querries, keys)\n",
    "        if(mask is not None):\n",
    "            # mask should be [src_len, batch_size] of bools to remove all padding in src. False is pad\n",
    "            mask = mask.transpose(0, 1).unsqueeze(1)\n",
    "            neginf_pad = (torch.ones(log_attention.shape) * -1e10).to(mask.device)\n",
    "            log_attention = torch.where(mask, log_attention, neginf_pad)\n",
    "        attention = nn.functional.softmax(log_attention, dim=2)\n",
    "        # print(attention.shape, values.shape)\n",
    "        # we want to matmul values and attention [batch_size, 2^n-1, src_len] * [batch_size, src_len, hidden_dim] -> [batch_size, 2^n-1, hidden_dim]\n",
    "        result = torch.matmul(attention, values)\n",
    "        # also transpose to conform with querries\n",
    "        return result.transpose(0, 1)"
   ]
  },
  {
   "cell_type": "code",
   "execution_count": 6,
   "metadata": {},
   "outputs": [],
   "source": [
    "from torch.autograd import Variable\n",
    "class TemplateOutput(Attention):\n",
    "    def __init__(self, hidden_dim, template_num=128, dropout=0.2):\n",
    "        # disregard Attention's init (calling grandparent)\n",
    "        super(Attention, self).__init__()\n",
    "        self.hidden_dim = hidden_dim\n",
    "        # mimic the querries format\n",
    "        self.keys = torch.nn.Parameter(torch.randn(template_num, 1, hidden_dim).type(torch.FloatTensor))\n",
    "        self.values = torch.nn.Parameter(torch.randn(template_num, 1, hidden_dim * 2).type(torch.FloatTensor))\n",
    "        # override: load the keys regardless of the input value\n",
    "        self.k_layer = lambda x: self.keys\n",
    "        self.v_layer = lambda x: self.values\n",
    "        # q layers are made as normal\n",
    "        self.q_layer = nn.Linear(hidden_dim, hidden_dim)\n",
    "        # dropout\n",
    "        self.dropout = nn.Dropout(p=dropout)\n",
    "    \n",
    "    def regularization_loss(self, reduce=None):\n",
    "        # extract losses using cosine distance between k & v. In effect, this cause the template to not repeat \n",
    "        # itself down to the lower level\n",
    "        keys = F.normalize(self.keys, dim=-1) # batch x 1 x dim\n",
    "        values = F.normalize(torch.squeeze(self.values, dim=1).reshape(keys.shape[0], 2, self.hidden_dim)) # batch x 2 x dim \n",
    "        transpose_values = torch.transpose(values, -2, -1)\n",
    "        loss = torch.matmul(keys, transpose_values)\n",
    "        if(reduce == \"mean\"):\n",
    "            loss = torch.reduce_mean(loss)\n",
    "        elif(reduce == \"sum\"):\n",
    "            loss = torch.reduce_sum(loss)\n",
    "        return loss\n",
    "    \n",
    "    def forward(self, inputs, num_apply_layer=3):\n",
    "        batch_size = inputs.shape[0]\n",
    "        inputs = inputs.view(batch_size, 1, self.hidden_dim)\n",
    "        outputs = [inputs]\n",
    "        for i in range(num_apply_layer):\n",
    "            # use the attention on the templates, loading a mock key value (None). We do not need mask, as every entry is equal\n",
    "            next_output = super(TemplateOutput, self).forward(outputs[-1], None)\n",
    "            # reshape the next_output to [batch_size, 2^i, hidden_dim], effectively split the values\n",
    "            next_output = next_output.contiguous().view(batch_size, -1, self.hidden_dim)\n",
    "            # dropout\n",
    "            next_output = self.dropout(next_output)\n",
    "            outputs.append(next_output)\n",
    "        # output in form of [batch_size, 2^n-1, hidden_dim], need to transpose to fit BucketIterator form\n",
    "        result = torch.cat(outputs, dim=1).transpose(0, 1)\n",
    "        return result"
   ]
  },
  {
   "cell_type": "code",
   "execution_count": 7,
   "metadata": {},
   "outputs": [],
   "source": [
    "import torch.utils.data as torch_data\n",
    "from torchtext.datasets import TranslationDataset\n",
    "from torchtext.data import Example, Field\n",
    "#torch_data = torchtext_data\n",
    "\n",
    "class ManualDataset(TranslationDataset):\n",
    "    def __init__(self, data, fields, **kwargs):\n",
    "        fields = [('src', fields[0]), ('trg', fields[1])]\n",
    "        examples = [Example.fromlist([src_ex, trg_ex], fields) for src_ex, trg_ex in zip(*data)]\n",
    "        # use grandparent __init__\n",
    "        super(TranslationDataset, self).__init__(examples, fields, **kwargs)\n",
    "\n",
    "class Model(nn.Module):\n",
    "    def __init__(self, data, hidden_dim, use_attention=True, dropout=0.2, **kwargs):\n",
    "        super(Model, self).__init__(**kwargs)\n",
    "        self.use_attention = use_attention\n",
    "        fields = self.input_field, self.output_field = Field(lower=True, pad_token=\"<blank>\"), Field(lower=True, pad_token=\"<blank>\")\n",
    "        # write later\n",
    "        self._data = self.build_vocab(fields, data)\n",
    "        # encoder\n",
    "        self.encoder = Encoder(hidden_dim, hidden_dim, len(self.input_field.vocab), dropout=dropout)\n",
    "        # tree decoder\n",
    "        self.decoder = TemplateOutput(hidden_dim, dropout=dropout) #LayeredOutput(hidden_dim)\n",
    "        if(use_attention):\n",
    "            self.attention = Attention(hidden_dim)\n",
    "            projection_input = hidden_dim * 2\n",
    "        else:\n",
    "            projection_input = hidden_dim\n",
    "        # projection, adapt for both version\n",
    "        self.projection = nn.Linear(projection_input, len(self.output_field.vocab))\n",
    "    \n",
    "    def init(self, method=\"xavier\"):\n",
    "        # init all parameters using specific values\n",
    "        for p in self.parameters():\n",
    "            if p.dim() > 1:\n",
    "                nn.init.xavier_uniform_(p)\n",
    "    \n",
    "    def forward(self, src, num_apply_layer=3):\n",
    "        #src = self.input_field(src)\n",
    "        encoded_out, encoder_seq = self.encoder(src)\n",
    "        output = self.decoder(encoded_out, num_apply_layer=num_apply_layer)\n",
    "        if(self.use_attention):\n",
    "            # create mask for src (values is NOT padding token). Shape is [src_len, batch_size]\n",
    "            pad_id = self.input_field.vocab.stoi[self.input_field.pad_token]\n",
    "            attention_mask = (src != pad_id).to(src.device)\n",
    "            # tokens = [[self.input_field.vocab.itos[i] for i in sample] for sample in src.transpose(0, 1)]\n",
    "            # raise ValueError(\"pad_token {}, \\n{}\\n{} - {}\".format(pad_token, tokens, attention_mask, attention_mask.shape))\n",
    "            # print(output.shape, encoder_seq.shape)\n",
    "            # apply attention and concatenate to the last dimension (hidden_dim)\n",
    "            attention_output = self.attention(output, encoder_seq, mask=attention_mask)\n",
    "            output = torch.cat((output, attention_output), dim=2)\n",
    "        projection = self.projection(output)\n",
    "        return projection\n",
    "    \n",
    "    def build_vocab(self, fields, data):\n",
    "        formatted_data = ManualDataset(data, fields) \n",
    "        # torch_data.Dataset([torch_data.Examples.fromlist([src_ex, tgt_ex], fields)\n",
    "        #        for src_ex, trg_ex in zip(*data)], fields)\n",
    "        [f.build_vocab(formatted_data) for f in fields]\n",
    "        return formatted_data"
   ]
  },
  {
   "cell_type": "code",
   "execution_count": 8,
   "metadata": {},
   "outputs": [
    {
     "name": "stdout",
     "output_type": "stream",
     "text": [
      "<s> go <s> </s> </s> their <s> <blank> <blank> <blank> <blank> </s> </s> separate ways\r\n",
      "<s> <s> <s> Orlando Bloom and <s> </s> </s> </s> </s> </s> </s> Miranda Kerr\r\n",
      "<s> <s> <s> each other Actors <s> </s> </s> </s> </s> </s> </s> Orlando Bloom\r\n",
      "<s> and <s> </s> </s> Model <s> <blank> <blank> <blank> <blank> </s> </s> Miranda Kerr\r\n",
      "<s> still <s> </s> </s> love <s> <blank> <blank> <blank> <blank> </s> </s> each other\r\n",
      "<s> , <s> </s> </s> in <s> <blank> <blank> <blank> <blank> </s> </s> an interview\r\n",
      "<s> parents <s> </s> </s> to <s> <blank> <blank> <blank> <blank> </s> </s> two-year-old Flynn\r\n",
      "<s> <s> <s> Miranda Kerr and <s> </s> </s> </s> </s> </s> </s> Orlando Bloom\r\n",
      "<s> , <s> </s> </s> supermodel <s> <blank> <blank> <blank> <blank> </s> </s> Miranda Kerr\r\n",
      "<s> <s> t life <s> </s> </s> </s> </s> doesn ' <blank> <blank> <blank> <blank>\r\n"
     ]
    }
   ],
   "source": [
    "!head -n10 /workspace/khoai23/example_tree_ende.lines.txt"
   ]
  },
  {
   "cell_type": "code",
   "execution_count": 9,
   "metadata": {},
   "outputs": [],
   "source": [
    "import io\n",
    "#sourcefile = \"\"\n",
    "#targetfile = \"\"\n",
    "# treefile = \"/workspace/khoai23/example_tree_ende.lines.txt\"\n",
    "def loadTree(location):\n",
    "    with io.open(location, \"r\", encoding=\"utf-8\") as f:\n",
    "        return [l.strip().split() for l in f.readlines()]\n",
    "treefile = \"/workspace/khoai23/train_tree_ende.lines.txt\"\n",
    "#with io.open(treefile, \"r\", encoding=\"utf-8\") as f:\n",
    "#    targets = [l.strip().split() for l in f.readlines()]\n",
    "targets = loadTree(treefile)"
   ]
  },
  {
   "cell_type": "code",
   "execution_count": 10,
   "metadata": {},
   "outputs": [],
   "source": [
    "# create the source phrase by correct tree position and ommiting keys\n",
    "positions = [7, 3, 8, 1, 9, 4, 10, 0, 11, 5, 12, 2, 13, 6, 14]\n",
    "def create_sources(tokens, reorder_positions, omissions=[\"<s>\", \"</s>\", \"<blank>\"]):\n",
    "    regtok = [tokens[i] for i in reorder_positions]\n",
    "    return [tok for tok in regtok if tok not in omissions]\n",
    "# apply\n",
    "sources = [create_sources(ts, positions) for ts in targets]"
   ]
  },
  {
   "cell_type": "code",
   "execution_count": 11,
   "metadata": {},
   "outputs": [],
   "source": [
    "# create the target/source pairing for 3 & 5 as well\n",
    "def create_positions(depth):\n",
    "    if(depth == 1): \n",
    "        return [0]\n",
    "    prev_depth = create_positions(depth-1)\n",
    "    # next_depth = range(2 ** (depth-1) - 1, 2 ** depth - 1)\n",
    "    # interleave: next_depth will surround its parent node in prev_depth. Actually don't need the next depth either\n",
    "    joined = []\n",
    "    for i in prev_depth:\n",
    "        if(i < 2 ** (depth-2) - 1):\n",
    "            # belong to too-far-back depth, ignore\n",
    "            joined.append(i)\n",
    "        else:\n",
    "            # intermediary node, append children\n",
    "            joined.extend([i * 2 + 1, i, i * 2 + 2])\n",
    "    return joined\n",
    "test_pos_4 = create_positions(4)\n",
    "assert all([x == y for x, y in zip(test_pos_4, positions)]), \"{} - {}\".format(test_pos_4, positions)"
   ]
  },
  {
   "cell_type": "code",
   "execution_count": 12,
   "metadata": {},
   "outputs": [],
   "source": [
    "targets_3 = loadTree(\"/workspace/khoai23/train_tree_ende_3.lines.txt\")\n",
    "positions_3 = create_positions(3)\n",
    "sources_3 = [create_sources(ts, positions_3) for ts in targets_3]\n",
    "\n",
    "# 5 is not working\n",
    "targets_5 = loadTree(\"/workspace/khoai23/train_tree_ende_5.lines.txt\")\n",
    "positions_5 = create_positions(5)\n",
    "sources_5 = [create_sources(ts, positions_5) for ts in targets_5]\n",
    "\n",
    "sources_4, positions_4, targets_4 = sources, positions, targets\n",
    "sources = sources_3 + sources_4 + sources_5\n",
    "targets = targets_3 + targets_4 + targets_5"
   ]
  },
  {
   "cell_type": "code",
   "execution_count": 13,
   "metadata": {},
   "outputs": [
    {
     "name": "stdout",
     "output_type": "stream",
     "text": [
      "[(['Parliament', \"'s\", 'legislative', 'prerogative'], ['<s>', '<s>', '<s>', 'Parliament', \"'s\", 'legislative', 'prerogative']), (['purpose', 'and', 'extent'], ['<s>', 'purpose', '<s>', '</s>', '</s>', 'and', 'extent']), (['the', 'national', 'bureaucracies'], ['<s>', 'the', '<s>', '</s>', '</s>', 'national', 'bureaucracies']), (['null', 'and', 'void'], ['<s>', 'null', '<s>', '</s>', '</s>', 'and', 'void']), (['down', 'in', 'advance'], ['<s>', 'down', '<s>', '</s>', '</s>', 'in', 'advance']), (['Stretching', 'and', 'Pilates'], ['<s>', 'Stretching', '<s>', '</s>', '</s>', 'and', 'Pilates']), (['and', 'Postural', 'Gym'], ['<s>', 'and', '<s>', '</s>', '</s>', 'Postural', 'Gym']), (['personal', 'Trainer', 'and', 'Instructor'], ['<s>', '<s>', '<s>', 'personal', 'Trainer', 'and', 'Instructor']), (['Stretching', ',', 'Pilates'], ['<s>', 'Stretching', '<s>', '</s>', '</s>', ',', 'Pilates']), (['the', 'Italian', 'Federation'], ['<s>', 'the', '<s>', '</s>', '</s>', 'Italian', 'Federation'])]\n"
     ]
    }
   ],
   "source": [
    "print(list(zip(sources[:10], targets[:10])))"
   ]
  },
  {
   "cell_type": "code",
   "execution_count": 14,
   "metadata": {},
   "outputs": [],
   "source": [
    "class LabelSmoothingLoss(nn.Module):\n",
    "    \"\"\"\n",
    "    With label smoothing,\n",
    "    KL-divergence between q_{smoothed ground truth prob.}(w)\n",
    "    and p_{prob. computed by model}(w) is minimized.\n",
    "    \n",
    "    Pulled from OpenNMT; adding special smoothing for specific tokens\n",
    "    \"\"\"\n",
    "    def __init__(self, label_smoothing, tgt_vocab_size, ignore_index=-100, special_smoothing=None, special_indices=None):\n",
    "        assert 0.0 < label_smoothing <= 1.0\n",
    "        self.ignore_index = ignore_index\n",
    "        super(LabelSmoothingLoss, self).__init__()\n",
    "\n",
    "        smoothing_value = label_smoothing / (tgt_vocab_size - 2)\n",
    "        one_hot = torch.full((tgt_vocab_size,), smoothing_value)\n",
    "        one_hot[self.ignore_index] = 0\n",
    "        self.register_buffer('one_hot', one_hot.unsqueeze(0))\n",
    "        self.confidence = 1.0 - label_smoothing\n",
    "        \n",
    "        if(special_smoothing is not None):\n",
    "            one_hot_s = torch.full((tgt_vocab_size,), special_smoothing / (tgt_vocab_size - 2))\n",
    "            self.register_buffer('one_hot_s', one_hot_s.unsqueeze(0))\n",
    "            self.confidence_s = 1.0 - special_smoothing\n",
    "            def indices_check(target):\n",
    "                is_special = target == special_indices[0]\n",
    "                for i in special_indices[1:]:\n",
    "                    is_special = torch.logical_or(is_special, target == i)\n",
    "                return is_special\n",
    "            self.indices_s = indices_check\n",
    "        else:\n",
    "            self.one_hot_s = None\n",
    "            \n",
    "        self.register_buffer('zeros', torch.zeros((tgt_vocab_size, )))\n",
    "\n",
    "    def forward(self, output, target, reduction='batchmean'):\n",
    "        \"\"\"\n",
    "        output (FloatTensor): batch_size x dim x n_classes\n",
    "        target (LongTensor): batch_size x dim\n",
    "        \"\"\"\n",
    "        # flatten both\n",
    "        old_shape = output.shape\n",
    "        target = target.reshape(-1)\n",
    "        output = output.reshape(target.size(0), -1)\n",
    "        # also output need to be log softmaxed\n",
    "        output = F.log_softmax(output, dim=-1)\n",
    "        \n",
    "        model_prob = self.one_hot.repeat(target.size(0), 1)\n",
    "        model_prob.scatter_(1, target.unsqueeze(1), self.confidence)\n",
    "        # create and join the probs together\n",
    "        if(self.one_hot_s is not None):\n",
    "            s_prob = self.one_hot_s.repeat(target.size(0), 1)\n",
    "            s_prob.scatter_(1, target.unsqueeze(1), self.confidence_s)\n",
    "            # join: if true = special = use s_prob\n",
    "            s_selector = self.indices_s(target)\n",
    "            # raise ValueError(s_selector.shape, s_prob.shape, model_prob.shape)\n",
    "            model_prob = torch.where(s_selector.unsqueeze(1), s_prob, model_prob)\n",
    "        model_prob.masked_fill_((target == self.ignore_index).unsqueeze(1), 0)\n",
    "        output = torch.where((target == self.ignore_index).unsqueeze(1), self.zeros.unsqueeze(0), output)\n",
    "        # rescale input before feeding to kl_div (same as cross entropy, save a constant value) to allow correct calculation of batchmean\n",
    "        output = output.reshape(old_shape)\n",
    "        model_prob = model_prob.reshape(old_shape)\n",
    "        return F.kl_div(output, model_prob, reduction=reduction)"
   ]
  },
  {
   "cell_type": "code",
   "execution_count": 15,
   "metadata": {},
   "outputs": [
    {
     "name": "stdout",
     "output_type": "stream",
     "text": [
      "1 0 0 3 2\n"
     ]
    }
   ],
   "source": [
    "import torch.optim as optim\n",
    "\n",
    "data = sources, targets\n",
    "model = Model(data, 256)\n",
    "\n",
    "blank_id = model.output_field.vocab.stoi['<blank>']\n",
    "pad_id = model.output_field.vocab.stoi['<pad>']\n",
    "unk_id = model.output_field.vocab.stoi['<unk>']\n",
    "inner_id = model.output_field.vocab.stoi['<s>']\n",
    "outer_id = model.output_field.vocab.stoi['</s>']\n",
    "print(blank_id, pad_id, unk_id, inner_id, outer_id)\n",
    "\n",
    "criterion = nn.CrossEntropyLoss(ignore_index=blank_id)\n",
    "#criterion = LabelSmoothingLoss(0.2, len(model.output_field.vocab), ignore_index=blank_id,\n",
    "#                              special_smoothing=0.5, special_indices=[inner_id])\n",
    "optimizer = optim.SGD(model.parameters(), lr=0.1, momentum=0.9)\n",
    "#optimizer = optim.Adam(model.parameters(), lr=0.0001)\n",
    "graphview = False"
   ]
  },
  {
   "cell_type": "markdown",
   "metadata": {},
   "source": [
    "### Main training loop"
   ]
  },
  {
   "cell_type": "code",
   "execution_count": 16,
   "metadata": {},
   "outputs": [],
   "source": [
    "import matplotlib.pyplot as plt\n",
    "from IPython import display\n",
    "%matplotlib inline\n",
    "\n",
    "#fig = plt.figure()\n",
    "#ax = fig.add_subplot(111)\n",
    "\n",
    "graphview = True"
   ]
  },
  {
   "cell_type": "code",
   "execution_count": 22,
   "metadata": {},
   "outputs": [
    {
     "name": "stdout",
     "output_type": "stream",
     "text": [
      "Finished Training\n"
     ]
    },
    {
     "data": {
      "image/png": "[encoded data removed]",
      "text/plain": [
       "<Figure size 432x288 with 1 Axes>"
      ]
     },
     "metadata": {
      "needs_background": "light"
     },
     "output_type": "display_data"
    }
   ],
   "source": [
    "from torchtext.data import BucketIterator, interleave_keys\n",
    "\n",
    "device=\"cuda\"\n",
    "model = model.to(device)\n",
    "criterion = criterion.to(device)\n",
    "\n",
    "model.init()\n",
    "\n",
    "train_iter = BucketIterator(dataset = model._data, batch_size=32, train=True, shuffle=True, \n",
    "                              sort_key=lambda x: interleave_keys(len(x.src), len(x.trg)))\n",
    "all_iter_count = 0\n",
    "\n",
    "#if(graphview):\n",
    "    #fig.show()\n",
    "losses = []\n",
    "running_loss = 0.0\n",
    "for epoch in range(10):  # loop over the dataset multiple times\n",
    "    \n",
    "    for i, data in enumerate(train_iter):\n",
    "        # get the inputs; data is a list of [inputs, labels]\n",
    "        inputs, labels = data.src, data.trg\n",
    "        # override <pad> tokens\n",
    "        #labels = torch.where(labels == pad_id, torch.ones(labels.shape, dtype=labels.dtype) * blank_id, labels)\n",
    "        inputs = inputs.to(device)\n",
    "        labels = labels.to(device)\n",
    "        # try ignoring inner label (<s>), by adding it into ignore_index label (blank)\n",
    "        ignore_id = outer_id # model.output_field.vocab.stoi['</s>']\n",
    "        # blank_id = model.output_field.vocab.stoi['<blank>']\n",
    "        ignore_labels = torch.where(labels == ignore_id, torch.ones(labels.shape, dtype=labels.dtype).to(device) * blank_id, labels)\n",
    "\n",
    "#        raise Exception(inputs.shape, labels.shape)\n",
    "        # zero the parameter gradients\n",
    "        optimizer.zero_grad()\n",
    "\n",
    "        # preventing weird data: only accept labels with correct expanding dimensions, otherwise throw KeyError\n",
    "        # layer = 1 is the encoder's output, hence number of application is -1\n",
    "        label_dim_dict = {(2 ** v - 1): v-1 for v in [3, 4, 5]}\n",
    "        # forward + backward + optimize\n",
    "        #print(label_dim_dict[labels.shape[0]])\n",
    "        outputs = model(inputs, num_apply_layer=label_dim_dict[labels.shape[0]])\n",
    "        #processed_labels = self.output_field(labels)\n",
    "        # Criterion accept [batch, length] and [batch, vocab, length] respectively\n",
    "        outputs = outputs.transpose(1, 2)\n",
    "        #raise Exception(outputs.shape, labels.shape)\n",
    "        loss = criterion(outputs, ignore_labels) # use ignore_labels to remove inner label\n",
    "        loss.backward()\n",
    "        # forgot gradient clipping. Fixing.\n",
    "        torch.nn.utils.clip_grad_norm_(model.parameters(), 5.0)\n",
    "        optimizer.step()\n",
    "\n",
    "        # print statistics\n",
    "        losses.append(loss.item())\n",
    "        running_loss += loss.item()\n",
    "        all_iter_count += 1\n",
    "        if (all_iter_count+1) % 1000 == 0:    # print every 1000 mini-batches\n",
    "            print('[%2d, %5d] loss: %.3f' %\n",
    "                  (epoch + 1, all_iter_count + 1, running_loss / 1000))\n",
    "            running_loss = 0.0\n",
    "            \n",
    "            if(graphview):\n",
    "                plt.clf()\n",
    "                plt.plot(losses)\n",
    "                display.display(plt.gcf())\n",
    "                display.clear_output(wait=True)\n",
    "\n",
    "print('Finished Training')"
   ]
  },
  {
   "cell_type": "code",
   "execution_count": 20,
   "metadata": {},
   "outputs": [
    {
     "name": "stdout",
     "output_type": "stream",
     "text": [
      "[['<s>', ',', 'the', 'a', \"'\"], ['world', 'our', 'one', 'as', 'is'], ['world', 'as', 'case', '<s>', 'one'], ['world', 'our', 'one', 'as', 'term'], ['spacious', 'big', 'job', 'everyone', 'solution'], ['big', 'spacious', 'solution', 'question', 'breakfast'], ['world', 'case', 'term', 'rich', 'people'], ['world', 'our', 'the', 'is', 'one'], ['world', 'case', '<s>', 'as', 'one'], ['big', 'solution', 'spacious', 'question', 'breakfast'], ['world', 'case', 'term', 'bank', 'largest'], ['big', 'spacious', 'solution', 'question', 'breakfast'], ['world', 'case', 'term', 'bank', 'rich'], ['<s>', 'the', 'a', ',', 'and'], ['<s>', 'really', ',', 'too', 'also']]\n"
     ]
    }
   ],
   "source": [
    "# test the finished model\n",
    "model.eval()\n",
    "\n",
    "test_input = [\"the world is big\".split()]\n",
    "proc_input = model.input_field.process(test_input).to(device)\n",
    "proc_input.shape\n",
    "\n",
    "unproc_output = model(proc_input)\n",
    "# note that the output is the logits version (not softmaxed)\n",
    "proc_output = torch.nn.functional.log_softmax(unproc_output, dim=-1)\n",
    "k=5\n",
    "topk_probs, topk_id = torch.topk(proc_output, k=k, dim=-1)\n",
    "topk_prbs = topk_probs[:, 0]\n",
    "topk_toks = [[model.output_field.vocab.itos[tok] for tok in tokens] for tokens in topk_id[:, 0]] # remove the single dim\n",
    "print(topk_toks)"
   ]
  },
  {
   "cell_type": "code",
   "execution_count": 21,
   "metadata": {},
   "outputs": [
    {
     "name": "stdout",
     "output_type": "stream",
     "text": [
      "[(-0.000972747802734375, 'world world'), (-0.013129711151123047, 'world big world world'), (-0.01325082778930664, 'world world big world world'), (-0.013383865356445312, 'world big world world'), (-0.025540828704833984, 'world big world big world world')]\n"
     ]
    }
   ],
   "source": [
    "import math\n",
    "\n",
    "#print (model.output_field.vocab.stoi['<s>'], model.output_field.vocab.stoi['</s>'])\n",
    "\n",
    "prbs = topk_prbs.tolist()\n",
    "toks = topk_toks\n",
    "def load_node(index):\n",
    "    # filter unwanted tokens\n",
    "    return [(prob, s) for prob, s in zip(prbs[index], toks[index]) if s != '<s>' and s != \"</s>\"]\n",
    " \n",
    "def best_per_node(parent, leftchild, rightchild, k=5):\n",
    "    # combine left and right\n",
    "    combined = [((lp + rp)/2, ls + ' ' + rs) for lp, ls in leftchild for rp, rs in rightchild]\n",
    "    # all probabilities & corresponding str\n",
    "    alls = parent + combined\n",
    "    best_zipped = sorted(alls, key=lambda x:x[0], reverse=True)[:k]\n",
    "    return best_zipped\n",
    "\n",
    "# start with the lowest, and go up from there\n",
    "node7 = load_node(7); node8 = load_node(8); node9 = load_node(9); node10 = load_node(10);\n",
    "node11 = load_node(11); node12 = load_node(12); node13 = load_node(13); node14 = load_node(14);\n",
    "# 3-7-8, etc.\n",
    "node3 = best_per_node(load_node(3), node7, node8)\n",
    "node4 = best_per_node(load_node(4), node9, node10)\n",
    "node5 = best_per_node(load_node(5), node11, node12)\n",
    "node6 = best_per_node(load_node(6), node13, node14)\n",
    "# 1-3-4, 2-5-6\n",
    "node1 = best_per_node(load_node(1), node3, node4)\n",
    "node2 = best_per_node(load_node(2), node5, node6)\n",
    "# 0-1-2\n",
    "node0 = best_per_node(load_node(0), node1, node2)\n",
    "\n",
    "print(node0)"
   ]
  },
  {
   "cell_type": "code",
   "execution_count": null,
   "metadata": {},
   "outputs": [],
   "source": []
  }
 ],
 "metadata": {
  "kernelspec": {
   "display_name": "Python 3",
   "language": "python",
   "name": "python3"
  },
  "language_info": {
   "codemirror_mode": {
    "name": "ipython",
    "version": 3
   },
   "file_extension": ".py",
   "mimetype": "text/x-python",
   "name": "python",
   "nbconvert_exporter": "python",
   "pygments_lexer": "ipython3",
   "version": "3.5.2"
  }
 },
 "nbformat": 4,
 "nbformat_minor": 4
}
