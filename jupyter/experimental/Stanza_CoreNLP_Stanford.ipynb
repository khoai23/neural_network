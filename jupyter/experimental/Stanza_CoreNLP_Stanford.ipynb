{
 "cells": [
  {
   "cell_type": "code",
   "execution_count": 9,
   "metadata": {},
   "outputs": [],
   "source": [
    "import stanza\n",
    "# only in 1.1\n",
    "#stanza.install_corenlp(dir=\"stanford_nlp\")"
   ]
  },
  {
   "cell_type": "code",
   "execution_count": 3,
   "metadata": {},
   "outputs": [
    {
     "name": "stdout",
     "output_type": "stream",
     "text": [
      "--2020-09-09 10:41:57--  http://nlp.stanford.edu/software/stanford-corenlp-4.1.0-models-english.jar\n",
      "Resolving nlp.stanford.edu (nlp.stanford.edu)... 171.64.67.140\n",
      "Connecting to nlp.stanford.edu (nlp.stanford.edu)|171.64.67.140|:80... connected.\n",
      "HTTP request sent, awaiting response... 302 Found\n",
      "Location: https://nlp.stanford.edu/software/stanford-corenlp-4.1.0-models-english.jar [following]\n",
      "--2020-09-09 10:41:57--  https://nlp.stanford.edu/software/stanford-corenlp-4.1.0-models-english.jar\n",
      "Connecting to nlp.stanford.edu (nlp.stanford.edu)|171.64.67.140|:443... connected.\n",
      "HTTP request sent, awaiting response... 200 OK\n",
      "Length: 670717962 (640M) [application/x-java-archive]\n",
      "Saving to: ‘stanford_nlp/stanford-corenlp-4.1.0-models-english.jar’\n",
      "\n",
      "stanford-corenlp-4. 100%[===================>] 639.65M  5.64MB/s    in 2m 24s  \n",
      "\n",
      "2020-09-09 10:44:22 (4.45 MB/s) - ‘stanford_nlp/stanford-corenlp-4.1.0-models-english.jar’ saved [670717962/670717962]\n",
      "\n"
     ]
    }
   ],
   "source": [
    "!mkdir -p stanford_nlp\n",
    "!wget -nc http://nlp.stanford.edu/software/stanford-corenlp-4.1.0-models-english.jar -P stanford_nlp"
   ]
  },
  {
   "cell_type": "code",
   "execution_count": 7,
   "metadata": {},
   "outputs": [
    {
     "name": "stdout",
     "output_type": "stream",
     "text": [
      "env: CORENLP_HOME=stanford_nlp/stanford-corenlp-4.1.0\n",
      "/home/khoai23/neural_network/jupyter/experimental/stanford_nlp/stanford-corenlp-4.1.0\r\n"
     ]
    }
   ],
   "source": [
    "import os\n",
    "\n",
    "%env CORENLP_HOME=stanford_nlp/stanford-corenlp-4.1.0\n",
    "!realpath \"$CORENLP_HOME\""
   ]
  },
  {
   "cell_type": "code",
   "execution_count": 5,
   "metadata": {},
   "outputs": [
    {
     "name": "stdout",
     "output_type": "stream",
     "text": [
      "/home/khoai23/neural_network/jupyter/experimental/stanford_nlp/stanford-corenlp-4.1.0\r\n"
     ]
    }
   ],
   "source": [
    "!echo \"$(realpath stanford_nlp)/stanford-corenlp-4.1.0\""
   ]
  },
  {
   "cell_type": "code",
   "execution_count": 8,
   "metadata": {},
   "outputs": [
    {
     "ename": "ImportError",
     "evalue": "No module named 'stanza.server'",
     "output_type": "error",
     "traceback": [
      "\u001b[0;31m---------------------------------------------------------------------------\u001b[0m",
      "\u001b[0;31mImportError\u001b[0m                               Traceback (most recent call last)",
      "\u001b[0;32m<ipython-input-8-e7f56b79e612>\u001b[0m in \u001b[0;36m<module>\u001b[0;34m\u001b[0m\n\u001b[0;32m----> 1\u001b[0;31m \u001b[0;32mfrom\u001b[0m \u001b[0mstanza\u001b[0m\u001b[0;34m.\u001b[0m\u001b[0mserver\u001b[0m \u001b[0;32mimport\u001b[0m \u001b[0mCoreNLPClient\u001b[0m\u001b[0;34m\u001b[0m\u001b[0m\n\u001b[0m",
      "\u001b[0;31mImportError\u001b[0m: No module named 'stanza.server'"
     ]
    }
   ],
   "source": [
    "from stanza.server import CoreNLPClient"
   ]
  },
  {
   "cell_type": "code",
   "execution_count": 19,
   "metadata": {},
   "outputs": [
    {
     "name": "stdout",
     "output_type": "stream",
     "text": [
      "Found submodule cluster (is a package: True)\n",
      "Found submodule ml (is a package: True)\n",
      "Found submodule monitoring (is a package: True)\n",
      "Found submodule nlp (is a package: True)\n",
      "Found submodule research (is a package: True)\n",
      "Found submodule text (is a package: True)\n",
      "Found submodule unstable (is a package: True)\n",
      "Found submodule util (is a package: True)\n"
     ]
    }
   ],
   "source": [
    "import pkgutil\n",
    "for importer, modname, ispkg in pkgutil.iter_modules(stanza.__path__):\n",
    "    print(\"Found submodule %s (is a package: %s)\" % (modname, ispkg))"
   ]
  },
  {
   "cell_type": "code",
   "execution_count": 21,
   "metadata": {},
   "outputs": [
    {
     "name": "stdout",
     "output_type": "stream",
     "text": [
      "Name: stanza\r\n",
      "Version: 0.3\r\n",
      "Summary: NLP library for Python\r\n",
      "Home-page: https://github.com/stanfordnlp/stanza\r\n",
      "Author: Stanford NLP\r\n",
      "Author-email: victor@victorzhong.com\r\n",
      "License: MIT\r\n",
      "Location: /home/khoai23/environment/lib/python3.5/site-packages\r\n",
      "Requires: \r\n",
      "Required-by: \r\n"
     ]
    }
   ],
   "source": [
    "!pip show stanza"
   ]
  },
  {
   "cell_type": "code",
   "execution_count": null,
   "metadata": {},
   "outputs": [],
   "source": []
  }
 ],
 "metadata": {
  "kernelspec": {
   "display_name": "Python 3",
   "language": "python",
   "name": "python3"
  },
  "language_info": {
   "codemirror_mode": {
    "name": "ipython",
    "version": 3
   },
   "file_extension": ".py",
   "mimetype": "text/x-python",
   "name": "python",
   "nbconvert_exporter": "python",
   "pygments_lexer": "ipython3",
   "version": "3.5.2"
  }
 },
 "nbformat": 4,
 "nbformat_minor": 4
}
