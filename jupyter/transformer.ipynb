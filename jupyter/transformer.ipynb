{
 "cells": [
  {
   "cell_type": "markdown",
   "metadata": {
    "colab_type": "text",
    "id": "Q2ENKuobJQXp"
   },
   "source": [
    "# Giới Thiệu Transformer\n",
    "Sự nổi tiếng của mô hình Transformer thì không cần phải bàn cãi, vì nó chính là nền tảng của rất nhiều mô hình khác mà nổi tiếng nhất là BERT (Bidirectional Encoder Representations from Transformers) một mô hình dùng để học biểu diễn của các từ tốt nhất hiện tại và đã tạo ra một bước ngoặc lớn cho động đồng NLP trong năm 2019. Và chính Google cũng đã áp dụng BERT trong cỗ máy tìm kiếm của họ. Để hiểu BERT, các bạn cần phải nắm rõ về mô hình Transformer.\n",
    "\n",
    "![alt text](https://pbcquoc.github.io/images/transformer/bert.jpg)\n",
    "\n",
    "Ý tưởng chủ đạo của Transformer vẫn là áp dụng cơ thể Attention, những ở mức phức tạp hơn và thật sự là thú vị hơn so với cách được đề xuất trước đó trong một bài báo của tác giả Lương Minh Thắng, một người Việt rất nổi tiếng trong cộng đồng deep learning."
   ]
  },
  {
   "cell_type": "markdown",
   "metadata": {
    "colab_type": "text",
    "id": "rb7MbGxAJnBW"
   },
   "source": [
    "## Tổng Quan Mô Hình\n",
    "Để cho dễ cảm nhận được cách mà mô hình hoạt động, mình sẽ trình bày trước toàn bộ kiến trúc mô hình ở mức high-level và sau đó sẽ đi chi tiết từng phần nhỏ cũng như công thức toán của nó.\n",
    "\n",
    "Giống như những mô hình dịch máy khác, kiến trúc tổng quan của mô hình transformer bao gồm 2 phần lớn là encoder và decoder. Encoder dùng để học vector biểu của câu với mong muốn rằng vector này mang thông tin hoàn hảo của câu đó. Decoder thực hiện chức năng chuyển vector biểu diễn kia thành ngôn ngữ đích.\n",
    "\n",
    "Trong ví dụ ở dưới, encoder của mô hình transformer nhận một câu tiếng việt, và encode thành một vector biểu diễn ngữ nghĩa của câu little sun, sau đó mô hình decoder nhận vector biểu diễn này, và dịch nó thành câu tiếng việt mặt trời bé nhỏ\n",
    "\n",
    "![alt text](https://pbcquoc.github.io/images/transformer/overview.jpg)\n",
    "\n",
    "Một trong những ưu điểm của transformer là mô hình này có khả năng xử lý song song cho các từ. Như các bạn thấy, Encoders của mô hình transfomer là một dạng feedforward neural nets, bao gồm nhiều encoder layer khác, mỗi encoder layer này xử lý đồng thời các từ. Trong khi đó, với mô hình LSTM, thì các từ phải được xử lý tuần tự. Ngoài ra, mô hình Transformer còn xử lý câu đầu vào theo 2 hướng mà không cần phải stack thêm một môt hình LSTM nữa như trong kiến trúc Bidirectional LSTM.\n",
    "\n",
    "![alt text](https://pbcquoc.github.io/images/transformer/overview2.jpg)\n",
    "\n",
    "Một cái nhìn vừa tổng quát và chi tiết sẽ giúp ích cho các bạn. Mình sẽ đi vào chi tiết một số phần cực kì quan trọng như sinusoidal position encoding, multi head attention của encoder, còn của decoder thì các bạn thấy được kiến trúc rất giống với của encoder, do đó mình sẽ chỉ đi nhanh qua mà thôi.\n",
    "\n",
    "![](https://pbcquoc.github.io/images/transformer/overview3.jpg)"
   ]
  },
  {
   "cell_type": "code",
   "execution_count": null,
   "metadata": {
    "colab": {},
    "colab_type": "code",
    "id": "RVOKeezWPsSs"
   },
   "outputs": [],
   "source": [
    "! pip -q install torchtext==0.6.0\n",
    "! pip -q install pyvi "
   ]
  },
  {
   "cell_type": "code",
   "execution_count": 36,
   "metadata": {},
   "outputs": [
    {
     "name": "stderr",
     "output_type": "stream",
     "text": [
      "[nltk_data] Downloading package wordnet to /home/khoai23/nltk_data...\n",
      "[nltk_data]   Unzipping corpora/wordnet.zip.\n"
     ]
    },
    {
     "data": {
      "text/plain": [
       "True"
      ]
     },
     "execution_count": 36,
     "metadata": {},
     "output_type": "execute_result"
    }
   ],
   "source": [
    "import nltk\n",
    "nltk.download('wordnet')"
   ]
  },
  {
   "cell_type": "code",
   "execution_count": 43,
   "metadata": {},
   "outputs": [
    {
     "name": "stdout",
     "output_type": "stream",
     "text": [
      "\u001b[33m  Retrying (Retry(total=4, connect=None, read=None, redirect=None, status=None)) after connection broken by 'ReadTimeoutError(\"HTTPSConnectionPool(host='raw.githubusercontent.com', port=443): Read timed out. (read timeout=15)\",)': /trungtv/vi_spacy/master/packages/vi_spacy_model-0.2.1/dist/vi_spacy_model-0.2.1.tar.gz\u001b[0m\n",
      "\u001b[33mYou are using pip version 19.0.3, however version 20.2b1 is available.\n",
      "You should consider upgrading via the 'pip install --upgrade pip' command.\u001b[0m\n",
      "/home/khoai23/environment/lib/python3.5/site-packages/spacy/util.py:275: UserWarning: [W031] Model 'vi_spacy_model' (0.2.1) requires spaCy v2.1 and is incompatible with the current spaCy version (2.3.2). This may lead to unexpected results or runtime errors. To resolve this, download a newer compatible model or retrain your custom model with the current spaCy version. For more details and available updates, run: python -m spacy validate\n",
      "  warnings.warn(warn_msg)\n",
      "\u001b[38;5;2m✔ Linking successful\u001b[0m\n",
      "/home/khoai23/environment/lib/python3.5/site-packages/vi_spacy_model -->\n",
      "/home/khoai23/environment/lib/python3.5/site-packages/spacy/data/vi_spacy_model\n",
      "You can now load the model via spacy.load('vi_spacy_model')\n"
     ]
    }
   ],
   "source": [
    "! pip -q install https://github.com/trungtv/vi_spacy/raw/master/packages/vi_spacy_model-0.2.1/dist/vi_spacy_model-0.2.1.tar.gz\n",
    "! python -m spacy link vi_spacy_model vi_spacy_model"
   ]
  },
  {
   "cell_type": "code",
   "execution_count": 1,
   "metadata": {
    "colab": {},
    "colab_type": "code",
    "id": "8gvN64qvNQIS"
   },
   "outputs": [],
   "source": [
    "import torch\n",
    "import torch.nn as nn\n",
    "from torch.autograd import Variable\n",
    "import torch.nn.functional as F\n",
    "import numpy as np\n",
    "import os\n",
    "import math"
   ]
  },
  {
   "cell_type": "markdown",
   "metadata": {
    "colab_type": "text",
    "id": "MM1dnT0JKkdk"
   },
   "source": [
    "# Embedding Layer with Position Encoding\n",
    "Trước khi đi vào mô hình encoder, chúng ta sẽ tìm hiểu cơ chế rất thú vị là Position Encoding dùng để đưa thông tin về vị trí của các từ vào mô hình transformer.\n",
    "\n",
    "Đầu tiên, các từ được biểu diễn bằng một vector sử dụng một ma trận word embedding có số dòng bằng kích thước của tập từ vựng. Sau đó các từ trong câu được tìm kiếm trong ma trận này, và được nối nhau thành các dòng của một ma trận 2 chiều chứa ngữ nghĩa của từng từ riêng biệt. Nhưng như các bạn đã thấy, transformer xử lý các từ song song, do đó, với chỉ word embedding mô hình không thể nào biết được vị trí các từ. Như vậy, chúng ta cần một cơ chế nào đó để đưa thông tin vị trí các từ vào trong vector đầu vào. Đó là lúc positional encoding xuất hiện và giải quyết vấn đề của chúng ta. Tuy nhiên, trước khi giới thiệu cơ chế position encoding của tác giả, các bạn có thể giải quyết vấn đề băng một số cách naive như sau:\n",
    "\n",
    "Biểu diễn vị trí các từ bằng chuỗi các số liên tục từ 0,1,2,3 …, n. Tuy nhiên, chúng ta gặp ngay vấn đề là khi chuỗi dài thì số này có thể khá lớn, và mô hình sẽ gặp khó khăn khi dự đoán những câu có chiều dài lớn hơn tất cả các câu có trong tập huấn luyện. Để giải quyết vấn đề này, các bạn có thể chuẩn hóa lại cho chuỗi số này nằm trong đoạn từ 0-1 bằng cách chia cho n nhưng mà chúng ta sẽ gặp vấn đề khác là khoảng cách giữ 2 từ liên tiếp sẽ phụ thuộc vào chiều dài của chuỗi, và trong một khoản cố định, chúng ta không hình dùng được khoản đó chứa bao nhiêu từ. Điều này có nghĩa là ý nghĩa của position encoding sẽ khác nhau tùy thuộc vào độ dài của câu đó."
   ]
  },
  {
   "cell_type": "code",
   "execution_count": 2,
   "metadata": {
    "colab": {},
    "colab_type": "code",
    "id": "X9da_ZuSNQIW"
   },
   "outputs": [],
   "source": [
    "class Embedder(nn.Module):\n",
    "    def __init__(self, vocab_size, d_model):\n",
    "        super().__init__()\n",
    "        self.vocab_size = vocab_size\n",
    "        self.d_model = d_model\n",
    "        \n",
    "        self.embed = nn.Embedding(vocab_size, d_model)\n",
    "        \n",
    "    def forward(self, x):\n",
    "        return self.embed(x)\n",
    "    \n",
    "# Embedder(100, 512)(torch.LongTensor([1,2,3,4])).shape"
   ]
  },
  {
   "cell_type": "markdown",
   "metadata": {
    "colab_type": "text",
    "id": "QGlFpeIQKss-"
   },
   "source": [
    "# Phương pháp đề xuất sinusoidal position encoding\n",
    "Phương pháp của tác giả đề xuất không gặp những hạn chế mà chúng ta vừa nêu. Vị trí của các từ được mã hóa bằng một vector có kích thước bằng word embedding và được cộng trực tiếp vào word embedding.\n",
    "\n",
    "![](https://pbcquoc.github.io/images/transformer/embedding.jpg)\n",
    "\n",
    "Cụ thể, tại vị trí chẵn, tác giả sử dụng hàm sin, và với vị trí lẽ tác giả sử dụng hàm cos để tính giá trị tại chiều đó.\n",
    "\n",
    "![alt text](https://github.com/pbcquoc/pbcquoc.github.io/raw/master/images/transformer/pe_formula.png)\n",
    "\n",
    "Trong hình dưới này, mình minh họa cho cách tính position encoding của tác giả. Giả sử chúng ta có word embedding có 6 chiều, thì position encoding cũng có tương ứng là 6 chiều. Mỗi dòng tương ứng với một từ. Giá trị của các vector tại mỗi vị trí được tính toán theo công thức ở hình dưới.\n",
    "\n",
    "![](https://pbcquoc.github.io/images/transformer/pe.png)\n",
    "\n",
    "Lúc này một số bạn sẽ thắc mắc tại sao với cách biểu diện vị trí như tác giả đề xuất lại có thể mã hóa thông tin vị trí của từ? Hãy tưởng tượng bạn có các số từ 0-15. Các bạn có thể thấy rằng bit ngoài cùng bên phải thay đổi nhanh nhất mỗi 1 số, và sau đó là bit bên phải thứ 2, thay đổi mỗi 2 số, tương tự cho các bit khác.\n",
    "\n",
    "![](https://pbcquoc.github.io/images/transformer/pe_intuition.jpg)\n",
    "\n",
    "Trong công thức của tác giả đề xuất, các bạn cũng thấy rằng, hàm sin và cos có dạng đồ thị tần số và tần số này giảm dần ở các chiều lớn dần. Các bạn xem hình dưới, ở chiều 0, giá trị thay đổi liên tục tương ứng với màu sắc thay đổi liên tục, và tần số thay đổi này giảm dần ở các chiều lớn hơn.\n",
    "\n",
    "![](https://pbcquoc.github.io/images/transformer/pe_heatmap.png)\n",
    "\n",
    "Nên chúng ta có thể cảm nhận được việc biểu diễn của tác giả khá tương tự như cách biểu diễn các số nguyên trong hệ nhị phân, cho nên chúng ta có thể biểu diễn được vị trí các từ theo cách như vậy.\n",
    "\n",
    "Chúng ta cũng có thể xem ma trận khoảng cách của các vector biểu diễn vị trí như hình dưới. Rõ ràng, các vector biểu diễn thể hiện được tính chất khoảng cách giữ 2 từ. 2 từ cách càng xa nhau thì khoảng cách càng lớn hơn.\n",
    "\n",
    "![](https://pbcquoc.github.io/images/transformer/pe_distance.png)\n",
    "\n",
    "Ngoài ra, một tính chất của phương pháp tác giả đề xuất là nó cho phép mô hình dễ dàng học được mối quan hệ tương đối giữ các từ. Cụ thể, biểu diễn vị trí của từ t + offset có thể chuyển thành biểu diễn vị trí của từ t bằng một phép biến đổi tuyến tính dựa trên ma trận phép quay.\n",
    "\n",
    "Để dễ hình dung phương pháp của tác giả đề xuất lại hoạt động tốt, các bạn có thể tưởng tượng, hàm sin, và cos, giống như là kim giây và kim phút trên đồng hồ. Với 2 kim này, chúng ta có thể biểu diễn được 3600 vị trí. Và đồng thời có thể hiểu được ngay tại sao biểu diễn của từ t + offset và từ t lại có thể dễ dàng chuyển đổi cho nhau.\n",
    "\n"
   ]
  },
  {
   "cell_type": "code",
   "execution_count": 3,
   "metadata": {
    "colab": {},
    "colab_type": "code",
    "id": "rP64KizDNQIa"
   },
   "outputs": [],
   "source": [
    "class PositionalEncoder(nn.Module):\n",
    "    def __init__(self, d_model, max_seq_length=200, dropout=0.1):\n",
    "        super().__init__()\n",
    "        \n",
    "        self.d_model = d_model\n",
    "        self.dropout = nn.Dropout(dropout)\n",
    "        \n",
    "        pe = torch.zeros(max_seq_length, d_model)\n",
    "        \n",
    "        # Bảng pe mình vẽ ở trên \n",
    "        for pos in range(max_seq_length):\n",
    "            for i in range(0, d_model, 2):\n",
    "                pe[pos, i] = math.sin(pos/(10000**(2*i/d_model)))\n",
    "                pe[pos, i+1] = math.cos(pos/(10000**((2*i+1)/d_model)))\n",
    "        pe = pe.unsqueeze(0)        \n",
    "        self.register_buffer('pe', pe)\n",
    "    \n",
    "    def forward(self, x):\n",
    "        \n",
    "        x = x*math.sqrt(self.d_model)\n",
    "        seq_length = x.size(1)\n",
    "        \n",
    "        pe = Variable(self.pe[:, :seq_length], requires_grad=False)\n",
    "        \n",
    "        if x.is_cuda:\n",
    "            pe.cuda()\n",
    "        # cộng embedding vector với pe \n",
    "        x = x + pe\n",
    "        x = self.dropout(x)\n",
    "        \n",
    "        return x\n",
    "    \n",
    "# PositionalEncoder(512)(torch.rand(5, 30, 512)).shape"
   ]
  },
  {
   "cell_type": "markdown",
   "metadata": {
    "colab_type": "text",
    "id": "LdEQKhVvNiSz"
   },
   "source": [
    "# Encoder\n",
    "Encoder của mô hình transformer có thể bao gồm nhiều encoder layer tượng tự nhau. Mỗi encoder layer của transformer lại bao gồm 2 thành phần chính là multi head attention và feedforward network, ngoài ra còn có cả skip connection và normalization layer.\n",
    "\n",
    "Trong 2 thành phần chính này, các bạn sẽ hứng thú nhiều hơn về multi-head attention vì đó là một layer mới được giới thiệu trong bài báo này, và chính nó tạo nên sự khác biệt giữ mô hình LSTM và mô hình Transformer mà chúng ta đang tìm hiểu.\n",
    "![alt text](https://pbcquoc.github.io/images/transformer/encoder.jpg)\n",
    "\n",
    "Encoder đầu tiên sẽ nhận ma trận biểu diễn của các từ đã được cộng với thông tin vị trí thông qua positional encoding. Sau đó, ma trận này sẽ được xử lý bởi Multi Head Attention. Multi Head Attention thật chất là self-attention, nhưng mà để mô hình có thể có chú ý nhiều pattern khác nhau, tác giả đơn giản là sử dụng nhiều self-attention.\n",
    "\n",
    "## Self Attention Layer\n",
    "Self Attention cho phép mô hình khi mã hóa một từ có thể sử dụng thông tin của những từ liên quan tới nó. Ví dụ khi từ nó được mã hóa, nó sẽ chú ý vào các từ liên quan như là mặt trời. Cơ chế self attention này có ý nghĩa tương tự như cơ chế attention mình đã chia sẻ ở bài trước và những công thức toán học cũng tương ứng với nhau.\n",
    "\n",
    "![alt text](https://pbcquoc.github.io/images/transformer/self_attention.jpg)\n",
    "\n",
    "Bạn có thể tưởng tượng cơ chế self attention giống như cơ chế tìm kiếm. Với một từ cho trước, cơ chế này sẽ cho phép mô hình tìm kiếm trong cách từ còn lại, từ nào “giống” để sau đó thông tin sẽ được mã hóa dựa trên tất cả các từ trên.\n",
    "\n",
    "Đầu tiên, với môi từ chúng ta cần tạo ra 3 vector: query, key, value vector bằng cách nhân ma trận biểu diễn các từ đầu vào với ma trận học tương ứng.\n",
    "\n",
    "* query vector: vector dùng để chứa thông tin của từ được tìm kiếm, so sách. Giống như là câu query của google search.\n",
    "* key vector: vector dùng để biểu diễn thông tin các từ được so sánh với từ cần tìm kiếm ở trên. Ví dụ, như các trang webs mà google sẽ so sánh với từ khóa mà bạn tìm kiếm.\n",
    "* value vector: vector biểu diễn nội dung, ý nghĩa của các từ. Các bạn có thể tượng tượng, nó như là nội dung trang web được hiển thị cho người dùng sau khi tìm kiếm.\n",
    "Để tính tương quan, chúng ta đơn giản chỉ cần tính tích vô hướng dựa các vector query và key. Sau đó dùng hàm softmax để chuẩn hóa chỉ số tương quan trong đoạn 0-1, và cuối cùng, tính trung bình cộng có trọng số giữa các vector values sử dụng chỉ số tương quan mới tính được. Quá dễ !!!\n",
    "\n",
    "![](https://pbcquoc.github.io/images/transformer/self_attention_2.png)\n",
    "\n",
    "Cụ thể hơn, quá trình tính toán attention vector có thể được tóm tắt làm 3 bước như sau:\n",
    "\n",
    "* Bước 1: Tính ma trận query, key, value bằng cách khởi tạo 3 ma trận trọng số query, key, vector. Sau đó nhân input với các ma trận trọng số này để tạo thành 3 ma trận tương ứng.\n",
    "* Bước 2: Tính attention weights. Nhân 2 ma trận key, query vừa được tính ở trên với nhau để với ý nghĩa là so sánh giữ câu query và key để học mối tương quan. Sau đó thì chuẩn hóa về đoạn [0-1] bằng hàm softmax. 1 có nghĩa là câu query giống với key, 0 có nghĩa là không giống.\n",
    "* Bước 3: Tính output. Nhân attention weights với ma trận value. Điều này có nghĩa là chúng ta biểu diễn một từ bằng trung bình có trọng số (attention weights) của ma trận value.\n",
    "\n",
    "![](https://pbcquoc.github.io/images/transformer/attention_vector.jpg)\n",
    "\n",
    "## Multi Head Attention\n",
    "Chúng ta muốn mô hình có thể học nhiều kiểu mối quan hệ giữ các từ với nhau. Với mỗi self-attention, chúng ta học được một kiểu pattern, do đó để có thể mở rộng khả năng này, chúng ta đơn giản là thêm nhiều self-attention. Tức là chúng ta cần nhiều ma trận query, key, value mà thôi. Giờ đây ma trận trọng số key, query, value sẽ có thêm 1 chiều depth nữa.\n",
    "\n",
    "![](https://pbcquoc.github.io/images/transformer/multi_head_attention.jpg)\n",
    "\n",
    "Multi head attention cho phép mô hình chú ý đến đồng thời những pattern dễ quan sát được như sau.\n",
    "\n",
    "* Chú ý đến từ kế trước của một từ\n",
    "* Chú ý đến từ kế sau của một từ\n",
    "* Chú ý đến những từ liên quan của một từ"
   ]
  },
  {
   "cell_type": "code",
   "execution_count": 4,
   "metadata": {
    "colab": {},
    "colab_type": "code",
    "id": "2nJMcGuUNQId"
   },
   "outputs": [],
   "source": [
    "def attention(q, k, v, mask=None, dropout=None):\n",
    "    \"\"\"\n",
    "    q: batch_size x head x seq_length x d_model\n",
    "    k: batch_size x head x seq_length x d_model\n",
    "    v: batch_size x head x seq_length x d_model\n",
    "    mask: batch_size x 1 x 1 x seq_length\n",
    "    output: batch_size x head x seq_length x d_model\n",
    "    \"\"\"\n",
    "\n",
    "    # attention score được tính bằng cách nhân q với k\n",
    "    d_k = q.size(-1)\n",
    "    scores = torch.matmul(q, k.transpose(-2, -1))/math.sqrt(d_k)\n",
    "    \n",
    "    if mask is not None:\n",
    "        mask = mask.unsqueeze(1)\n",
    "        scores = scores.masked_fill(mask==0, -1e9)\n",
    "    # xong rồi thì chuẩn hóa bằng softmax\n",
    "    scores = F.softmax(scores, dim=-1)\n",
    "    \n",
    "    if dropout is not None:\n",
    "        scores = dropout(scores)\n",
    "    \n",
    "    output = torch.matmul(scores, v)\n",
    "    return output, scores\n",
    "\n",
    "# attention(torch.rand(32, 8, 30, 512), torch.rand(32, 8, 30, 512), torch.rand(32, 8, 30, 512)).shape"
   ]
  },
  {
   "cell_type": "code",
   "execution_count": 5,
   "metadata": {
    "colab": {},
    "colab_type": "code",
    "id": "ANQ4C3EENQIh"
   },
   "outputs": [],
   "source": [
    "class MultiHeadAttention(nn.Module):\n",
    "    def __init__(self, heads, d_model, dropout=0.1):\n",
    "        super().__init__()\n",
    "        assert d_model % heads == 0\n",
    "        \n",
    "        self.d_model = d_model\n",
    "        self.d_k = d_model//heads\n",
    "        self.h = heads\n",
    "        self.attn = None\n",
    "\n",
    "        # tạo ra 3 ma trận trọng số là q_linear, k_linear, v_linear như hình trên\n",
    "        self.q_linear = nn.Linear(d_model, d_model)\n",
    "        self.k_linear = nn.Linear(d_model, d_model)\n",
    "        self.v_linear = nn.Linear(d_model, d_model)\n",
    "        \n",
    "        self.dropout = nn.Dropout(dropout)\n",
    "        self.out = nn.Linear(d_model, d_model)\n",
    "    \n",
    "    def forward(self, q, k, v, mask=None):\n",
    "        \"\"\"\n",
    "        q: batch_size x seq_length x d_model\n",
    "        k: batch_size x seq_length x d_model\n",
    "        v: batch_size x seq_length x d_model\n",
    "        mask: batch_size x 1 x seq_length\n",
    "        output: batch_size x seq_length x d_model\n",
    "        \"\"\"\n",
    "        bs = q.size(0)\n",
    "        # nhân ma trận trọng số q_linear, k_linear, v_linear với dữ liệu đầu vào q, k, v \n",
    "        # ở bước encode các bạn lưu ý rằng q, k, v chỉ là một (xem hình trên)\n",
    "        q = self.q_linear(q).view(bs, -1, self.h, self.d_k)\n",
    "        k = self.k_linear(k).view(bs, -1, self.h, self.d_k)\n",
    "        v = self.v_linear(v).view(bs, -1, self.h, self.d_k)\n",
    "        \n",
    "        q = q.transpose(1, 2)\n",
    "        k = k.transpose(1, 2)\n",
    "        v = v.transpose(1, 2)\n",
    "        \n",
    "        # tính attention score\n",
    "        scores, self.attn = attention(q, k, v, mask, self.dropout)\n",
    "        \n",
    "        concat = scores.transpose(1, 2).contiguous().view(bs, -1, self.d_model)\n",
    "        \n",
    "        output = self.out(concat)\n",
    "        return output\n",
    "\n",
    "# MultiHeadAttention(8, 512)(torch.rand(32, 30, 512), torch.rand(32, 30, 512), torch.rand(32, 30, 512)).shape"
   ]
  },
  {
   "cell_type": "markdown",
   "metadata": {
    "colab_type": "text",
    "id": "uvOrq4-WPXYK"
   },
   "source": [
    "# Residuals Connection và Normalization Layer\n",
    "\n",
    "Trong kiến trúc của mô hình transformer, residuals connection và mormalization layer được sử dụng mọi nơi, giống như tinh thần của nó. 2 kỹ thuật giúp cho mô hình huấn luyện nhanh hội tụ hơn và trách mất mát thông tin trong quá trình huấn luyện mô hình, ví dụ như là thông tin của vị trí các từ được mã hóa.\n",
    "\n"
   ]
  },
  {
   "cell_type": "code",
   "execution_count": 6,
   "metadata": {
    "colab": {},
    "colab_type": "code",
    "id": "n6-_9Hq-NQIk"
   },
   "outputs": [],
   "source": [
    "class Norm(nn.Module):\n",
    "    def __init__(self, d_model, eps = 1e-6):\n",
    "        super().__init__()\n",
    "    \n",
    "        self.size = d_model\n",
    "        \n",
    "        # create two learnable parameters to calibrate normalisation\n",
    "        self.alpha = nn.Parameter(torch.ones(self.size))\n",
    "        self.bias = nn.Parameter(torch.zeros(self.size))\n",
    "        \n",
    "        self.eps = eps\n",
    "    \n",
    "    def forward(self, x):\n",
    "        norm = self.alpha * (x - x.mean(dim=-1, keepdim=True)) \\\n",
    "        / (x.std(dim=-1, keepdim=True) + self.eps) + self.bias\n",
    "        return norm"
   ]
  },
  {
   "cell_type": "code",
   "execution_count": 7,
   "metadata": {
    "colab": {},
    "colab_type": "code",
    "id": "H1ndbdMXNQIn"
   },
   "outputs": [],
   "source": [
    "class FeedForward(nn.Module):\n",
    "    \"\"\" Trong kiến trúc của chúng ta có tầng linear \n",
    "    \"\"\"\n",
    "    def __init__(self, d_model, d_ff=2048, dropout = 0.1):\n",
    "        super().__init__() \n",
    "    \n",
    "        # We set d_ff as a default to 2048\n",
    "        self.linear_1 = nn.Linear(d_model, d_ff)\n",
    "        self.dropout = nn.Dropout(dropout)\n",
    "        self.linear_2 = nn.Linear(d_ff, d_model)\n",
    "    \n",
    "    def forward(self, x):\n",
    "        x = self.dropout(F.relu(self.linear_1(x)))\n",
    "        x = self.linear_2(x)\n",
    "        return x"
   ]
  },
  {
   "cell_type": "code",
   "execution_count": 8,
   "metadata": {
    "colab": {},
    "colab_type": "code",
    "id": "-Wwo91xDNQIq"
   },
   "outputs": [],
   "source": [
    "class EncoderLayer(nn.Module):\n",
    "    def __init__(self, d_model, heads, dropout=0.1):\n",
    "        super().__init__()\n",
    "        self.norm_1 = Norm(d_model)\n",
    "        self.norm_2 = Norm(d_model)\n",
    "        self.attn = MultiHeadAttention(heads, d_model, dropout=dropout)\n",
    "        self.ff = FeedForward(d_model, dropout=dropout)\n",
    "        self.dropout_1 = nn.Dropout(dropout)\n",
    "        self.dropout_2 = nn.Dropout(dropout)\n",
    "        \n",
    "    def forward(self, x, mask):\n",
    "        \"\"\"\n",
    "        x: batch_size x seq_length x d_model\n",
    "        mask: batch_size x 1 x seq_length\n",
    "        output: batch_size x seq_length x d_model\n",
    "        \"\"\"\n",
    "        \n",
    "        \n",
    "        x2 = self.norm_1(x)\n",
    "        # tính attention value, các bạn để ý q, k, v là giống nhau        \n",
    "        x = x + self.dropout_1(self.attn(x2,x2,x2,mask))\n",
    "        x2 = self.norm_2(x)\n",
    "        x = x + self.dropout_2(self.ff(x2))\n",
    "        return x\n",
    "\n",
    "# EncoderLayer(512, 8)(torch.rand(32, 30, 512), torch.rand(32 , 1, 30)).shape"
   ]
  },
  {
   "cell_type": "markdown",
   "metadata": {
    "colab_type": "text",
    "id": "48SiXL_zQQ9C"
   },
   "source": [
    "# Decoder\n",
    "Decoder thực hiện chức năng giải mã vector của câu nguồn thành câu đích, do đó decoder sẽ nhận thông tin từ encoder là 2 vector key và value. Kiến trúc của decoder rất giống với encoder, ngoại trừ có thêm một multi head attention nằm ở giữ dùng để học mối liên quan giữ từ đang được dịch với các từ được ở câu nguồn.\n",
    "\n",
    "![alt text](https://pbcquoc.github.io/images/transformer/decoder.jpg)\n",
    "\n",
    "## Masked Multi Head Attention\n",
    "Masked Multi Head Attention tất nhiên là multi head attention mà chúng ta đã nói đến ở trên, có chức năng dùng đề encode các từ câu câu đích trong quá trình dịch, tuy nhiên, lúc cài đặt chúng ta cần lưu ý rằng phải che đi các từ ở tương lai chưa được mô hình dịch đến, để làm việc này thì đơn giản là chúng ta chỉ cần nhân với một vector chứa các giá trị 0,1.\n",
    "\n",
    "Trong decoder còn có một multi head attention khác có chức năng chú ý các từ ở mô hình encoder, layer này nhận vector key và value từ mô hình encoder, và output từ layer phía dưới. Đơn giản bởi vì chúng ta muốn so sánh sự tương quan giữ từ đang được dịch vời các từ nguồn."
   ]
  },
  {
   "cell_type": "code",
   "execution_count": 9,
   "metadata": {
    "colab": {},
    "colab_type": "code",
    "id": "6mDt2NPeNQIu"
   },
   "outputs": [],
   "source": [
    "class DecoderLayer(nn.Module):\n",
    "    def __init__(self, d_model, heads, dropout=0.1):\n",
    "        super().__init__()\n",
    "        self.norm_1 = Norm(d_model)\n",
    "        self.norm_2 = Norm(d_model)\n",
    "        self.norm_3 = Norm(d_model)\n",
    "        \n",
    "        self.dropout_1 = nn.Dropout(dropout)\n",
    "        self.dropout_2 = nn.Dropout(dropout)\n",
    "        self.dropout_3 = nn.Dropout(dropout)\n",
    "        \n",
    "        self.attn_1 = MultiHeadAttention(heads, d_model, dropout=dropout)\n",
    "        self.attn_2 = MultiHeadAttention(heads, d_model, dropout=dropout)\n",
    "        self.ff = FeedForward(d_model, dropout=dropout)\n",
    "\n",
    "    def forward(self, x, e_outputs, src_mask, trg_mask):\n",
    "        \"\"\"\n",
    "        x: batch_size x seq_length x d_model\n",
    "        e_outputs: batch_size x seq_length x d_model\n",
    "        src_mask: batch_size x 1 x seq_length\n",
    "        trg_mask: batch_size x 1 x seq_length\n",
    "        \"\"\"\n",
    "        # Các bạn xem hình trên, kiến trúc mình vẽ với code ở chỗ này tương đương nhau.\n",
    "        x2 = self.norm_1(x)\n",
    "        # multihead attention thứ nhất, chú ý các từ ở target \n",
    "        x = x + self.dropout_1(self.attn_1(x2, x2, x2, trg_mask))\n",
    "        x2 = self.norm_2(x)\n",
    "        # masked mulithead attention thứ 2. k, v là giá trị output của mô hình encoder\n",
    "        x = x + self.dropout_2(self.attn_2(x2, e_outputs, e_outputs, src_mask))\n",
    "        x2 = self.norm_3(x)\n",
    "        x = x + self.dropout_3(self.ff(x2))\n",
    "        return x\n",
    "    \n",
    "# DecoderLayer(512, 8)(torch.rand(32, 30, 512), torch.rand(32, 30, 512), torch.rand(32, 1, 30), torch.rand(32, 1, 30)).shape"
   ]
  },
  {
   "cell_type": "markdown",
   "metadata": {
    "colab_type": "text",
    "id": "lk1c6NkYIeG8"
   },
   "source": [
    "# Cài đặt Encoder\n",
    "bao gồm N encoder layer"
   ]
  },
  {
   "cell_type": "code",
   "execution_count": 10,
   "metadata": {
    "colab": {},
    "colab_type": "code",
    "id": "ZcU8nyvzNQIx"
   },
   "outputs": [],
   "source": [
    "import copy\n",
    "\n",
    "def get_clones(module, N):\n",
    "    return nn.ModuleList([copy.deepcopy(module) for i in range(N)])\n",
    "\n",
    "class Encoder(nn.Module):\n",
    "    \"\"\"Một encoder có nhiều encoder layer nhé !!!\n",
    "    \"\"\"\n",
    "    def __init__(self, vocab_size, d_model, N, heads, dropout):\n",
    "        super().__init__()\n",
    "        self.N = N\n",
    "        self.embed = Embedder(vocab_size, d_model)\n",
    "        self.pe = PositionalEncoder(d_model, dropout=dropout)\n",
    "        self.layers = get_clones(EncoderLayer(d_model, heads, dropout), N)\n",
    "        self.norm = Norm(d_model)\n",
    "        \n",
    "    def forward(self, src, mask):\n",
    "        \"\"\"\n",
    "        src: batch_size x seq_length\n",
    "        mask: batch_size x 1 x seq_length\n",
    "        output: batch_size x seq_length x d_model\n",
    "        \"\"\"\n",
    "        x = self.embed(src)\n",
    "        x = self.pe(x)\n",
    "        for i in range(self.N):\n",
    "            x = self.layers[i](x, mask)\n",
    "        return self.norm(x)\n",
    "\n",
    "# Encoder(232, 512,6,8,0.1)(torch.LongTensor(32, 30).random_(0, 10), torch.rand(32, 1, 30)).shape"
   ]
  },
  {
   "cell_type": "markdown",
   "metadata": {
    "colab_type": "text",
    "id": "Qip-E_TAIpmJ"
   },
   "source": [
    "# Cài đặt Decoder\n",
    "bao gồm N decoder layers"
   ]
  },
  {
   "cell_type": "code",
   "execution_count": 11,
   "metadata": {
    "colab": {},
    "colab_type": "code",
    "id": "5lBRYMg_NQI0"
   },
   "outputs": [],
   "source": [
    "class Decoder(nn.Module):\n",
    "    \"\"\"Một decoder có nhiều decoder layer nhé !!!\n",
    "    \"\"\"\n",
    "    def __init__(self, vocab_size, d_model, N, heads, dropout):\n",
    "        super().__init__()\n",
    "        self.N = N\n",
    "        self.embed = Embedder(vocab_size, d_model)\n",
    "        self.pe = PositionalEncoder(d_model, dropout=dropout)\n",
    "        self.layers = get_clones(DecoderLayer(d_model, heads, dropout), N)\n",
    "        self.norm = Norm(d_model)\n",
    "    def forward(self, trg, e_outputs, src_mask, trg_mask):\n",
    "        \"\"\"\n",
    "        trg: batch_size x seq_length\n",
    "        e_outputs: batch_size x seq_length x d_model\n",
    "        src_mask: batch_size x 1 x seq_length\n",
    "        trg_mask: batch_size x 1 x seq_length\n",
    "        output: batch_size x seq_length x d_model\n",
    "        \"\"\"\n",
    "        x = self.embed(trg)\n",
    "        x = self.pe(x)\n",
    "        for i in range(self.N):\n",
    "            x = self.layers[i](x, e_outputs, src_mask, trg_mask)\n",
    "        return self.norm(x)\n",
    "    \n",
    "# Decoder(232, 512, 6, 8, 0.1)(torch.LongTensor(32, 30).random_(0, 10), torch.rand(32, 30, 512), torch.rand(32, 1, 30), torch.rand(32, 1, 30)).shape "
   ]
  },
  {
   "cell_type": "markdown",
   "metadata": {
    "colab_type": "text",
    "id": "gDVQGAaMI5UU"
   },
   "source": [
    "# Cài đặt Transformer \n",
    "bao gồm encoder và decoder"
   ]
  },
  {
   "cell_type": "code",
   "execution_count": 12,
   "metadata": {
    "colab": {},
    "colab_type": "code",
    "id": "DpxSCRILNQI3"
   },
   "outputs": [],
   "source": [
    "class Transformer(nn.Module):\n",
    "    \"\"\" Cuối cùng ghép chúng lại với nhau để được mô hình transformer hoàn chỉnh\n",
    "    \"\"\"\n",
    "    def __init__(self, src_vocab, trg_vocab, d_model, N, heads, dropout):\n",
    "        super().__init__()\n",
    "        self.encoder = Encoder(src_vocab, d_model, N, heads, dropout)\n",
    "        self.decoder = Decoder(trg_vocab, d_model, N, heads, dropout)\n",
    "        self.out = nn.Linear(d_model, trg_vocab)\n",
    "    def forward(self, src, trg, src_mask, trg_mask):\n",
    "        \"\"\"\n",
    "        src: batch_size x seq_length\n",
    "        trg: batch_size x seq_length\n",
    "        src_mask: batch_size x 1 x seq_length\n",
    "        trg_mask batch_size x 1 x seq_length\n",
    "        output: batch_size x seq_length x vocab_size\n",
    "        \"\"\"\n",
    "        e_outputs = self.encoder(src, src_mask)\n",
    "        \n",
    "        d_output = self.decoder(trg, e_outputs, src_mask, trg_mask)\n",
    "        output = self.out(d_output)\n",
    "        return output\n",
    "    \n",
    "# Transformer(232, 232, 512, 6, 8, 0.1)(torch.LongTensor(32, 30).random_(0, 10), torch.LongTensor(32, 30).random_(0, 10),torch.rand(32, 1, 30),torch.rand(32, 1, 30)).shape"
   ]
  },
  {
   "cell_type": "markdown",
   "metadata": {
    "colab_type": "text",
    "id": "PVj-ECLzHLxf"
   },
   "source": [
    "Chúng ta sử dụng torchtext để load dữ liệu, giúp giảm thời gian và hiệu quả "
   ]
  },
  {
   "cell_type": "code",
   "execution_count": 13,
   "metadata": {
    "colab": {},
    "colab_type": "code",
    "id": "M5tvzW9jNQI6"
   },
   "outputs": [],
   "source": [
    "from torchtext import data\n",
    "\n",
    "class MyIterator(data.Iterator):\n",
    "    def create_batches(self):\n",
    "        if self.train:\n",
    "            def pool(d, random_shuffler):\n",
    "                for p in data.batch(d, self.batch_size * 100):\n",
    "                    p_batch = data.batch(\n",
    "                        sorted(p, key=self.sort_key),\n",
    "                        self.batch_size, self.batch_size_fn)\n",
    "                    for b in random_shuffler(list(p_batch)):\n",
    "                        yield b\n",
    "            self.batches = pool(self.data(), self.random_shuffler)\n",
    "            \n",
    "        else:\n",
    "            self.batches = []\n",
    "            for b in data.batch(self.data(), self.batch_size,\n",
    "                                          self.batch_size_fn):\n",
    "                self.batches.append(sorted(b, key=self.sort_key))\n",
    "\n",
    "global max_src_in_batch, max_tgt_in_batch\n",
    "\n",
    "def batch_size_fn(new, count, sofar):\n",
    "    \"Keep augmenting batch and calculate total number of tokens + padding.\"\n",
    "    global max_src_in_batch, max_tgt_in_batch\n",
    "    if count == 1:\n",
    "        max_src_in_batch = 0\n",
    "        max_tgt_in_batch = 0\n",
    "    max_src_in_batch = max(max_src_in_batch,  len(new.src))\n",
    "    max_tgt_in_batch = max(max_tgt_in_batch,  len(new.trg) + 2)\n",
    "    src_elements = count * max_src_in_batch\n",
    "    tgt_elements = count * max_tgt_in_batch\n",
    "    return max(src_elements, tgt_elements)"
   ]
  },
  {
   "cell_type": "code",
   "execution_count": 14,
   "metadata": {
    "colab": {},
    "colab_type": "code",
    "id": "NkBjLH96NQI8"
   },
   "outputs": [],
   "source": [
    "\n",
    "def nopeak_mask(size, device):\n",
    "    \"\"\"Tạo mask được sử dụng trong decoder để lúc dự đoán trong quá trình huấn luyện\n",
    "     mô hình không nhìn thấy được các từ ở tương lai\n",
    "    \"\"\"\n",
    "    np_mask = np.triu(np.ones((1, size, size)),\n",
    "    k=1).astype('uint8')\n",
    "    np_mask =  Variable(torch.from_numpy(np_mask) == 0)\n",
    "    np_mask = np_mask.to(device)\n",
    "    \n",
    "    return np_mask\n",
    "\n",
    "def create_masks(src, trg, src_pad, trg_pad, device):\n",
    "    \"\"\" Tạo mask cho encoder, \n",
    "    để mô hình không bỏ qua thông tin của các kí tự PAD do chúng ta thêm vào \n",
    "    \"\"\"\n",
    "    src_mask = (src != src_pad).unsqueeze(-2)\n",
    "\n",
    "    if trg is not None:\n",
    "        trg_mask = (trg != trg_pad).unsqueeze(-2)\n",
    "        size = trg.size(1) # get seq_len for matrix\n",
    "        np_mask = nopeak_mask(size, device)\n",
    "        if trg.is_cuda:\n",
    "            np_mask.cuda()\n",
    "        trg_mask = trg_mask & np_mask\n",
    "        \n",
    "    else:\n",
    "        trg_mask = None\n",
    "    return src_mask, trg_mask"
   ]
  },
  {
   "cell_type": "code",
   "execution_count": 15,
   "metadata": {
    "colab": {},
    "colab_type": "code",
    "id": "9YoUVx4xjEb7"
   },
   "outputs": [],
   "source": [
    "from nltk.corpus import wordnet\n",
    "import re\n",
    "\n",
    "def get_synonym(word, SRC):\n",
    "    syns = wordnet.synsets(word)\n",
    "    for s in syns:\n",
    "        for l in s.lemmas():\n",
    "            if SRC.vocab.stoi[l.name()] != 0:\n",
    "                return SRC.vocab.stoi[l.name()]\n",
    "            \n",
    "    return 0\n",
    "\n",
    "def multiple_replace(dict, text):\n",
    "  # Create a regular expression  from the dictionary keys\n",
    "  regex = re.compile(\"(%s)\" % \"|\".join(map(re.escape, dict.keys())))\n",
    "\n",
    "  # For each match, look-up corresponding value in dictionary\n",
    "  return regex.sub(lambda mo: dict[mo.string[mo.start():mo.end()]], text) "
   ]
  },
  {
   "cell_type": "code",
   "execution_count": 16,
   "metadata": {
    "colab": {},
    "colab_type": "code",
    "id": "1IJpUEIMgMbw"
   },
   "outputs": [],
   "source": [
    "def init_vars(src, model, SRC, TRG, device, k, max_len):\n",
    "    \"\"\" Tính toán các ma trận cần thiết trong quá trình translation sau khi mô hình học xong\n",
    "    \"\"\"\n",
    "    init_tok = TRG.vocab.stoi['<sos>']\n",
    "    src_mask = (src != SRC.vocab.stoi['<pad>']).unsqueeze(-2)\n",
    "\n",
    "    # tính sẵn output của encoder \n",
    "    e_output = model.encoder(src, src_mask)\n",
    "    \n",
    "    outputs = torch.LongTensor([[init_tok]])\n",
    "    \n",
    "    outputs = outputs.to(device)\n",
    "    \n",
    "    trg_mask = nopeak_mask(1, device)\n",
    "    # dự đoán kí tự đầu tiên\n",
    "    out = model.out(model.decoder(outputs,\n",
    "    e_output, src_mask, trg_mask))\n",
    "    out = F.softmax(out, dim=-1)\n",
    "    \n",
    "    probs, ix = out[:, -1].data.topk(k)\n",
    "    log_scores = torch.Tensor([math.log(prob) for prob in probs.data[0]]).unsqueeze(0)\n",
    "    \n",
    "    outputs = torch.zeros(k, max_len).long()\n",
    "    outputs = outputs.to(device)\n",
    "    outputs[:, 0] = init_tok\n",
    "    outputs[:, 1] = ix[0]\n",
    "    \n",
    "    e_outputs = torch.zeros(k, e_output.size(-2),e_output.size(-1))\n",
    "   \n",
    "    e_outputs = e_outputs.to(device)\n",
    "    e_outputs[:, :] = e_output[0]\n",
    "    \n",
    "    return outputs, e_outputs, log_scores\n",
    "\n",
    "def k_best_outputs(outputs, out, log_scores, i, k):\n",
    "    \n",
    "    probs, ix = out[:, -1].data.topk(k)\n",
    "    log_probs = torch.Tensor([math.log(p) for p in probs.data.view(-1)]).view(k, -1) + log_scores.transpose(0,1)\n",
    "    k_probs, k_ix = log_probs.view(-1).topk(k)\n",
    "    \n",
    "    row = k_ix // k\n",
    "    col = k_ix % k\n",
    "\n",
    "    outputs[:, :i] = outputs[row, :i]\n",
    "    outputs[:, i] = ix[row, col]\n",
    "\n",
    "    log_scores = k_probs.unsqueeze(0)\n",
    "    \n",
    "    return outputs, log_scores\n",
    "\n",
    "def beam_search(src, model, SRC, TRG, device, k, max_len):    \n",
    "\n",
    "    outputs, e_outputs, log_scores = init_vars(src, model, SRC, TRG, device, k, max_len)\n",
    "    eos_tok = TRG.vocab.stoi['<eos>']\n",
    "    src_mask = (src != SRC.vocab.stoi['<pad>']).unsqueeze(-2)\n",
    "    ind = None\n",
    "    for i in range(2, max_len):\n",
    "    \n",
    "        trg_mask = nopeak_mask(i, device)\n",
    "\n",
    "        out = model.out(model.decoder(outputs[:,:i],\n",
    "        e_outputs, src_mask, trg_mask))\n",
    "\n",
    "        out = F.softmax(out, dim=-1)\n",
    "    \n",
    "        outputs, log_scores = k_best_outputs(outputs, out, log_scores, i, k)\n",
    "        \n",
    "        ones = (outputs==eos_tok).nonzero() # Occurrences of end symbols for all input sentences.\n",
    "        sentence_lengths = torch.zeros(len(outputs), dtype=torch.long).cuda()\n",
    "        for vec in ones:\n",
    "            i = vec[0]\n",
    "            if sentence_lengths[i]==0: # First end symbol has not been found yet\n",
    "                sentence_lengths[i] = vec[1] # Position of first end symbol\n",
    "\n",
    "        num_finished_sentences = len([s for s in sentence_lengths if s > 0])\n",
    "\n",
    "        if num_finished_sentences == k:\n",
    "            alpha = 0.7\n",
    "            div = 1/(sentence_lengths.type_as(log_scores)**alpha)\n",
    "            _, ind = torch.max(log_scores * div, 1)\n",
    "            ind = ind.data[0]\n",
    "            break\n",
    "    \n",
    "    if ind is None:\n",
    "        \n",
    "        length = (outputs[0]==eos_tok).nonzero()[0] if len((outputs[0]==eos_tok).nonzero()) > 0 else -1\n",
    "        return ' '.join([TRG.vocab.itos[tok] for tok in outputs[0][1:length]])\n",
    "    \n",
    "    else:\n",
    "        length = (outputs[ind]==eos_tok).nonzero()[0]\n",
    "        return ' '.join([TRG.vocab.itos[tok] for tok in outputs[ind][1:length]])"
   ]
  },
  {
   "cell_type": "code",
   "execution_count": 17,
   "metadata": {
    "colab": {},
    "colab_type": "code",
    "id": "s-AFuSOIhi7X"
   },
   "outputs": [],
   "source": [
    "def translate_sentence(sentence, model, SRC, TRG, device, k, max_len):\n",
    "    \"\"\"Dịch một câu sử dụng beamsearch\n",
    "    \"\"\"\n",
    "    model.eval()\n",
    "    indexed = []\n",
    "    sentence = SRC.preprocess(sentence)\n",
    "    \n",
    "    for tok in sentence:\n",
    "        if SRC.vocab.stoi[tok] != SRC.vocab.stoi['<eos>']:\n",
    "            indexed.append(SRC.vocab.stoi[tok])\n",
    "        else:\n",
    "            indexed.append(get_synonym(tok, SRC))\n",
    "    \n",
    "    sentence = Variable(torch.LongTensor([indexed]))\n",
    "    \n",
    "    sentence = sentence.to(device)\n",
    "    \n",
    "    sentence = beam_search(sentence, model, SRC, TRG, device, k, max_len)\n",
    "\n",
    "    return  multiple_replace({' ?' : '?',' !':'!',' .':'.','\\' ':'\\'',' ,':','}, sentence)"
   ]
  },
  {
   "cell_type": "code",
   "execution_count": 18,
   "metadata": {
    "colab": {},
    "colab_type": "code",
    "id": "4Uee4YaQNQI_"
   },
   "outputs": [],
   "source": [
    "import spacy\n",
    "import re\n",
    "\n",
    "class tokenize(object):\n",
    "    \n",
    "    def __init__(self, lang):\n",
    "        self.nlp = spacy.load(lang)\n",
    "            \n",
    "    def tokenizer(self, sentence):\n",
    "        sentence = re.sub(\n",
    "        r\"[\\*\\\"“”\\n\\\\…\\+\\-\\/\\=\\(\\)‘•:\\[\\]\\|’\\!;]\", \" \", str(sentence))\n",
    "        sentence = re.sub(r\"[ ]+\", \" \", sentence)\n",
    "        sentence = re.sub(r\"\\!+\", \"!\", sentence)\n",
    "        sentence = re.sub(r\"\\,+\", \",\", sentence)\n",
    "        sentence = re.sub(r\"\\?+\", \"?\", sentence)\n",
    "        sentence = sentence.lower()\n",
    "        return [tok.text for tok in self.nlp.tokenizer(sentence) if tok.text != \" \"]"
   ]
  },
  {
   "cell_type": "markdown",
   "metadata": {
    "colab_type": "text",
    "id": "x2jMF9lzQ4a8"
   },
   "source": [
    "## Data loader\n",
    "Sử dụng torchtext để load dữ liệu nhanh chóng"
   ]
  },
  {
   "cell_type": "code",
   "execution_count": 20,
   "metadata": {},
   "outputs": [
    {
     "name": "stdout",
     "output_type": "stream",
     "text": [
      "Collecting dill\n",
      "\u001b[?25l  Downloading https://files.pythonhosted.org/packages/e2/96/518a8ea959a734b70d2e95fef98bcbfdc7adad1c1e5f5dd9148c835205a5/dill-0.3.2.zip (177kB)\n",
      "\u001b[K    100% |████████████████████████████████| 184kB 2.0MB/s ta 0:00:01\n",
      "\u001b[?25hBuilding wheels for collected packages: dill\n",
      "  Building wheel for dill (setup.py) ... \u001b[?25ldone\n",
      "\u001b[?25h  Stored in directory: /home/khoai23/.cache/pip/wheels/27/4b/a2/34ccdcc2f158742cfe9650675560dea85f78c3f4628f7daad0\n",
      "Successfully built dill\n",
      "Installing collected packages: dill\n",
      "Successfully installed dill-0.3.2\n",
      "\u001b[33mYou are using pip version 19.0.3, however version 20.2b1 is available.\n",
      "You should consider upgrading via the 'pip install --upgrade pip' command.\u001b[0m\n"
     ]
    }
   ],
   "source": [
    "!pip install dill"
   ]
  },
  {
   "cell_type": "code",
   "execution_count": 20,
   "metadata": {
    "colab": {},
    "colab_type": "code",
    "id": "_uVO0yr_NQJC"
   },
   "outputs": [],
   "source": [
    "import os\n",
    "import dill as pickle\n",
    "import pandas as pd\n",
    "\n",
    "def read_data(src_file, trg_file):\n",
    "    src_data = open(src_file).read().strip().split('\\n')\n",
    "\n",
    "    trg_data = open(trg_file).read().strip().split('\\n')\n",
    " \n",
    "    return src_data, trg_data\n",
    "\n",
    "def create_fields(src_lang, trg_lang):\n",
    "    \n",
    "    #print(\"loading spacy tokenizers...\")\n",
    "    #\n",
    "    #t_src = tokenize(src_lang)\n",
    "    #t_trg = tokenize(trg_lang)\n",
    "    t_src_tokenizer = t_trg_tokenizer = lambda x: x.strip().split()\n",
    "\n",
    "    TRG = data.Field(lower=True, tokenize=t_trg_tokenizer, init_token='<sos>', eos_token='<eos>')\n",
    "    SRC = data.Field(lower=True, tokenize=t_src_tokenizer)\n",
    "        \n",
    "    return SRC, TRG\n",
    "\n",
    "def create_dataset(src_data, trg_data, max_strlen, batchsize, device, SRC, TRG, istrain=True):\n",
    "\n",
    "    print(\"creating dataset and iterator... \")\n",
    "\n",
    "    raw_data = {'src' : [line for line in src_data], 'trg': [line for line in trg_data]}\n",
    "    df = pd.DataFrame(raw_data, columns=[\"src\", \"trg\"])\n",
    "    \n",
    "    mask = (df['src'].str.count(' ') < max_strlen) & (df['trg'].str.count(' ') < max_strlen)\n",
    "    df = df.loc[mask]\n",
    "\n",
    "    df.to_csv(\"translate_transformer_temp.csv\", index=False)\n",
    "    \n",
    "    data_fields = [('src', SRC), ('trg', TRG)]\n",
    "    train = data.TabularDataset('./translate_transformer_temp.csv', format='csv', fields=data_fields)\n",
    "\n",
    "    train_iter = MyIterator(train, batch_size=batchsize, device=device,\n",
    "                        repeat=False, sort_key=lambda x: (len(x.src), len(x.trg)),\n",
    "                        batch_size_fn=batch_size_fn, train=istrain, shuffle=True)\n",
    "    \n",
    "    os.remove('translate_transformer_temp.csv')\n",
    "    \n",
    "    if istrain:\n",
    "        SRC.build_vocab(train)\n",
    "        TRG.build_vocab(train)\n",
    "\n",
    "    return train_iter\n"
   ]
  },
  {
   "cell_type": "code",
   "execution_count": 21,
   "metadata": {
    "colab": {},
    "colab_type": "code",
    "id": "l4POJRxdNQJF"
   },
   "outputs": [],
   "source": [
    "def step(model, optimizer,batch, criterion):\n",
    "    \"\"\"\n",
    "    Một lần cập nhật mô hình\n",
    "    \"\"\"\n",
    "    model.train()\n",
    "    \n",
    "    src = batch.src.transpose(0,1).cuda()\n",
    "    trg = batch.trg.transpose(0,1).cuda()\n",
    "    trg_input = trg[:, :-1]\n",
    "    src_mask, trg_mask = create_masks(src, trg_input, src_pad, trg_pad, opt['device'])\n",
    "    preds = model(src, trg_input, src_mask, trg_mask)\n",
    "\n",
    "    ys = trg[:, 1:].contiguous().view(-1)\n",
    "\n",
    "    optimizer.zero_grad()\n",
    "    loss = criterion(preds.view(-1, preds.size(-1)), ys)\n",
    "    loss.backward()\n",
    "    optimizer.step_and_update_lr()\n",
    "    \n",
    "    loss = loss.item()\n",
    "    \n",
    "    return loss    "
   ]
  },
  {
   "cell_type": "code",
   "execution_count": 22,
   "metadata": {
    "colab": {},
    "colab_type": "code",
    "id": "c5sPA-k_NQJI"
   },
   "outputs": [],
   "source": [
    "def validiate(model, valid_iter, criterion):\n",
    "    \"\"\" Tính loss trên tập validation\n",
    "    \"\"\"\n",
    "    model.eval()\n",
    "    \n",
    "    with torch.no_grad():\n",
    "        total_loss = []\n",
    "        for batch in valid_iter:\n",
    "            src = batch.src.transpose(0,1).cuda()\n",
    "            trg = batch.trg.transpose(0,1).cuda()\n",
    "            trg_input = trg[:, :-1]\n",
    "            src_mask, trg_mask = create_masks(src, trg_input, src_pad, trg_pad, opt['device'])\n",
    "            preds = model(src, trg_input, src_mask, trg_mask)\n",
    "\n",
    "            ys = trg[:, 1:].contiguous().view(-1)\n",
    "            \n",
    "            loss = criterion(preds.view(-1, preds.size(-1)), ys)\n",
    "            \n",
    "            loss = loss.item()\n",
    "            \n",
    "            total_loss.append(loss)\n",
    "        \n",
    "    avg_loss = np.mean(total_loss)\n",
    "    \n",
    "    return avg_loss"
   ]
  },
  {
   "cell_type": "markdown",
   "metadata": {
    "colab_type": "text",
    "id": "QX4b6LLN47qC"
   },
   "source": [
    "# Optimizer\n",
    "Để huấn luyện mô hình transformer, các bạn vẫn sử dụng Adam, tuy nhiên, learning rate cần phải được điều chỉnh trong suốt quá trình học theo công thức sau\n",
    "\n",
    "![alt text](https://raw.githubusercontent.com/pbcquoc/pbcquoc.github.io/master/images/transformer/optimizer.png)\n",
    "\n",
    "![alt text](https://pbcquoc.github.io/images/transformer/opt.png)\n"
   ]
  },
  {
   "cell_type": "code",
   "execution_count": 23,
   "metadata": {
    "colab": {},
    "colab_type": "code",
    "id": "OW8pRq91rwJR"
   },
   "outputs": [],
   "source": [
    "class ScheduledOptim():\n",
    "    '''A simple wrapper class for learning rate scheduling'''\n",
    "\n",
    "    def __init__(self, optimizer, init_lr, d_model, n_warmup_steps):\n",
    "        self._optimizer = optimizer\n",
    "        self.init_lr = init_lr\n",
    "        self.d_model = d_model\n",
    "        self.n_warmup_steps = n_warmup_steps\n",
    "        self.n_steps = 0\n",
    "\n",
    "\n",
    "    def step_and_update_lr(self):\n",
    "        \"Step with the inner optimizer\"\n",
    "        self._update_learning_rate()\n",
    "        self._optimizer.step()\n",
    "\n",
    "\n",
    "    def zero_grad(self):\n",
    "        \"Zero out the gradients with the inner optimizer\"\n",
    "        self._optimizer.zero_grad()\n",
    "\n",
    "\n",
    "    def _get_lr_scale(self):\n",
    "        d_model = self.d_model\n",
    "        n_steps, n_warmup_steps = self.n_steps, self.n_warmup_steps\n",
    "        return (d_model ** -0.5) * min(n_steps ** (-0.5), n_steps * n_warmup_steps ** (-1.5))\n",
    "\n",
    "    def state_dict(self):\n",
    "        optimizer_state_dict = {\n",
    "            'init_lr':self.init_lr,\n",
    "            'd_model':self.d_model,\n",
    "            'n_warmup_steps':self.n_warmup_steps,\n",
    "            'n_steps':self.n_steps,\n",
    "            '_optimizer':self._optimizer.state_dict(),\n",
    "        }\n",
    "        \n",
    "        return optimizer_state_dict\n",
    "    \n",
    "    def load_state_dict(self, state_dict):\n",
    "        self.init_lr = state_dict['init_lr']\n",
    "        self.d_model = state_dict['d_model']\n",
    "        self.n_warmup_steps = state_dict['n_warmup_steps']\n",
    "        self.n_steps = state_dict['n_steps']\n",
    "        \n",
    "        self._optimizer.load_state_dict(state_dict['_optimizer'])\n",
    "        \n",
    "    def _update_learning_rate(self):\n",
    "        ''' Learning rate scheduling per step '''\n",
    "\n",
    "        self.n_steps += 1\n",
    "        lr = self.init_lr * self._get_lr_scale()\n",
    "\n",
    "        for param_group in self._optimizer.param_groups:\n",
    "            param_group['lr'] = lr"
   ]
  },
  {
   "cell_type": "markdown",
   "metadata": {
    "colab_type": "text",
    "id": "TKJoYats5LYn"
   },
   "source": [
    "# Label Smoothing\n",
    "Với mô hình nhiều triệu tham số của transformer, thì việt overfit là chuyện dễ dàng xảy ra. Để hạn chế hiện tượng overfit, các bạn có thể sử dụng kỹ thuật label smoothing. Về cơ bản thì ý tưởng của kỹ thuật này khá đơn giản, chúng ta sẽ phạt mô hình khi nó quá tự tin vào việc dự đoán của mình. Thay vì mã hóa nhãn là một one-hot vector, các bạn sẽ thay đổi nhãn này một chút bằng cách phân bố một tí xác suất vào các trường hợp còn lại.\n",
    "\n",
    "![alt text](https://pbcquoc.github.io/images/transformer/label_smoothing.jpg)\n",
    "\n",
    "Giờ thì các bạn sẽ an tâm khi có thể để số epoch lớn mà không lo rằng mô hình sẽ overfit nặng nề.\n",
    "\n"
   ]
  },
  {
   "cell_type": "code",
   "execution_count": 32,
   "metadata": {
    "colab": {},
    "colab_type": "code",
    "id": "LHGeSHThtlj-"
   },
   "outputs": [],
   "source": [
    "class LabelSmoothingLoss(nn.Module):\n",
    "    def __init__(self, classes, padding_idx, smoothing=0.0, dim=-1):\n",
    "        super(LabelSmoothingLoss, self).__init__()\n",
    "        self.confidence = 1.0 - smoothing\n",
    "        self.smoothing = smoothing\n",
    "        self.cls = classes\n",
    "        self.dim = dim\n",
    "        self.padding_idx = padding_idx\n",
    "\n",
    "    def forward(self, pred, target):\n",
    "        pred = pred.log_softmax(dim=self.dim)\n",
    "        with torch.no_grad():\n",
    "            # true_dist = pred.data.clone()\n",
    "            true_dist = torch.zeros_like(pred)\n",
    "            true_dist.fill_(self.smoothing / (self.cls - 2))\n",
    "            true_dist.scatter_(1, target.data.unsqueeze(1), self.confidence)\n",
    "            true_dist[:, self.padding_idx] = 0\n",
    "            mask = torch.nonzero(target.data == self.padding_idx) #, as_tuple=False is redundant and causing error\n",
    "            if mask.dim() > 0:\n",
    "                true_dist.index_fill_(0, mask.squeeze(), 0.0)\n",
    "            \n",
    "        return torch.mean(torch.sum(-true_dist * pred, dim=self.dim))"
   ]
  },
  {
   "cell_type": "code",
   "execution_count": 25,
   "metadata": {
    "colab": {},
    "colab_type": "code",
    "id": "Sg257Gk_Kzzw"
   },
   "outputs": [],
   "source": [
    "from torchtext.data.metrics import bleu_score\n",
    "\n",
    "def bleu(valid_src_data, valid_trg_data, model, SRC, TRG, device, k, max_strlen):\n",
    "    pred_sents = []\n",
    "    for sentence in valid_src_data:\n",
    "        pred_trg = translate_sentence(sentence, model, SRC, TRG, device, k, max_strlen)\n",
    "        pred_sents.append(pred_trg)\n",
    "    \n",
    "    pred_sents = [TRG.preprocess(sent) for sent in pred_sents]\n",
    "    trg_sents = [[sent.split()] for sent in valid_trg_data]\n",
    "    \n",
    "    return bleu_score(pred_sents, trg_sents)"
   ]
  },
  {
   "cell_type": "code",
   "execution_count": 26,
   "metadata": {
    "colab": {},
    "colab_type": "code",
    "id": "Nhgu-SPTNQJL"
   },
   "outputs": [],
   "source": [
    "opt = {\n",
    "    'train_src_data':'/workspace/khoai23/opennmt/data/iwslt_en_vi/train.en',\n",
    "    'train_trg_data':'/workspace/khoai23/opennmt/data/iwslt_en_vi/train.vi',\n",
    "    'valid_src_data':'/workspace/khoai23/opennmt/data/iwslt_en_vi/tst2013.en',\n",
    "    'valid_trg_data':'/workspace/khoai23/opennmt/data/iwslt_en_vi/tst2013.vi',\n",
    "    'src_lang':'en', # useless atm\n",
    "    'trg_lang':'en',#'vi_spacy_model', # useless atm\n",
    "    'max_strlen':160,\n",
    "    'batchsize':1500,\n",
    "    'device':'cuda',\n",
    "    'd_model': 512,\n",
    "    'n_layers': 6,\n",
    "    'heads': 8,\n",
    "    'dropout': 0.1,\n",
    "    'lr':0.0001,\n",
    "    'epochs':30,\n",
    "    'printevery': 200,\n",
    "    'k':5,\n",
    "}"
   ]
  },
  {
   "cell_type": "code",
   "execution_count": null,
   "metadata": {
    "colab": {
     "base_uri": "https://localhost:8080/",
     "height": 88
    },
    "colab_type": "code",
    "id": "7HOay5MrNQJO",
    "outputId": "6e62c7f2-5be3-40e0-f69e-ce1c936e5023"
   },
   "outputs": [
    {
     "name": "stdout",
     "output_type": "stream",
     "text": [
      "Downloading...\n",
      "From: https://drive.google.com/uc?id=1Fuo_ALIFKlUvOPbK5rUA5OfAS2wKn_95\n",
      "To: /content/en_vi.zip\n",
      "10.1MB [00:00, 27.7MB/s]\n"
     ]
    }
   ],
   "source": [
    "os.makedirs('./data/', exist_ok=True)\n",
    "! gdown --id 1Fuo_ALIFKlUvOPbK5rUA5OfAS2wKn_95"
   ]
  },
  {
   "cell_type": "code",
   "execution_count": null,
   "metadata": {
    "colab": {
     "base_uri": "https://localhost:8080/",
     "height": 141
    },
    "colab_type": "code",
    "id": "NIWJTjdLNQJR",
    "outputId": "4dbd6512-6096-434e-ebf9-0cda852fc71e"
   },
   "outputs": [
    {
     "name": "stdout",
     "output_type": "stream",
     "text": [
      "Archive:  en_vi.zip\n",
      "  inflating: data/tst2013.en         \n",
      "  inflating: data/tst2012.vi         \n",
      "  inflating: data/train.en           \n",
      "  inflating: data/tst2013.vi         \n",
      "  inflating: data/train.vi           \n",
      "  inflating: data/tst2012.en         \n"
     ]
    }
   ],
   "source": [
    "! unzip -o en_vi.zip"
   ]
  },
  {
   "cell_type": "code",
   "execution_count": 36,
   "metadata": {},
   "outputs": [
    {
     "name": "stdout",
     "output_type": "stream",
     "text": [
      "Collecting en_core_web_sm==2.1.0 from https://github.com/explosion/spacy-models/releases/download/en_core_web_sm-2.1.0/en_core_web_sm-2.1.0.tar.gz#egg=en_core_web_sm==2.1.0\n",
      "\u001b[?25l  Downloading https://github.com/explosion/spacy-models/releases/download/en_core_web_sm-2.1.0/en_core_web_sm-2.1.0.tar.gz (11.1MB)\n",
      "\u001b[K    100% |████████████████████████████████| 11.1MB 4.4MB/s ta 0:00:01    48% |███████████████▋                | 5.4MB 470kB/s eta 0:00:13    52% |█████████████████               | 5.9MB 10.1MB/s eta 0:00:01    69% |██████████████████████▍         | 7.7MB 471kB/s eta 0:00:08\n",
      "\u001b[?25hInstalling collected packages: en-core-web-sm\n",
      "  Found existing installation: en-core-web-sm 2.3.1\n",
      "    Uninstalling en-core-web-sm-2.3.1:\n",
      "      Successfully uninstalled en-core-web-sm-2.3.1\n",
      "  Running setup.py install for en-core-web-sm ... \u001b[?25ldone\n",
      "\u001b[?25hSuccessfully installed en-core-web-sm-2.1.0\n",
      "\u001b[33mYou are using pip version 19.0.3, however version 20.2b1 is available.\n",
      "You should consider upgrading via the 'pip install --upgrade pip' command.\u001b[0m\n",
      "\u001b[38;5;2m✔ Download and installation successful\u001b[0m\n",
      "You can now load the model via spacy.load('en_core_web_sm')\n",
      "\u001b[38;5;2m✔ Linking successful\u001b[0m\n",
      "/home/khoai23/environment/lib/python3.5/site-packages/en_core_web_sm -->\n",
      "/home/khoai23/environment/lib/python3.5/site-packages/spacy/data/en\n",
      "You can now load the model via spacy.load('en')\n"
     ]
    }
   ],
   "source": [
    "!python -m spacy download en"
   ]
  },
  {
   "cell_type": "code",
   "execution_count": 42,
   "metadata": {},
   "outputs": [
    {
     "name": "stdout",
     "output_type": "stream",
     "text": [
      "Collecting spacy==2.1.0\n",
      "  Using cached https://files.pythonhosted.org/packages/5b/6e/f158d69b4f7ac298fb72d48abacf133c40f78beda8446cde1a973d8abedc/spacy-2.1.0-cp35-cp35m-manylinux1_x86_64.whl\n",
      "Requirement already satisfied: blis<0.3.0,>=0.2.2 in /home/khoai23/environment/lib/python3.5/site-packages (from spacy==2.1.0) (0.2.4)\n",
      "Requirement already satisfied: preshed<2.1.0,>=2.0.1 in /home/khoai23/environment/lib/python3.5/site-packages (from spacy==2.1.0) (2.0.1)\n",
      "Requirement already satisfied: numpy>=1.15.0 in /home/khoai23/environment/lib/python3.5/site-packages (from spacy==2.1.0) (1.18.5)\n",
      "Requirement already satisfied: jsonschema<3.0.0,>=2.6.0 in /home/khoai23/environment/lib/python3.5/site-packages (from spacy==2.1.0) (2.6.0)\n",
      "Requirement already satisfied: murmurhash<1.1.0,>=0.28.0 in /home/khoai23/environment/lib/python3.5/site-packages (from spacy==2.1.0) (1.0.2)\n",
      "Requirement already satisfied: plac<1.0.0,>=0.9.6 in /home/khoai23/environment/lib/python3.5/site-packages (from spacy==2.1.0) (0.9.6)\n",
      "Requirement already satisfied: wasabi<1.1.0,>=0.0.12 in /home/khoai23/environment/lib/python3.5/site-packages (from spacy==2.1.0) (0.7.1)\n",
      "Requirement already satisfied: thinc<7.1.0,>=7.0.2 in /home/khoai23/environment/lib/python3.5/site-packages (from spacy==2.1.0) (7.0.8)\n",
      "Requirement already satisfied: requests<3.0.0,>=2.13.0 in /home/khoai23/environment/lib/python3.5/site-packages (from spacy==2.1.0) (2.21.0)\n",
      "Requirement already satisfied: srsly<1.1.0,>=0.0.5 in /home/khoai23/environment/lib/python3.5/site-packages (from spacy==2.1.0) (1.0.2)\n",
      "Requirement already satisfied: cymem<2.1.0,>=2.0.2 in /home/khoai23/environment/lib/python3.5/site-packages (from spacy==2.1.0) (2.0.2)\n",
      "Requirement already satisfied: tqdm<5.0.0,>=4.10.0 in /home/khoai23/environment/lib/python3.5/site-packages (from thinc<7.1.0,>=7.0.2->spacy==2.1.0) (4.48.0)\n",
      "Requirement already satisfied: idna<2.9,>=2.5 in /home/khoai23/environment/lib/python3.5/site-packages (from requests<3.0.0,>=2.13.0->spacy==2.1.0) (2.8)\n",
      "Requirement already satisfied: certifi>=2017.4.17 in /home/khoai23/environment/lib/python3.5/site-packages (from requests<3.0.0,>=2.13.0->spacy==2.1.0) (2018.11.29)\n",
      "Requirement already satisfied: chardet<3.1.0,>=3.0.2 in /home/khoai23/environment/lib/python3.5/site-packages (from requests<3.0.0,>=2.13.0->spacy==2.1.0) (3.0.4)\n",
      "Requirement already satisfied: urllib3<1.25,>=1.21.1 in /home/khoai23/environment/lib/python3.5/site-packages (from requests<3.0.0,>=2.13.0->spacy==2.1.0) (1.24.1)\n",
      "\u001b[31mvi-spacy-model 0.2.1 has requirement spacy>=2.1.4, but you'll have spacy 2.1.0 which is incompatible.\u001b[0m\n",
      "Installing collected packages: spacy\n",
      "  Found existing installation: spacy 2.1.5\n",
      "    Uninstalling spacy-2.1.5:\n",
      "      Successfully uninstalled spacy-2.1.5\n",
      "Successfully installed spacy-2.1.0\n",
      "\u001b[33mYou are using pip version 19.0.3, however version 20.2b1 is available.\n",
      "You should consider upgrading via the 'pip install --upgrade pip' command.\u001b[0m\n"
     ]
    }
   ],
   "source": [
    "!pip install spacy==2.1.0"
   ]
  },
  {
   "cell_type": "code",
   "execution_count": 41,
   "metadata": {},
   "outputs": [
    {
     "name": "stdout",
     "output_type": "stream",
     "text": [
      "\u001b[2K\u001b[38;5;2m✔ Loaded compatibility table\u001b[0m\n",
      "\u001b[1m\n",
      "====================== Installed models (spaCy v2.1.5) ======================\u001b[0m\n",
      "\u001b[38;5;4mℹ spaCy installation:\n",
      "/home/khoai23/environment/lib/python3.5/site-packages/spacy\u001b[0m\n",
      "\n",
      "TYPE      NAME             MODEL            VERSION                            \n",
      "package   en-core-web-sm   en_core_web_sm   \u001b[38;5;2m2.1.0\u001b[0m   \u001b[38;5;2m✔\u001b[0m\n",
      "link      vi_spacy_model   vi_spacy_model   \u001b[38;5;1m0.2.1\u001b[0m   --> n/a       \n",
      "link      en               en_core_web_sm   \u001b[38;5;2m2.1.0\u001b[0m   \u001b[38;5;2m✔\u001b[0m\n",
      "\n",
      "The following models are not available for spaCy v2.1.5: vi_spacy_model\n",
      "You may also want to overwrite the incompatible links using the `python -m spacy\n",
      "link` command with `--force`, or remove them from the data directory. Data path:\n",
      "/home/khoai23/environment/lib/python3.5/site-packages/spacy/data\n"
     ]
    }
   ],
   "source": [
    "!python -m spacy validate"
   ]
  },
  {
   "cell_type": "code",
   "execution_count": 27,
   "metadata": {
    "colab": {
     "base_uri": "https://localhost:8080/",
     "height": 70
    },
    "colab_type": "code",
    "id": "IBotIB8pNQJU",
    "outputId": "12e472e9-08b7-451b-f89f-15d1c6df2e0b"
   },
   "outputs": [
    {
     "name": "stdout",
     "output_type": "stream",
     "text": [
      "creating dataset and iterator... \n",
      "creating dataset and iterator... \n"
     ]
    }
   ],
   "source": [
    "train_src_data, train_trg_data = read_data(opt['train_src_data'], opt['train_trg_data'])\n",
    "valid_src_data, valid_trg_data = read_data(opt['valid_src_data'], opt['valid_trg_data'])\n",
    "\n",
    "SRC, TRG = create_fields(opt['src_lang'], opt['trg_lang'])\n",
    "train_iter = create_dataset(train_src_data, train_trg_data, opt['max_strlen'], opt['batchsize'], opt['device'], SRC, TRG, istrain=True)\n",
    "valid_iter = create_dataset(valid_src_data, valid_trg_data, opt['max_strlen'], opt['batchsize'], opt['device'], SRC, TRG, istrain=False)"
   ]
  },
  {
   "cell_type": "code",
   "execution_count": 28,
   "metadata": {
    "colab": {},
    "colab_type": "code",
    "id": "Gnw9xrJeNQJX"
   },
   "outputs": [],
   "source": [
    "src_pad = SRC.vocab.stoi['<pad>']\n",
    "trg_pad = TRG.vocab.stoi['<pad>']"
   ]
  },
  {
   "cell_type": "code",
   "execution_count": 29,
   "metadata": {
    "colab": {},
    "colab_type": "code",
    "id": "5RccNL8VNQJd"
   },
   "outputs": [],
   "source": [
    "model = Transformer(len(SRC.vocab), len(TRG.vocab), opt['d_model'], opt['n_layers'], opt['heads'], opt['dropout'])\n",
    "\n",
    "for p in model.parameters():\n",
    "    if p.dim() > 1:\n",
    "        nn.init.xavier_uniform_(p)\n",
    "\n",
    "model = model.to(opt['device'])"
   ]
  },
  {
   "cell_type": "code",
   "execution_count": 34,
   "metadata": {
    "colab": {},
    "colab_type": "code",
    "id": "12debLGiNQJg"
   },
   "outputs": [],
   "source": [
    "\n",
    "optimizer = ScheduledOptim(\n",
    "        torch.optim.Adam(model.parameters(), betas=(0.9, 0.98), eps=1e-09),\n",
    "        0.2, opt['d_model'], 4000)\n",
    "\n",
    "criterion = LabelSmoothingLoss(len(TRG.vocab), padding_idx=trg_pad, smoothing=0.1)"
   ]
  },
  {
   "cell_type": "code",
   "execution_count": null,
   "metadata": {
    "colab": {
     "base_uri": "https://localhost:8080/",
     "height": 1000
    },
    "colab_type": "code",
    "id": "JeZqfQPANQJl",
    "outputId": "1ac374a6-7ce3-46da-fe7e-47a8463148ed"
   },
   "outputs": [
    {
     "name": "stdout",
     "output_type": "stream",
     "text": [
      "epoch: 000 - iter: 00199 - train loss: 5.2992 - time: 0.2305\n",
      "epoch: 000 - iter: 00399 - train loss: 5.1913 - time: 0.2626\n",
      "epoch: 000 - iter: 00599 - train loss: 5.1113 - time: 0.2492\n",
      "epoch: 000 - iter: 00799 - train loss: 5.0142 - time: 0.2636\n",
      "epoch: 000 - iter: 00999 - train loss: 4.9379 - time: 0.2351\n",
      "epoch: 000 - iter: 01199 - train loss: 4.8541 - time: 0.2155\n",
      "epoch: 000 - iter: 01399 - train loss: 4.7435 - time: 0.2543\n",
      "epoch: 000 - iter: 01599 - train loss: 4.7029 - time: 0.2048\n",
      "epoch: 000 - iter: 01799 - train loss: 4.5535 - time: 0.1794\n",
      "epoch: 000 - iter: 01999 - train loss: 4.5205 - time: 0.2525\n",
      "epoch: 000 - iter: 02199 - train loss: 4.4568 - time: 0.1931\n",
      "epoch: 000 - iter: 02399 - train loss: 4.4471 - time: 0.2575\n",
      "epoch: 000 - iter: 02471 - valid loss: 3.3094 - bleu score: 0.0644 - time: 233.8505\n",
      "epoch: 001 - iter: 00199 - train loss: 4.2529 - time: 0.2634\n",
      "epoch: 001 - iter: 00399 - train loss: 4.2319 - time: 0.2404\n",
      "epoch: 001 - iter: 00599 - train loss: 4.1919 - time: 0.2154\n",
      "epoch: 001 - iter: 00799 - train loss: 4.1198 - time: 0.2450\n",
      "epoch: 001 - iter: 00999 - train loss: 4.0848 - time: 0.2586\n",
      "epoch: 001 - iter: 01199 - train loss: 4.0059 - time: 0.2643\n",
      "epoch: 001 - iter: 01399 - train loss: 3.9860 - time: 0.2284\n",
      "epoch: 001 - iter: 01599 - train loss: 3.9579 - time: 0.2632\n",
      "epoch: 001 - iter: 01799 - train loss: 3.9192 - time: 0.2581\n",
      "epoch: 001 - iter: 01999 - train loss: 3.9076 - time: 0.2283\n",
      "epoch: 001 - iter: 02199 - train loss: 3.8651 - time: 0.2594\n",
      "epoch: 001 - iter: 02399 - train loss: 3.8166 - time: 0.2577\n",
      "epoch: 001 - iter: 02471 - valid loss: 2.9148 - bleu score: 0.1109 - time: 251.3486\n",
      "epoch: 002 - iter: 00199 - train loss: 3.6954 - time: 0.2557\n",
      "epoch: 002 - iter: 00399 - train loss: 3.6792 - time: 0.2352\n",
      "epoch: 002 - iter: 00599 - train loss: 3.6526 - time: 0.2217\n",
      "epoch: 002 - iter: 00799 - train loss: 3.6295 - time: 0.2444\n",
      "epoch: 002 - iter: 00999 - train loss: 3.6386 - time: 0.2525\n",
      "epoch: 002 - iter: 01199 - train loss: 3.6213 - time: 0.2244\n",
      "epoch: 002 - iter: 01399 - train loss: 3.6285 - time: 0.2529\n",
      "epoch: 002 - iter: 01599 - train loss: 3.6182 - time: 0.1696\n",
      "epoch: 002 - iter: 01799 - train loss: 3.5829 - time: 0.1686\n",
      "epoch: 002 - iter: 01999 - train loss: 3.5549 - time: 0.1709\n",
      "epoch: 002 - iter: 02199 - train loss: 3.5415 - time: 0.1690\n",
      "epoch: 002 - iter: 02399 - train loss: 3.5865 - time: 0.1720\n",
      "epoch: 002 - iter: 02471 - valid loss: 2.7485 - bleu score: 0.1333 - time: 243.2557\n",
      "epoch: 003 - iter: 00199 - train loss: 3.4033 - time: 0.1432\n",
      "epoch: 003 - iter: 00399 - train loss: 3.4215 - time: 0.1506\n",
      "epoch: 003 - iter: 00599 - train loss: 3.4306 - time: 0.1433\n",
      "epoch: 003 - iter: 00799 - train loss: 3.4348 - time: 0.1457\n",
      "epoch: 003 - iter: 00999 - train loss: 3.3976 - time: 0.1488\n",
      "epoch: 003 - iter: 01199 - train loss: 3.3753 - time: 0.1471\n",
      "epoch: 003 - iter: 01399 - train loss: 3.3612 - time: 0.1472\n",
      "epoch: 003 - iter: 01599 - train loss: 3.3739 - time: 0.1509\n",
      "epoch: 003 - iter: 01799 - train loss: 3.3840 - time: 0.1499\n",
      "epoch: 003 - iter: 01999 - train loss: 3.3629 - time: 0.1505\n",
      "epoch: 003 - iter: 02199 - train loss: 3.3840 - time: 0.1484\n",
      "epoch: 003 - iter: 02399 - train loss: 3.3640 - time: 0.1466\n",
      "epoch: 003 - iter: 02471 - valid loss: 2.6255 - bleu score: 0.1527 - time: 271.3772\n",
      "epoch: 004 - iter: 00199 - train loss: 3.2695 - time: 0.1456\n",
      "epoch: 004 - iter: 00399 - train loss: 3.2544 - time: 0.1468\n",
      "epoch: 004 - iter: 00599 - train loss: 3.2817 - time: 0.1478\n",
      "epoch: 004 - iter: 00799 - train loss: 3.2651 - time: 0.1474\n",
      "epoch: 004 - iter: 00999 - train loss: 3.2144 - time: 0.1469\n",
      "epoch: 004 - iter: 01199 - train loss: 3.2748 - time: 0.1484\n",
      "epoch: 004 - iter: 01399 - train loss: 3.2428 - time: 0.1449\n",
      "epoch: 004 - iter: 01599 - train loss: 3.2156 - time: 0.1452\n",
      "epoch: 004 - iter: 01799 - train loss: 3.2169 - time: 0.1481\n",
      "epoch: 004 - iter: 01999 - train loss: 3.2278 - time: 0.1518\n",
      "epoch: 004 - iter: 02199 - train loss: 3.2323 - time: 0.1534\n",
      "epoch: 004 - iter: 02399 - train loss: 3.2346 - time: 0.1561\n",
      "epoch: 004 - iter: 02471 - valid loss: 2.5731 - bleu score: 0.1590 - time: 265.2513\n",
      "epoch: 005 - iter: 00199 - train loss: 3.1246 - time: 0.1460\n",
      "epoch: 005 - iter: 00999 - train loss: 3.1043 - time: 0.1501\n",
      "epoch: 005 - iter: 01199 - train loss: 3.1395 - time: 0.1447\n",
      "epoch: 005 - iter: 01399 - train loss: 3.1232 - time: 0.1443\n",
      "epoch: 005 - iter: 01599 - train loss: 3.1221 - time: 0.1482\n",
      "epoch: 005 - iter: 01799 - train loss: 3.1361 - time: 0.1498\n",
      "epoch: 005 - iter: 01999 - train loss: 3.1402 - time: 0.1457\n",
      "epoch: 005 - iter: 02199 - train loss: 3.1478 - time: 0.1486\n",
      "epoch: 005 - iter: 02399 - train loss: 3.1589 - time: 0.1490\n",
      "epoch: 005 - iter: 02471 - valid loss: 2.5283 - bleu score: 0.1661 - time: 269.6148\n",
      "epoch: 006 - iter: 00199 - train loss: 3.0311 - time: 0.2326\n",
      "epoch: 006 - iter: 00399 - train loss: 3.0167 - time: 0.1913\n",
      "epoch: 006 - iter: 00599 - train loss: 3.0597 - time: 0.1680\n",
      "epoch: 006 - iter: 00799 - train loss: 3.0471 - time: 0.2175\n",
      "epoch: 006 - iter: 00999 - train loss: 3.0556 - time: 0.2214\n",
      "epoch: 006 - iter: 01199 - train loss: 3.0675 - time: 0.2555\n",
      "epoch: 006 - iter: 01399 - train loss: 3.0611 - time: 0.2107\n",
      "epoch: 006 - iter: 01599 - train loss: 3.0455 - time: 0.2556\n",
      "epoch: 006 - iter: 01799 - train loss: 3.0675 - time: 0.2394\n",
      "epoch: 006 - iter: 01999 - train loss: 3.0701 - time: 0.2256\n",
      "epoch: 006 - iter: 02199 - train loss: 3.0510 - time: 0.2142\n",
      "epoch: 006 - iter: 02399 - train loss: 3.0425 - time: 0.2553\n",
      "epoch: 006 - iter: 02471 - valid loss: 2.5102 - bleu score: 0.1656 - time: 263.1538\n",
      "epoch: 007 - iter: 00199 - train loss: 2.9678 - time: 0.2062\n",
      "epoch: 007 - iter: 00399 - train loss: 2.9653 - time: 0.1852\n",
      "epoch: 007 - iter: 00599 - train loss: 3.0013 - time: 0.1791\n",
      "epoch: 007 - iter: 00799 - train loss: 2.9675 - time: 0.2481\n",
      "epoch: 007 - iter: 00999 - train loss: 2.9693 - time: 0.2454\n",
      "epoch: 007 - iter: 01199 - train loss: 2.9990 - time: 0.2524\n",
      "epoch: 007 - iter: 01399 - train loss: 3.0086 - time: 0.2556\n",
      "epoch: 007 - iter: 01599 - train loss: 3.0053 - time: 0.2463\n",
      "epoch: 007 - iter: 01799 - train loss: 2.9820 - time: 0.2542\n",
      "epoch: 007 - iter: 01999 - train loss: 2.9635 - time: 0.2484\n",
      "epoch: 007 - iter: 02199 - train loss: 2.9674 - time: 0.2571\n",
      "epoch: 007 - iter: 02399 - train loss: 2.9797 - time: 0.2488\n",
      "epoch: 007 - iter: 02471 - valid loss: 2.4906 - bleu score: 0.1714 - time: 270.5283\n",
      "epoch: 008 - iter: 00199 - train loss: 2.8948 - time: 0.1405\n",
      "epoch: 008 - iter: 00399 - train loss: 2.8805 - time: 0.1482\n",
      "epoch: 008 - iter: 00599 - train loss: 2.9152 - time: 0.1477\n",
      "epoch: 008 - iter: 00799 - train loss: 2.9083 - time: 0.1444\n",
      "epoch: 008 - iter: 00999 - train loss: 2.9305 - time: 0.1511\n",
      "epoch: 008 - iter: 01199 - train loss: 2.9334 - time: 0.1489\n",
      "epoch: 008 - iter: 01399 - train loss: 2.9353 - time: 0.1493\n",
      "epoch: 008 - iter: 01599 - train loss: 2.9312 - time: 0.1471\n",
      "epoch: 008 - iter: 01799 - train loss: 2.9323 - time: 0.1531\n",
      "epoch: 008 - iter: 01999 - train loss: 2.9380 - time: 0.1447\n",
      "epoch: 008 - iter: 02199 - train loss: 2.9429 - time: 0.1478\n",
      "epoch: 008 - iter: 02399 - train loss: 2.9174 - time: 0.1477\n",
      "epoch: 008 - iter: 02471 - valid loss: 2.4790 - bleu score: 0.1725 - time: 269.9071\n",
      "epoch: 009 - iter: 00199 - train loss: 2.8593 - time: 0.2466\n",
      "epoch: 009 - iter: 00399 - train loss: 2.8722 - time: 0.2481\n",
      "epoch: 009 - iter: 00599 - train loss: 2.8916 - time: 0.2201\n",
      "epoch: 009 - iter: 00799 - train loss: 2.8773 - time: 0.2549\n",
      "epoch: 009 - iter: 00999 - train loss: 2.8645 - time: 0.2056\n",
      "epoch: 009 - iter: 01199 - train loss: 2.8367 - time: 0.1932\n",
      "epoch: 009 - iter: 01399 - train loss: 2.8666 - time: 0.2115\n",
      "epoch: 009 - iter: 01599 - train loss: 2.8682 - time: 0.2101\n",
      "epoch: 009 - iter: 01799 - train loss: 2.8972 - time: 0.2278\n",
      "epoch: 009 - iter: 01999 - train loss: 2.8921 - time: 0.2138\n",
      "epoch: 009 - iter: 02199 - train loss: 2.8446 - time: 0.1885\n",
      "epoch: 009 - iter: 02399 - train loss: 2.8866 - time: 0.2506\n",
      "epoch: 009 - iter: 02471 - valid loss: 2.4678 - bleu score: 0.1788 - time: 273.1379\n",
      "epoch: 010 - iter: 00199 - train loss: 2.7947 - time: 0.2492\n",
      "epoch: 010 - iter: 00399 - train loss: 2.8033 - time: 0.2427\n",
      "epoch: 010 - iter: 00599 - train loss: 2.8369 - time: 0.2155\n",
      "epoch: 010 - iter: 00799 - train loss: 2.8521 - time: 0.2114\n"
     ]
    },
    {
     "name": "stdout",
     "output_type": "stream",
     "text": [
      "epoch: 010 - iter: 00999 - train loss: 2.8312 - time: 0.1967\n",
      "epoch: 010 - iter: 01199 - train loss: 2.8240 - time: 0.1723\n",
      "epoch: 010 - iter: 01399 - train loss: 2.8179 - time: 0.2136\n",
      "epoch: 010 - iter: 01599 - train loss: 2.8564 - time: 0.2163\n",
      "epoch: 010 - iter: 01799 - train loss: 2.8203 - time: 0.2532\n",
      "epoch: 010 - iter: 01999 - train loss: 2.8163 - time: 0.2559\n",
      "epoch: 010 - iter: 02199 - train loss: 2.8205 - time: 0.2539\n",
      "epoch: 010 - iter: 02399 - train loss: 2.8505 - time: 0.2555\n",
      "epoch: 010 - iter: 02471 - valid loss: 2.4613 - bleu score: 0.1766 - time: 272.2654\n",
      "epoch: 011 - iter: 00199 - train loss: 2.7544 - time: 0.2477\n",
      "epoch: 011 - iter: 00399 - train loss: 2.7491 - time: 0.2467\n",
      "epoch: 011 - iter: 00599 - train loss: 2.7782 - time: 0.2109\n",
      "epoch: 011 - iter: 00799 - train loss: 2.7838 - time: 0.2518\n",
      "epoch: 011 - iter: 00999 - train loss: 2.7765 - time: 0.2503\n",
      "epoch: 011 - iter: 01199 - train loss: 2.7870 - time: 0.2003\n",
      "epoch: 011 - iter: 01399 - train loss: 2.7914 - time: 0.2409\n",
      "epoch: 011 - iter: 01599 - train loss: 2.8117 - time: 0.2486\n",
      "epoch: 011 - iter: 01799 - train loss: 2.8053 - time: 0.2077\n",
      "epoch: 011 - iter: 01999 - train loss: 2.8007 - time: 0.2546\n",
      "epoch: 011 - iter: 02199 - train loss: 2.8215 - time: 0.2406\n"
     ]
    }
   ],
   "source": [
    "import time\n",
    "\n",
    "for epoch in range(opt['epochs']):\n",
    "    total_loss = 0\n",
    "    \n",
    "    for i, batch in enumerate(train_iter): \n",
    "        s = time.time()\n",
    "        loss = step(model, optimizer, batch, criterion)\n",
    "        \n",
    "        total_loss += loss\n",
    "        \n",
    "        if (i + 1) % opt['printevery'] == 0:\n",
    "            avg_loss = total_loss/opt['printevery']\n",
    "            print('epoch: {:03d} - iter: {:05d} - train loss: {:.4f} - time: {:.4f}'.format(epoch, i, avg_loss, time.time()- s))\n",
    "            total_loss = 0\n",
    "\n",
    "    s = time.time()\n",
    "    valid_loss = validiate(model, valid_iter, criterion)\n",
    "    bleuscore = bleu(valid_src_data[:500], valid_trg_data[:500], model, SRC, TRG, opt['device'], opt['k'], opt['max_strlen'])\n",
    "    print('epoch: {:03d} - iter: {:05d} - valid loss: {:.4f} - bleu score: {:.4f} - time: {:.4f}'.format(epoch, i, valid_loss, bleuscore, time.time() - s))\n",
    "    "
   ]
  },
  {
   "cell_type": "code",
   "execution_count": 38,
   "metadata": {
    "colab": {},
    "colab_type": "code",
    "id": "v5E8G0-8QFbj"
   },
   "outputs": [
    {
     "data": {
      "text/plain": [
       "0.1835270685125319"
      ]
     },
     "execution_count": 38,
     "metadata": {},
     "output_type": "execute_result"
    }
   ],
   "source": [
    "bleu(valid_src_data, valid_trg_data, model, SRC, TRG, opt['device'], opt['k'], opt['max_strlen'])"
   ]
  },
  {
   "cell_type": "code",
   "execution_count": 39,
   "metadata": {
    "colab": {
     "base_uri": "https://localhost:8080/",
     "height": 35
    },
    "colab_type": "code",
    "id": "0CwtdJeUNQJo",
    "outputId": "190c4a93-436a-4b00-832b-ae8f4c183fe4"
   },
   "outputs": [
    {
     "data": {
      "text/plain": [
       "'gia đình tôi không nghèo, và bản thân tôi, tôi chưa bao giờ trải nghiệm sự đói.'"
      ]
     },
     "execution_count": 39,
     "metadata": {},
     "output_type": "execute_result"
    }
   ],
   "source": [
    "sentence='My family was not poor , and myself , I had never experienced hunger .'\n",
    "trans_sent = translate_sentence(sentence, model, SRC, TRG, opt['device'], opt['k'], opt['max_strlen'])\n",
    "trans_sent"
   ]
  },
  {
   "cell_type": "markdown",
   "metadata": {
    "colab_type": "text",
    "id": "A7UYpmmqj31m"
   },
   "source": [
    "# Visualize"
   ]
  },
  {
   "cell_type": "markdown",
   "metadata": {
    "colab_type": "text",
    "id": "ubjbXZIbjn2l"
   },
   "source": [
    "Nếu các bạn không muốn train tốn thời gian thì có thể sử dụng uncomment để download model mình đã train nhé."
   ]
  },
  {
   "cell_type": "code",
   "execution_count": null,
   "metadata": {
    "colab": {},
    "colab_type": "code",
    "id": "SuqS-kD90jbQ"
   },
   "outputs": [],
   "source": [
    "# ! gdown --id 1Ty1bGrd0sCwEqXhsoViCUaNKa3lFwmPH\n",
    "# model.load_state_dict(torch.load('./transformer.pth'))"
   ]
  },
  {
   "cell_type": "code",
   "execution_count": 40,
   "metadata": {
    "colab": {},
    "colab_type": "code",
    "id": "vHeTea84_bDP"
   },
   "outputs": [],
   "source": [
    "import seaborn\n",
    "import matplotlib.pyplot as plt\n",
    "\n",
    "def draw(data, x, y, ax):\n",
    "    seaborn.heatmap(data, \n",
    "                    xticklabels=x, square=True, yticklabels=y, vmin=0.0, vmax=1.0, \n",
    "                    cbar=False, ax=ax, annot=False)"
   ]
  },
  {
   "cell_type": "markdown",
   "metadata": {
    "colab_type": "text",
    "id": "izoCgA3zNR2i"
   },
   "source": [
    "# Visualize Encoder\n",
    "Dùng heatmap để visualize giá trị attention sẽ cho chúng ta biết khi encode một câu mô hình chú ý từ gì ở lân cận"
   ]
  },
  {
   "cell_type": "code",
   "execution_count": 41,
   "metadata": {
    "colab": {
     "base_uri": "https://localhost:8080/",
     "height": 1000
    },
    "colab_type": "code",
    "id": "rV57CMAZ9XR8",
    "outputId": "f88e1760-07c7-4d0a-a557-e78f24cd3a75"
   },
   "outputs": [
    {
     "name": "stdout",
     "output_type": "stream",
     "text": [
      "Encoder Layer 2\n"
     ]
    },
    {
     "data": {
      "image/png": "[encoded data removed]",
      "text/plain": [
       "<Figure size 2160x1080 with 4 Axes>"
      ]
     },
     "metadata": {
      "needs_background": "light"
     },
     "output_type": "display_data"
    },
    {
     "name": "stdout",
     "output_type": "stream",
     "text": [
      "Encoder Layer 4\n"
     ]
    },
    {
     "data": {
      "image/png": "[encoded data removed]",
      "text/plain": [
       "<Figure size 2160x1080 with 4 Axes>"
      ]
     },
     "metadata": {
      "needs_background": "light"
     },
     "output_type": "display_data"
    },
    {
     "name": "stdout",
     "output_type": "stream",
     "text": [
      "Encoder Layer 6\n"
     ]
    },
    {
     "data": {
      "image/png": "[encoded data removed]",
      "text/plain": [
       "<Figure size 2160x1080 with 4 Axes>"
      ]
     },
     "metadata": {
      "needs_background": "light"
     },
     "output_type": "display_data"
    }
   ],
   "source": [
    "sent = SRC.preprocess(sentence)\n",
    "\n",
    "for layer in range(1, 6, 2):\n",
    "    fig, axs = plt.subplots(1,4, figsize=(30, 15))\n",
    "    print(\"Encoder Layer\", layer+1)\n",
    "    for h in range(4):\n",
    "        draw(model.encoder.layers[layer].attn.attn[0, h].data.cpu(), \n",
    "            sent, sent if h ==0 else [], ax=axs[h])\n",
    "    plt.show()"
   ]
  },
  {
   "cell_type": "markdown",
   "metadata": {
    "colab_type": "text",
    "id": "0M4_pHeqNkr1"
   },
   "source": [
    "# Visualize Decoder\n",
    "Ở decoder, các bạn có 2 loại visualization\n",
    "* self attention: giá trị attention khi mô hình decoder mã hóa câu đích lúc dịch\n",
    "* src attention: giá trị attention khi mô hình decoder sử dụng câu src"
   ]
  },
  {
   "cell_type": "code",
   "execution_count": 42,
   "metadata": {
    "colab": {
     "base_uri": "https://localhost:8080/",
     "height": 2280
    },
    "colab_type": "code",
    "id": "miQbM9X9-FD7",
    "outputId": "36fd4cb6-f811-4352-edd3-a8d6ce0648f7"
   },
   "outputs": [
    {
     "name": "stdout",
     "output_type": "stream",
     "text": [
      "Decoder Self Layer 2\n"
     ]
    },
    {
     "data": {
      "image/png": "[encoded data removed]",
      "text/plain": [
       "<Figure size 1440x720 with 4 Axes>"
      ]
     },
     "metadata": {
      "needs_background": "light"
     },
     "output_type": "display_data"
    },
    {
     "name": "stdout",
     "output_type": "stream",
     "text": [
      "Decoder Src Layer 2\n"
     ]
    },
    {
     "data": {
      "image/png": "[encoded data removed]",
      "text/plain": [
       "<Figure size 1440x720 with 4 Axes>"
      ]
     },
     "metadata": {
      "needs_background": "light"
     },
     "output_type": "display_data"
    },
    {
     "name": "stdout",
     "output_type": "stream",
     "text": [
      "Decoder Self Layer 4\n"
     ]
    },
    {
     "data": {
      "image/png": "[encoded data removed]",
      "text/plain": [
       "<Figure size 1440x720 with 4 Axes>"
      ]
     },
     "metadata": {
      "needs_background": "light"
     },
     "output_type": "display_data"
    },
    {
     "name": "stdout",
     "output_type": "stream",
     "text": [
      "Decoder Src Layer 4\n"
     ]
    },
    {
     "data": {
      "image/png": "[encoded data removed]",
      "text/plain": [
       "<Figure size 1440x720 with 4 Axes>"
      ]
     },
     "metadata": {
      "needs_background": "light"
     },
     "output_type": "display_data"
    },
    {
     "name": "stdout",
     "output_type": "stream",
     "text": [
      "Decoder Self Layer 6\n"
     ]
    },
    {
     "data": {
      "image/png": "[encoded data removed]",
      "text/plain": [
       "<Figure size 1440x720 with 4 Axes>"
      ]
     },
     "metadata": {
      "needs_background": "light"
     },
     "output_type": "display_data"
    },
    {
     "name": "stdout",
     "output_type": "stream",
     "text": [
      "Decoder Src Layer 6\n"
     ]
    },
    {
     "data": {
      "image/png": "[encoded data removed]",
      "text/plain": [
       "<Figure size 1440x720 with 4 Axes>"
      ]
     },
     "metadata": {
      "needs_background": "light"
     },
     "output_type": "display_data"
    }
   ],
   "source": [
    "trg_sent = ['<sos>'] + TRG.preprocess(trans_sent)\n",
    "\n",
    "for layer in range(1, 6, 2):\n",
    "    fig, axs = plt.subplots(1,4, figsize=(20, 10))\n",
    "    print(\"Decoder Self Layer\", layer+1)\n",
    "    for h in range(4):\n",
    "        draw(model.decoder.layers[layer].attn_1.attn[0, h].data[:len(trg_sent), :len(trg_sent)].cpu(), \n",
    "            trg_sent, trg_sent if h ==0 else [], ax=axs[h])\n",
    "    plt.show()\n",
    "    print(\"Decoder Src Layer\", layer+1)\n",
    "    fig, axs = plt.subplots(1,4, figsize=(20, 10))\n",
    "    for h in range(4):\n",
    "        draw(model.decoder.layers[layer].attn_2.attn[0, h].data[:len(trg_sent), :len(sent)].cpu(), \n",
    "            sent, trg_sent if h ==0 else [], ax=axs[h])\n",
    "    plt.show()"
   ]
  },
  {
   "cell_type": "code",
   "execution_count": null,
   "metadata": {
    "colab": {},
    "colab_type": "code",
    "id": "s_-5cGJYKiUq"
   },
   "outputs": [],
   "source": []
  }
 ],
 "metadata": {
  "accelerator": "GPU",
  "colab": {
   "name": "transformer.ipynb",
   "provenance": []
  },
  "kernelspec": {
   "display_name": "Python 3",
   "language": "python",
   "name": "python3"
  },
  "language_info": {
   "codemirror_mode": {
    "name": "ipython",
    "version": 3
   },
   "file_extension": ".py",
   "mimetype": "text/x-python",
   "name": "python",
   "nbconvert_exporter": "python",
   "pygments_lexer": "ipython3",
   "version": "3.5.2"
  }
 },
 "nbformat": 4,
 "nbformat_minor": 1
}
